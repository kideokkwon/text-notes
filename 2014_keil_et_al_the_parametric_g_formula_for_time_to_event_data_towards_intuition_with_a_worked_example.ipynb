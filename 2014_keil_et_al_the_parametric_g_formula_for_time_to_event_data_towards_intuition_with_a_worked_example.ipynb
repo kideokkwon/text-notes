{
  "nbformat": 4,
  "nbformat_minor": 0,
  "metadata": {
    "colab": {
      "provenance": [],
      "authorship_tag": "ABX9TyPPD6YuBJCh5ntCdlM9wI+q"
    },
    "kernelspec": {
      "name": "python3",
      "display_name": "Python 3"
    },
    "language_info": {
      "name": "python"
    }
  },
  "cells": [
    {
      "cell_type": "markdown",
      "source": [
        "# (Keil et al., 2015) The parametric G-formula for time-to-event data: towards intuition with a worked example"
      ],
      "metadata": {
        "id": "e2nTsORoTlL8"
      }
    },
    {
      "cell_type": "markdown",
      "source": [
        "[Link](https://www.ncbi.nlm.nih.gov/pmc/articles/PMC4310506/)"
      ],
      "metadata": {
        "id": "O4LSwU6lTlOW"
      }
    },
    {
      "cell_type": "markdown",
      "source": [
        "# Abstract"
      ],
      "metadata": {
        "id": "gLoFp02BTlQS"
      }
    },
    {
      "cell_type": "markdown",
      "source": [
        "The parametric g-formula can be used to estimate the effect of a policy, intervention, or treatment. Unlike standard regression approaches, the parametric g-formula can be used to adjust for time-varying confounders that are affected by prior exposures."
      ],
      "metadata": {
        "id": "OM5ZGyAdTuv-"
      }
    },
    {
      "cell_type": "markdown",
      "source": [
        "# Introduction"
      ],
      "metadata": {
        "id": "G84LQ_A9Tuyl"
      }
    },
    {
      "cell_type": "markdown",
      "source": [
        "Epidemiologists often use regression models (for example, Cox proportional hazards model) to adjust for confounding; this is equivalent to estimating stratum-specific hazard ratios and then averaging the information-weighted hazard ratios. When some of these confounders are also causal intermediates (i.e., mediator), this amounts to adjusting away some of the effects of exposure.\n",
        "\n",
        "The $g$-formula works differently: first, one finds weighted averages of the stratum-specific hazards, and then those averaged (standardized) hazards are combined in a summary hazard ratio. Thus, bias resulting from time-varying confounders that can be both confounders and causal intermediates is a shortcoming of using regression models to control for confounding, rather than a general principle of observational data analysis. The g-formula is a tool that overcomes this shortcomings, but its use in the literature has been sparse."
      ],
      "metadata": {
        "id": "rH1M7-xxTu0h"
      }
    },
    {
      "cell_type": "markdown",
      "source": [
        "# Methods"
      ],
      "metadata": {
        "id": "9yYSMuCCUHN-"
      }
    },
    {
      "cell_type": "markdown",
      "source": [
        "## The g-formula"
      ],
      "metadata": {
        "id": "Od9EPyH9ZaJ4"
      }
    },
    {
      "cell_type": "markdown",
      "source": [
        "Using regression methods to control confounding requires making the assumption that the effect measure is constant across levels of confounding included in the model.\n",
        "\n",
        "Alternatively, standardization allows us to obtain an unconfounded summary effect measure without requiring this assumption. The g-formula is a generalization of standardization and can be expressed similarly.\n",
        "\n",
        "For example, the 10-year risk of death for a group of individuals, standardized across some dichotomous risk factor $Z$ could be expressed as\n",
        "\n",
        "$$\\Pr (death=1)=\\sum_z\\Pr(death=1|Z=z)\\Pr (Z=z)$$\n",
        "\n",
        "where $\\sum_Z$ indicates that we are summing over each possible value of $Z$, and $\\Pr (Z=z)$ is the probability that $Z$ takes on the value $z$ in the reference population."
      ],
      "metadata": {
        "id": "IF7K0sCfZaMN"
      }
    },
    {
      "cell_type": "markdown",
      "source": [
        "## The parametric g-formula"
      ],
      "metadata": {
        "id": "0WH0ocK8dM7J"
      }
    },
    {
      "cell_type": "markdown",
      "source": [
        "As the dataset gets larger, it becomes more realistic to rely on the parametric g-formula."
      ],
      "metadata": {
        "id": "IzOjqYkRdNRh"
      }
    },
    {
      "cell_type": "markdown",
      "source": [
        "## \"Illustrative\" example"
      ],
      "metadata": {
        "id": "MPmrMhsDUHQU"
      }
    },
    {
      "cell_type": "markdown",
      "source": [
        "We use the parametric g-formula to estimate the hazard ratio comparing mortality in a cohort of bone marrow transplant recipients under different treatments by a hypothetical drug that prevents graft-versus-host disease."
      ],
      "metadata": {
        "id": "S4E4cdnLeRUu"
      }
    }
  ]
}