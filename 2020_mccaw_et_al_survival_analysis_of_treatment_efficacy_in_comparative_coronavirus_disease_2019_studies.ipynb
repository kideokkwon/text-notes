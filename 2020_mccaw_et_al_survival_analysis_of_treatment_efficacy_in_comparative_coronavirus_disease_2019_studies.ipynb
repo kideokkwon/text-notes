{
  "nbformat": 4,
  "nbformat_minor": 0,
  "metadata": {
    "colab": {
      "provenance": [],
      "authorship_tag": "ABX9TyPBwlZqo7hI7MbS1jTlCNp0"
    },
    "kernelspec": {
      "name": "python3",
      "display_name": "Python 3"
    },
    "language_info": {
      "name": "python"
    }
  },
  "cells": [
    {
      "cell_type": "markdown",
      "source": [
        "# (2020) Survival Analysis of Treatment Efficacy in Comparative Coronavirus Disease 2019 Studies"
      ],
      "metadata": {
        "id": "iYBMtJTs4S9r"
      }
    },
    {
      "cell_type": "markdown",
      "source": [
        "[Link](https://www.ncbi.nlm.nih.gov/pmc/articles/PMC7665361/)"
      ],
      "metadata": {
        "id": "i9SZkfkN4TBn"
      }
    },
    {
      "cell_type": "markdown",
      "source": [
        "# Abstract"
      ],
      "metadata": {
        "id": "t0or5pZG4lD2"
      }
    },
    {
      "cell_type": "markdown",
      "source": [
        "For survival analysis in comparative coronavirus disease 2019 trials, the routinely used hazard ratio may not provide a meaningful summary of the treatment effect. The mean survival time difference / ratio is an intuitive, assumption-free alternative. However, for short-term studies, landmark mortality rate differences / ratios are more clinically relevant and should be formally analyzed and reported."
      ],
      "metadata": {
        "id": "q6tS-f4K4lJA"
      }
    },
    {
      "cell_type": "markdown",
      "source": [
        "# Main"
      ],
      "metadata": {
        "id": "P9U5Zd7Y4mL2"
      }
    },
    {
      "cell_type": "markdown",
      "source": [
        "In comparing a new therapy with standard care with respect to patient survival, 2 endpoints are routinely considered:\n",
        "1. binary indicator of whether the patient has survived across a specific time window: (e.g., 28 days) used to calculate the difference in '28-day morality rate'.\n",
        "> maybe like a difference in proportions?\n",
        "2. observed survival time: can be used to quantify how much the new treatment is expected to prolong a patient's survival across the 28 days of follow-up.\n",
        "\n",
        "These 2 approaches address different questions, and their statistical and/or clicnical implications regarding the treatment effect may not be exchangeable.\n",
        "\n",
        "For example, an HR of 0.83 is difficult to interpret clinically since hazard, which is the \"force of mortality\", is not a probability measure like risk. One cannot claim, for example, that dexamethasone reduced the risk of death by 17% across the study period.\n",
        "> Instead, I believe it is that it reduced the instantaneous hazard by 17%\n",
        "\n",
        "Moreover, it is not clear how to assess the survival benefit from a ratio alone; that is, without a reference hazard curve for standard care. Last, the validity of using the HR to assess the treatment effect depends ona strong proportional hazards assumption: that the ratio of the hazards from the dexamethasone and standard care groups is constant across time.\n",
        "\n",
        "The difference between the \"areas under the curve\" of the kaplan meier survival curves are more interpretable than the HR and requires no modeling assumptions for its validity.\n",
        "\n",
        "For example, the area under the curve of the 28-day survival curves was 23.8 vs 23.1. To learn more about testing formally the 23.8 vs 23.1, this is referred to as \"Restricted Mean Survival Time\" and can be read about at ([Kim et al., 2019](https://www.ncbi.nlm.nih.gov/pmc/articles/PMC6359932/))\n",
        "\n",
        "The HR is routinely used for assessing the treatment difference in survival analysis generally. Using the mean survival time difference across a specific time iwndow may assist us to interpret the treatment difference in a more intuitive manner. One of the reasons for using survival time as an endpoint is to increase the statistical power for detecting a treatment benefit. However, the power gain is not always guaranteed and an overall difference between the 2 survival curves does not necessarily imply a morality rate difference at a clinically meaningful time point."
      ],
      "metadata": {
        "id": "qyzQrTZZ4mN4"
      }
    },
    {
      "cell_type": "markdown",
      "source": [
        "# Conclusion"
      ],
      "metadata": {
        "id": "49-Cms7Q4mR8"
      }
    },
    {
      "cell_type": "markdown",
      "source": [
        "In conclusion, for short-term mortality studies, reporting formal statistical analysis of the mortality rate difference, either at a prespecified timepoint or at the end of the study period, is warranted. It is not sufficient to claim statistical or clinical evidence of a survival benefit on the basis of, for example, an HR or mean survival time difference alone. Since there is no single summary measure that can capture the entire survival profile, various summaries of the treatment effect should be considered simultaneously, with the emphasis on directly comparing mortality rates."
      ],
      "metadata": {
        "id": "WTtOVynX4mUL"
      }
    }
  ]
}