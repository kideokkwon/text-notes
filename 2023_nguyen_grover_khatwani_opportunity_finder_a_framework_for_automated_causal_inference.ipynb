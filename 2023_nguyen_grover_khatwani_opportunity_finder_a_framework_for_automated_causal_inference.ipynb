{
  "nbformat": 4,
  "nbformat_minor": 0,
  "metadata": {
    "colab": {
      "provenance": [],
      "authorship_tag": "ABX9TyOxzCVjKjPfRPxMNhJxE0zz"
    },
    "kernelspec": {
      "name": "python3",
      "display_name": "Python 3"
    },
    "language_info": {
      "name": "python"
    }
  },
  "cells": [
    {
      "cell_type": "markdown",
      "source": [
        "# OpportunityFinder: A Framework for Automated Causal Inference"
      ],
      "metadata": {
        "id": "Vy6I_GL-3pYH"
      }
    },
    {
      "cell_type": "markdown",
      "source": [
        "- [paper link](https://assets.amazon.science/64/f8/071f0d24476797333f0571270106/opportunityfinder-a-framework-for-automated-causal-inference.pdf)\n",
        "- [amazon science link](https://www.amazon.science/publications/opportunityfinder-a-framework-for-automated-causal-inference)\n",
        "\n",
        "**Note:** the below notes are in first person because it's easier to take notes that way (since the paper is 1st person). This is obvious but know that I had nothing to do with creating the paper!!\n"
      ],
      "metadata": {
        "id": "mXClHAFO3pai"
      }
    },
    {
      "cell_type": "markdown",
      "source": [
        "## Abstract"
      ],
      "metadata": {
        "id": "XtXM_urN3pc8"
      }
    },
    {
      "cell_type": "markdown",
      "source": [
        "A code-less framework for performing a variety of causal inference studies with panel data for non-expert users. Only requires users to provide raw observational data and a configuration file. A pipeline is then triggered that inspects/processes data, chooses suitable algorithm(s) to execute the causal study. It returns the causal impact of the treatment on the configured outcome, together with sensitivity and robustness results."
      ],
      "metadata": {
        "id": "TWZe7J2j48fJ"
      }
    },
    {
      "cell_type": "markdown",
      "source": [
        "## 1. Introduction"
      ],
      "metadata": {
        "id": "MJM9u-3f48hQ"
      }
    },
    {
      "cell_type": "markdown",
      "source": [
        "Automated machine learning (AutoML) frameworks have advanced significantly with introductions of AutoGluon, Auto-sklearn, H2O, etc. Their advantage is abstracting away the implementation of underlying algorithms and hyper-parameter tuning and making it easy to experiment with a large number of models and identify the one that works best.\n",
        "\n",
        "Causal inference is more challenging however as different methods rely on diffrent set of assumptions.\n",
        "\n",
        "Currently there is DoWhy (still a low level API) as well as AutoCausality, which is built on top of EconML and DoWhy. It supports hyperparameter tuning but assumes that the causal graph provided is accurate. Also, Neither support panel data, which is a mainstream at real-world problems.\n",
        "\n",
        "In OpportunityFinder (OPF), the decision to choose the algorithm is automated for both panel and cross-sectional data."
      ],
      "metadata": {
        "id": "ZxT-CXIF48jm"
      }
    },
    {
      "cell_type": "markdown",
      "source": [
        "## 2. Literature Review"
      ],
      "metadata": {
        "id": "bLm8DegR3pfW"
      }
    },
    {
      "cell_type": "markdown",
      "source": [
        "Traditional techniques such as PSM, IVs, and DiD often struggle to account for high-dimensional covariates and complex interactions. The Synthetic Control Method (SCM) extend these approaches as well as Generalized Synthetic Control (GSC) further expanding SCM via incorporating interactive fixed effects models.\n",
        "\n",
        "Recently, ML techniques have been widely integrated, such as DoubleML, EconML, CausalML. Double machine learning provides a flexible approach as well."
      ],
      "metadata": {
        "id": "EsYDvLFL7G5a"
      }
    },
    {
      "cell_type": "markdown",
      "source": [
        "## 3. Framework Design"
      ],
      "metadata": {
        "id": "AITcSbVV7G7z"
      }
    },
    {
      "cell_type": "markdown",
      "source": [
        "The key contribution of our design are:\n",
        "1. integration of several causal modeling methods\n",
        "2. branching based on type of observational data (cross-sectional vs panel) and number of treatment units\n",
        "3. execution in the users' own AWS environment"
      ],
      "metadata": {
        "id": "eYR9Mku67G96"
      }
    },
    {
      "cell_type": "markdown",
      "source": [
        "### 3.1 Data Requirements"
      ],
      "metadata": {
        "id": "vNNNzg2_7HAU"
      }
    },
    {
      "cell_type": "markdown",
      "source": [
        "Configuration file has optional requirements like list of features to scale or algorithms to choose. The mandatory requirements are columsn with time, unit id, outcome / treatment variables, etc."
      ],
      "metadata": {
        "id": "ZKqlr6P4B4I2"
      }
    },
    {
      "cell_type": "markdown",
      "source": [
        "### 3.2 Implementation Details"
      ],
      "metadata": {
        "id": "lHO0H5JuB4LF"
      }
    },
    {
      "cell_type": "markdown",
      "source": [
        "The decision of algorithm has two stages. The first stage is a set of rules, some examples being:\n",
        "- is the data panel or cross-sectional\n",
        "- total event data less or more than 500k?\n",
        "- how many time periods are available?\n",
        "- etc.,\n",
        "\n",
        "OPF also allows the transformation of panel data into cohorts (i.e., into cross-sectional data which allow for techniques like double machine learning).\n",
        "\n",
        "The following Causal Inference Models are the options available in OPF (that the algorithm will try to choose from):\n",
        "- Synthetic Control (SC) and Generalized Synthetic Control (GSC)\n",
        "- Double Machine Learning (DML)\n",
        "- Causal Forests\n",
        "- Neural Network based approaches\n",
        "- Meta Learners\n",
        "- Difference in Differences (DiD)\n",
        "- Propensity Score Matching (PSM)\n",
        "\n",
        "*Note: The paper claims that DML's are superior to PSM as it overcomes the limitations of PSM and is more robust. As I have not read about DML before, this may be something of interest to read up on. However, it is true that PSM has recognized scrutiny across the industry.\n",
        "\n",
        "DML models and their treatment effect estimation are validated through refutation tests by DoWhy package:\n",
        "- Add random common cause\n",
        "- Add unobserved common cause\n",
        "- Data subsets validation\n",
        "- Placebo Treatment\n",
        "\n",
        "GSC model is validated with a suite of sensitivity tests that check for changes in the estimated causal effect with small changes in data like:\n",
        "- random down-sampling\n",
        "- different pre-treatment window for learning synthetic control weights\n",
        "- reduced covariate list"
      ],
      "metadata": {
        "id": "DKsWg8yOB4NZ"
      }
    },
    {
      "cell_type": "markdown",
      "source": [
        "### 3.3 Limitations and Risks"
      ],
      "metadata": {
        "id": "8TL3u12FCSB-"
      }
    },
    {
      "cell_type": "markdown",
      "source": [
        "As of today, OPF does not implement causal graph generation algorithms."
      ],
      "metadata": {
        "id": "gAZ8rqK1CSEb"
      }
    },
    {
      "cell_type": "markdown",
      "source": [
        "## 4. Validation of Causal Estiamtes by OpportunityFinder"
      ],
      "metadata": {
        "id": "uxX4TH8VCSG9"
      }
    },
    {
      "cell_type": "markdown",
      "source": [
        "Validates causal inference algorithms on benchmark datasets using 3 metrics,\n",
        "\n",
        "1. ATE\n",
        "2. ATT\n",
        "3. MAE (mean absolute error), the average absolute difference between estimated ATE and true ATE where available for evaluating accuracy of a causal estimation method."
      ],
      "metadata": {
        "id": "0vprBaYoHhHs"
      }
    },
    {
      "cell_type": "markdown",
      "source": [
        "### 4.1 IHDP (public benchmark)"
      ],
      "metadata": {
        "id": "YT1LfMEqHhJ3"
      }
    },
    {
      "cell_type": "markdown",
      "source": [
        "Infant Health and Development Program"
      ],
      "metadata": {
        "id": "XR1RoBHFHhL0"
      }
    },
    {
      "cell_type": "markdown",
      "source": [
        "### 4.2 Smoking (public benchmark)"
      ],
      "metadata": {
        "id": "hFM65W6CHhOA"
      }
    },
    {
      "cell_type": "markdown",
      "source": [
        "Has only one treated unit, thus causal estimations based on machine learning (DML, NN) do not apply."
      ],
      "metadata": {
        "id": "k6LpIV_WH9Q3"
      }
    },
    {
      "cell_type": "markdown",
      "source": [
        "### 4.3 Synthetic Data 1: Cross Sectional"
      ],
      "metadata": {
        "id": "JL-mGq9tH9TD"
      }
    },
    {
      "cell_type": "markdown",
      "source": [
        "Generated using DoWhy."
      ],
      "metadata": {
        "id": "WYOdxA8OIYJl"
      }
    },
    {
      "cell_type": "markdown",
      "source": [
        "### 4.4 Synthetic Data 2: Large Panel"
      ],
      "metadata": {
        "id": "K9kY2-SBIYLs"
      }
    },
    {
      "cell_type": "markdown",
      "source": [
        "### 4.5 Discussion on Model Choice"
      ],
      "metadata": {
        "id": "EKDArMTxIh90"
      }
    },
    {
      "cell_type": "markdown",
      "source": [
        "So far with synthetic data, performs well. Will continue to iterate as NN models become more popular for causal inference."
      ],
      "metadata": {
        "id": "eE_tbuS9H9Ve"
      }
    },
    {
      "cell_type": "markdown",
      "source": [
        "## 5. Applications on Real World Data"
      ],
      "metadata": {
        "id": "mXNB0g-9IreP"
      }
    },
    {
      "cell_type": "markdown",
      "source": [
        "Has been used for uplift internally at Amazon. This is defined as the percentage increase/decrease in the outcome attributed to the treatment over a defined period. It is calculated as ATE or ATT divided by average over control units."
      ],
      "metadata": {
        "id": "0jKO6G9yJAFN"
      }
    },
    {
      "cell_type": "markdown",
      "source": [
        "## 6. Conclusion and Future Work"
      ],
      "metadata": {
        "id": "khOgTuGWJqgx"
      }
    },
    {
      "cell_type": "markdown",
      "source": [
        "Actively taking feature requests from current OPF users."
      ],
      "metadata": {
        "id": "2Y6RulGrJqi5"
      }
    }
  ]
}