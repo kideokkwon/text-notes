{
  "nbformat": 4,
  "nbformat_minor": 0,
  "metadata": {
    "colab": {
      "provenance": [],
      "authorship_tag": "ABX9TyMKyymmAqOgH3MFdUssB39H"
    },
    "kernelspec": {
      "name": "python3",
      "display_name": "Python 3"
    },
    "language_info": {
      "name": "python"
    }
  },
  "cells": [
    {
      "cell_type": "markdown",
      "source": [
        "# Chapter 2: Randomized Experiments"
      ],
      "metadata": {
        "id": "l_SgE54S-Uzl"
      }
    },
    {
      "cell_type": "markdown",
      "source": [
        "## 2.1 Randomization"
      ],
      "metadata": {
        "id": "l1tfXT39-U2T"
      }
    },
    {
      "cell_type": "markdown",
      "source": [
        "Neyman (1923) applied counterfactual theory to the estimation of causal effects via randomized experiments.\n",
        "\n",
        "*Randomized experiments*, like any other real world study, generate data with missing values of the counterfactual outcomes (since you cannot know both potential outcomes for the same person for treatment vs control). However, randomization ensures that those missing values occured by chance.\n",
        "\n",
        "*Exchangeability* means that the outcome chance for what would have happened to users if we had hypothetically given Treatment to the Control group versus the Treatment group would be the same. That is, $P[Y^a=1|A=1]=P[Y^a=1|A=0]$ for both $a=0,1$.\n",
        "\n",
        "Of-course, the above implies that $P[Y^a=1|A=1]=P[Y^a=1|A=0]=P[Y^a=1]$.\n",
        "\n",
        "Thus, this means that the actual treatment $A$ assignment does not predict the *counterfactual* outcome $Y^a$, which can be expressed as:\n",
        "\n",
        "*Exchangeability*:\n",
        "$$Y^a\\perp A\\text{ for all } a$$\n",
        "\n",
        "Randomization is so highly valued because it is expected to produce exchangeability.\n",
        "\n",
        "In some diciplines (e.g., economics), when the treated and untreated are exchangeable, we sometimes say that treatment is *exogenous*, thus is a synonym for exchangeability."
      ],
      "metadata": {
        "id": "mrO4mEI--U47"
      }
    },
    {
      "cell_type": "markdown",
      "source": [
        "## 2.2 Conditional Randomization"
      ],
      "metadata": {
        "id": "z4c9GNrS-U7i"
      }
    },
    {
      "cell_type": "markdown",
      "source": [
        "Instead of giving all users the same chance of receiving treatment, we could make it depend on some factor $L$, where a user in $L=1$ (e.g., a critical condition) may have a higher chance to randomly receive treatment $A=1$. This design is called a *conditionally randomized experiment*, while the previous design is a *marginally randomized experiment* because we use a single unconditional (i.e., marginal) randomization probability that is common to all individuals.\n",
        "\n",
        "We can compare the exchangeability condition for both marginal and conditional:\n",
        "\n",
        "**marginal exchangeability**:\n",
        "\n",
        "$$P[Y^a=1|A=1]=P[Y^a=1|A=0]\\text{ or }Y^a\\perp A\\text{ for all }a$$\n",
        "\n",
        "**conditional exchangeability**:\n",
        "\n",
        "$$P[Y^a=1|A=1,L]=P[Y^a=1|A=0,L]\\text{ or }Y^a\\perp A|L\\text{ for all }a$$\n",
        "\n",
        "Note that conditional exchangeability does not guarantee marginal exchangeability, although the converse is true.\n",
        "\n",
        "There are several ways to compute the average causal effect in the presense of $L$. They will all be discussed, but one that will only be covered in a later chapter (Ch.4) is *stratification*, which is where we compute the treatment effect for each subset of $L$ separately. If the stratum-specific causal risk ratio divvers by the value of $L$, we say that there is *effect modification* by $L$ or that there is *treatment effect heterogeneity* across levels of $L$.\n",
        "\n",
        "In the next 2 sections, we discuss ways to use data from conditionally randomized experiments to still compute the average causal effect in the entire population.\n"
      ],
      "metadata": {
        "id": "iFUW41lnJFrN"
      }
    },
    {
      "cell_type": "markdown",
      "source": [
        "## 2.3 Standardization"
      ],
      "metadata": {
        "id": "Kewtwh4mJFvQ"
      }
    },
    {
      "cell_type": "markdown",
      "source": [
        "Using *standardization*, the marginal counterfactual risk $P[Y^a=1]$ is the weighted average of the stratum-specific risks $P[Y^a=1|L=0]$ and $P[Y^a=1|L=1]$ with weights equal to the proportion of individuals in the population with $L=0$ and $L=1$, respectively.\n",
        "\n",
        "That is,\n",
        "$$P[Y^a=1]=\\sum_l P[Y^a=1|L=l]P[L=l]$$\n",
        "\n",
        "As we have seen previously, if we can assume conditional exchangebility, we can replace the counterfactual $P[Y^a=1|L=l]$ with the observed $P[Y=1|L=l,A=a]$."
      ],
      "metadata": {
        "id": "LEAvHM-GJFx_"
      }
    },
    {
      "cell_type": "markdown",
      "source": [
        "## 2.4 Inverse Probability Weighting"
      ],
      "metadata": {
        "id": "jQwel24W-U9f"
      }
    },
    {
      "cell_type": "markdown",
      "source": [
        "IPW is another method of calculating the marginal treatment causal effect when there is conditional exchangeability but no marginal exchangeability (aside from randomized experiments you will likely not often run into a scenario where you have marginal exchangeability).\n",
        "\n",
        "In IPW, we create two scenarios, one where all individuals were treated (split by $L$) as well as all individuals are untreated.\n",
        "\n",
        "Both simulations are pooled to create a hypothetical population in which every individual appears twice, once treated and once untreated. This hypothetical population is known as a *pseudo-population*. Under conditional exchangeability $Y^a\\perp A|L$, the untreated and untreated are unconditionally exchangeable in the pseudo-population because $L$ is independent of $A$. Now, to adjust for the doubled population, we use the weights to adjust the pseudo-population back to the scale of the original population.\n",
        "\n",
        "An individual's IP weight depends on the individual's values of treatment $A$ and covariate $L$. For example, a treated individual with $L=l$ receives the weight $1/P[A=1|L=1]$.\n",
        "\n",
        "The formula for an IP weight is:\n",
        "$$W^A=1/f[A|L]$$\n",
        "\n",
        "Note that standardization and IP weighting are mathematically equivalent. They can both be viewed as procedures to build a new tree in which all individuals receive treatment $a$. Each method uses a different set of probabilities to build the counterfactual tree:\n",
        "- IP weighting uses the conditional probability of treatment $A$ given the covariate $L$\n",
        "- standardization uses the probability of the covariate $L$ and the conditional probability of outcome $Y$ given $A$ and $L$.\n",
        "\n",
        "Some personal notes from me:\n",
        ">Personally speaking, I found the above explanation very difficult to understand when I was first reading about this a while back. I think an easier way to think about IPW intuitively is that yes, it is like standardization, but instead of just doing a weighted sum, think of it like the following: Each user has a different propensity to get treatment - by adjusting each user by the inverse of their propensity, we're sort of cancelling out everyone's individual likelihood of getting treatment so that we close the backdoor from the covariates to the treatment.\n",
        "\n",
        "If my above explanation is incorrect, please let me know!"
      ],
      "metadata": {
        "id": "tKReCsXsRog_"
      }
    }
  ]
}