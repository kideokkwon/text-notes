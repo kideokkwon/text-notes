{
  "nbformat": 4,
  "nbformat_minor": 0,
  "metadata": {
    "colab": {
      "provenance": [],
      "authorship_tag": "ABX9TyPagCSvjP02Y2IVM8Rr91Hv"
    },
    "kernelspec": {
      "name": "python3",
      "display_name": "Python 3"
    },
    "language_info": {
      "name": "python"
    }
  },
  "cells": [
    {
      "cell_type": "markdown",
      "source": [
        "# Chapter 21: G-methods for time-varying treatments"
      ],
      "metadata": {
        "id": "yUAh-_4kxOKu"
      }
    },
    {
      "cell_type": "markdown",
      "source": [
        "The solution to the bias of traditional methods in the presence of treatment-confounder feedback: the use of g-methods:\n",
        "- g-formula\n",
        "- IP weighting\n",
        "- g-estimation\n",
        "\n",
        "and their doubly-robust generalizations."
      ],
      "metadata": {
        "id": "s1JIxUDyxOPU"
      }
    },
    {
      "cell_type": "markdown",
      "source": [
        "## 21.1 The g-formula for time-varying treatments"
      ],
      "metadata": {
        "id": "aO3mSi4RxORo"
      }
    },
    {
      "cell_type": "markdown",
      "source": [
        "To recap the $g$-formula,\n",
        "\n",
        "If we were only interested in the effect of the time-fixed treatment $A_1$ (i.e., we wish to contrast the mean counterfactual outcomes $E[Y^{a_1=1}]$ and $E[Y^{a_1=0}]$.\n",
        "\n",
        "Under the identifiability conditions, each of the means $E[Y^{a_1}]$ is a weighted average of the mean outcome $E[Y|A_1=a_1,L_1=l_1]$ conditional on the (time-fixed) treatment and confounders.\n",
        "\n",
        "Specifically, $E[Y^{a_1}]$ equals the weighted average\n",
        "\n",
        "$$\\sum_{l_1}E[Y|A_1=a_1,L_1=l_1]f(l_1),\n",
        "\\text{ where }f(l_1)=\\Pr[L_1=l_1]$$\n",
        "\n",
        "This is because for these time-fixed treatments, only $L_1$ was needed to make the treated ($A_1=1$) and untreated ($A_1=0$) conditionally exchangeable.\n",
        "\n",
        "This weighted average is the g-formula for $E[Y^{a_1}]$: the mean outcome standardized to the distribution of the confounders ($L_1$) in the study population.\n",
        "\n",
        "However, for the sequentially randomized experiment we are discussing, the treatment $\\bar A=(A_0,A_1)$ is time-varying and has treatment-confounder feedback. We can use the g-formula to calculate the counterfactual means $E[Y^{a_0,a_1}]$ in a sequentially randomized experiment but the above expression needs to be generalized.\n",
        "\n",
        "The g-formula for $E[Y^{a_0,a_1}]$ under the identifiability conditions will still be a weighted average, but not it will be a weighted average of the mean outcome $E[Y|A_0=a_0,A_1=a_1,L_1=l_1]$ conditional on the time-varying treatment and confounders required to achieve sequential exchangeability.\n",
        "\n",
        "The weights are the distribution of the confounder $L_1$ given the past (in this case) values of treatment. This formula was first described by Robins (1986, 1987)\n",
        "\n",
        "$$\\sum_{l_1}E[Y|A_0=a_0,A_1=a_1,L_1=l_1]f(l_1|a_0)$$\n",
        "\n",
        "This formula equals $E[Y^{a_0,a_1}]$ under (static) sequential exchangeability for $Y^{a_0,a_1}$.\n",
        "\n",
        "Now we can also generalize the g-formula to high-dimensional settings with multiples times $k$. Then the g-formula is\n",
        "\n",
        "$$\\sum_{\\bar l}E[Y|\\bar A=\\bar a,\\bar L=\\bar l]\\prod_{k=0}^{K}f(l_k|\\bar a_{k-1},\\bar l_{k-1})$$\n",
        "\n",
        "where the sum is over all possible $\\bar l$-histories ($\\bar l_{k-1}$ is the history through time $k-1$).\n",
        "\n",
        "Naturally, the components of the g-formula cannot be directly computed if the data are high-dimensional. Thus the quantities $E[\\bar A=\\bar a,\\bar L=\\bar l]$ and $f(l_k|\\bar a_{k-1},\\bar l_{k-1})$ will need to be estimated."
      ],
      "metadata": {
        "id": "3GLqxbcxxOTv"
      }
    },
    {
      "cell_type": "markdown",
      "source": [
        "## 21.2 IP weighting for time-varying treatments"
      ],
      "metadata": {
        "id": "Soa5Rh3AyJBR"
      }
    },
    {
      "cell_type": "markdown",
      "source": [
        "To recap IP weighting,\n",
        "\n",
        "Suppose we are interested in the effect of a time-fixed treatment $A_1$. Then we would want to contrast the counterfactual mean outcomes $E[Y^{a_1=1}]$ and $E[Y^{a_1=0}]$.\n",
        "\n",
        "Under the identifiability conditions, each of the counterfactual means $E[Y^{a_1}]$ is the mean $E_{ps}[Y|A_1=a_1]$ in the pseudo-population created by the subject-specific non-stabilized weights $W^{A_1}=1/f(A_1|L_1)$ or the stabilized weights $SW^{A_1}=f(A_1)/f(A_1|L_1)$. The denominator of the IP weights is, informally, an individual's probability of receiving treatment value that they received, conditional on the individual's confounder values. One can estimate $E_{ps}[Y|A_1=a_1]$ from the observed study data by the average of $Y$ among subjects with $A_1=a_1$ in the pseudo-population.\n",
        "\n",
        "When treatment and confounders are time-varying, these IP weights for time-fixed treatments need to be generalized.\n",
        "\n",
        "For a time-varying treatment $\\bar A=(A_0,A_1)$ and time-varying covariates $\\bar L=(L_0,L_1)$ at two time points, the nonstabilized IP weights are\n",
        "\n",
        "$$W^{\\bar A}=\\frac{1}{f(A_0|L_0)}\\times\\frac{1}{f(A_1|A_0,L_0,L_1)}=\\prod_{k=0}^{1}\\frac{1}{f(A_k|\\bar A_{k-1},\\bar L_k)}$$\n",
        "\n",
        "and the stabilized IP weights are\n",
        "\n",
        "$$W^{\\bar A}=\\frac{f(A_0)}{f(A_0|L_0)}\\times\\frac{f(A_1|A_0)}{f(A_1|A_0,L_0,L_1)}=\\prod_{k=0}^{1}\\frac{f(A_k|\\bar A_{k-1})}{f(A_k|\\bar A_{k-1},\\bar L_k)}$$\n",
        "\n",
        "The denominator of the IP weights for a time-varying treatment is, informally, an individual's probability of receiving the treatment history that they received, conditional on the individual's treatment and covariate history.\n",
        "\n",
        "If we wish to contrast the counterfactual means $E[Y^{a_0=1,a_1=1}]$ and $E[Y^{a_0=0,a_1=0}]$, under the identifiability assumptions for static strategies, each counterfactual mean $E[Y^{a_0,a_1}]$ is the mean $E_{ps}[Y|A_0=a_0,A_1=a_1]$ in the pseudo-population created by the nonstabilized weights $W^{\\bar A}$ or the stabilized weights $SW^{\\bar A}$.\n",
        "\n",
        "That is, the IP weighted estimator of each counterfactual mean is the average of $Y$ among individuals with $\\bar A=(A_0,A_1)$ in the pseudo-population.\n",
        "\n",
        "Suppose that we obtain two estimates of $E[Y^{\\bar a}]$, one using the parametric g-formula and another one using IP weights estimated via parametric models, and that the two estimates differ by more than can be reasonbly explained by sampling variability. We can then conclude that at least one of them is misspecified. An implication is that one should always estimate $E[Y^{\\bar a}]$ using both methods and if the estimates differ substantially, reexamine all the models and modify them where necessary. In the next section we describe how doubly-robust estimators can help deal with model misspecification.\n",
        "\n",
        "It is not infrequent that the # of unknown quantities $E[Y^{\\bar a}]$ far exceeds the sample size. Thus we need to specify a model that combines information from many strategies to help estimate a given $E[Y^{\\bar a}]$.\n",
        "\n",
        "For example, we can hypothesize that the effect of treatment history $\\bar a$ on the mean outcome increases linearly as a function of the cumulative treatment $cum(\\bar a)=\\sum_{k=0}^{K}a_k$ under strategy $\\bar a$. In other words, as they get more treatments, the outcome goes up.\n",
        "\n",
        "This hypothesis is encoded in the marginal structural mean model\n",
        "\n",
        "$$E[Y^{\\bar a}]=\\beta_0+\\beta_1cum(\\bar a)$$\n",
        "\n",
        "for all $\\bar a$. There are $2^K$ different unknown quantities on the left side of the model but only 2 unknown parameters on the right side.\n",
        "\n",
        "(This marginal structural model is unsaturated. Remember, saturated models have an equal # of unknowns on both sides of the equation).\n",
        "\n",
        "The parameter $\\beta_1$ measures the average causal effect of the time-varying treatment $\\bar A$. The average causal effect $E[Y^{bar a}]-E[Y^{\\bar a=\\bar 0}]$ is equal to $\\beta_1\\times cum(\\bar a)$.\n",
        "\n",
        "To estimate the parameters of the marginal structural model, we can fit the linear regression model\n",
        "\n",
        "$$E[Y|\\bar A]=\\theta_0+\\theta_1cum(\\bar A)$$\n",
        "\n",
        "by OLS in either the stabilized or nonstabilized pseudo-population.\n",
        "\n",
        "This is mathematically equivalent to fitting the same linear model by WLS in the original study pouplation.\n",
        "\n",
        "Under the identifiability conditions, the WLS estimate of $\\theta_1$ is consistent for the causal parameter $\\beta_1$.\n",
        "\n",
        "We can also construct a conservative 95% CI by using the *robust variance estimator* of $\\hat\\beta_1$.\n",
        "\n",
        "For a non-saturated MSM the width will typically be more narrow when using stabilized weights, thus it is preferred.\n"
      ],
      "metadata": {
        "id": "DV6xX2ciyJDS"
      }
    },
    {
      "cell_type": "markdown",
      "source": [
        "## 21.3 A doubly robust estimator for time-varying treatments"
      ],
      "metadata": {
        "id": "ZjTWaqnlC4YG"
      }
    },
    {
      "cell_type": "markdown",
      "source": [
        "Previously, doubly robust methods were mentioned as a method that combine IP weighting and the g-formula.\n",
        "\n",
        "IP weighting requires a correct model for treatment $A$ conditional on confounders $L$, and the g-formula requires a correct model for the outcome $Y$ conditional on treatment $A$ and confounders $L$.\n",
        "\n",
        "Doubly robust methods require a correct model for *either* treatment $A$ *or* outcome $Y$. If at least one of the two models is correct, a doubly robust estimator consistently estimates the causal effect.\n",
        "\n",
        "For time-varying treatments, DRE's a bit more involved. It requires fitting a separate outcome model at each time $m$.\n",
        "\n",
        "Thus, the implementation of this has been historically hampered by computational constraints."
      ],
      "metadata": {
        "id": "aoTCmikRC4aZ"
      }
    },
    {
      "cell_type": "markdown",
      "source": [
        "## 21.4 G-estimation for time-varying treatments"
      ],
      "metadata": {
        "id": "vqDzQjWyVjFc"
      }
    },
    {
      "cell_type": "markdown",
      "source": [
        "For structural nested mean models for the conditional causal effect, the extention to time-varying treatment requires that the model specifies as many equations as time points in the data."
      ],
      "metadata": {
        "id": "Y3JxvhIwVjHC"
      }
    },
    {
      "cell_type": "markdown",
      "source": [
        "## 21.5 Censoring is a time-varying treatment"
      ],
      "metadata": {
        "id": "f7q-zXs-XOkl"
      }
    },
    {
      "cell_type": "markdown",
      "source": [
        "A more realistic view of censoring is as a time-varying variable $C_1,C_2,...,C_{K+1}$."
      ],
      "metadata": {
        "id": "rOqZ4HiJXECi"
      }
    },
    {
      "cell_type": "markdown",
      "source": [
        "## 21.6 The big g-formula"
      ],
      "metadata": {
        "id": "32eaRQ9SYHT3"
      }
    },
    {
      "cell_type": "markdown",
      "source": [
        "So far we have covered only methods that rely on sequential exchangeability given the measured covariates $\\bar L$ and identification by the g-formula. This is because few causal analyses of complex longitudinal data have relied on other identifying conditions and formulas."
      ],
      "metadata": {
        "id": "4Sf4BmeBYJFq"
      }
    }
  ]
}