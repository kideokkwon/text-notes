{
  "nbformat": 4,
  "nbformat_minor": 0,
  "metadata": {
    "colab": {
      "provenance": [],
      "authorship_tag": "ABX9TyO3ZU0CUPMN7PWcNiVZ2RlP"
    },
    "kernelspec": {
      "name": "python3",
      "display_name": "Python 3"
    },
    "language_info": {
      "name": "python"
    }
  },
  "cells": [
    {
      "cell_type": "markdown",
      "source": [
        "# Chapter 14: G-estimation of Structural Nested Models"
      ],
      "metadata": {
        "id": "0ZsjRtSwopCZ"
      }
    },
    {
      "cell_type": "markdown",
      "source": [
        "We now describe a 3rd method to estimate the average causal effect called g-estimation.\n",
        "\n",
        "IP Weighting, standardization, and g-estimation are collectly referred to as $g$-methods because they are designed for application to $g$eneralized treatment contrasts involving treatments that vary over time.\n",
        "\n",
        "Describing g-estimation is facilitated by the specification of a structural model, even if the model is saturated. Models whose parameters are estimated via g-estimation are known as *structural nested models*. The 3 g-methods are based on different modeling assumptions.\n",
        "\n",
        ">Remember from chapter 11.3 that \"models\" which do not impose restrictions on the distribution of the data are called *saturated* models. Generally, the model is saturated whenever the # of parameters in a conditional mean model is equal to the # of unknown conditional means in the population. For example, performing a regression for \"Y~T\" for a dichotomous treatment $T$ will just get the average of $Y$ for each $T$, which isn't very parametric."
      ],
      "metadata": {
        "id": "e9AdAKHkopE4"
      }
    },
    {
      "cell_type": "markdown",
      "source": [
        "## 14.1 The causal question revisited"
      ],
      "metadata": {
        "id": "Jofvf07bopHO"
      }
    },
    {
      "cell_type": "markdown",
      "source": [
        "Before describing g-estimation, we will present structural nested models and rank preservation, and, in the next section, articulate the condition of exchangeability given $L$ in a new way."
      ],
      "metadata": {
        "id": "b1i0eE6AopJs"
      }
    },
    {
      "cell_type": "markdown",
      "source": [
        "## 14.2 Exchangeability revisited"
      ],
      "metadata": {
        "id": "O3V4d8XesVkM"
      }
    },
    {
      "cell_type": "markdown",
      "source": [
        "Recall that when conditional exchangeability holds, knowing the value of $Y^{a=0}$ does not help differentiate between different $A$ with a particular value of $L$. That is,\n",
        "$$Pr[A=1|Y^{a=0},L]=Pr[A=1|L]$$\n",
        "\n",
        "Previously, we had expressed it as:\n",
        "$$Y^a\\perp A|L$$\n",
        "\n",
        "We expressed it in a new way using conditional probabilities of treatment because it is helpful for understanding g-estimation. Specifically, suppose we propose the following parametric logistic model for the probability of treatment:\n",
        "$$\\text{logit }Pr[A=1|Y^{a=0},L]=\\alpha_0+\\alpha_1 Y^{a=0}+\\alpha_2L$$\n",
        "\n",
        "Of-course, we cannot fit this model because we do not have the potential outcome. However, with conditional exchangeability, $\\alpha_1=0$.\n",
        "\n",
        "Now, we introduce the other half of g-estimation: the structural model."
      ],
      "metadata": {
        "id": "IC9g0h1qsVmi"
      }
    },
    {
      "cell_type": "markdown",
      "source": [
        "## 14.3 Structural nested mean models"
      ],
      "metadata": {
        "id": "ha9L7aHZsVoz"
      }
    },
    {
      "cell_type": "markdown",
      "source": [
        "Now, we are interested in the average causal effect of treatment $A$ within levels of $L$:\n",
        "$$E[Y^{a=1}|L]-E[Y^{a=0}|L]$$\n",
        "or\n",
        "$$E[Y^{a=1}-Y^{a=0}|L]$$\n",
        "since the difference of the means is equal to the mean of the differences.\n",
        "\n",
        "If there is no effect modification,\n",
        "$$E[Y^{a}-Y^{a=0}|L]=\\beta_1a$$\n",
        "\n",
        "If there is effect modification, we can add the $L$ term to the structural model:\n",
        "$$E[Y^{a}-Y^{a=0}|L]=\\beta_1a+\\beta_2aL$$\n",
        "\n",
        "Since under conditional exchangeability $Y^a\\perp A|L$, the conditional effect will be the same in the treated and untreated, the structural model can also be written as:\n",
        "$$E[Y^{a}-Y^{a=0}|A=a,L]=\\beta_1a+\\beta_2aL$$\n",
        "\n",
        "And this is referred to as a *structural nested mean model*. The parmeters $\\beta_1,\\beta_2$ are estimated by g-estimation.\n",
        "\n",
        "Structural nested models are semi-parametric because they are agnostic about both the intercept and the main effect of $L$, or in other words, there is no $\\beta_0$ and no $\\beta_3$ for a term $\\beta_3L$. As a result of leaving these parameters unspecified, structural nested models make fewer assumptions and can be more robust to model misspecification than the parametric g-formula.\n",
        "\n",
        "In this chapter we use g-estimation of a structural nested mean model to estimate the effect of a dichotomous treatment, but it can be used for continuous treatments as well. In such cases, the model needs to specify the dose-response function for the effect of treatment $A$ on the mean outcome $Y$, which can include smooth function splines.\n",
        "\n",
        "Now we look at rank preservation which help describe g-estimation of structural nested models.\n"
      ],
      "metadata": {
        "id": "mcQ9Q5KG4noP"
      }
    },
    {
      "cell_type": "markdown",
      "source": [
        "## 14.4 Rank preservation"
      ],
      "metadata": {
        "id": "uC5hsxR44nqh"
      }
    },
    {
      "cell_type": "markdown",
      "source": [
        "Suppose for a second that we could rank everybody according to $Y^{a=1}$ and also according to $Y^{a=0}$. We would then have two lists of individuals ordered from larger to smaller value of the corresponding counterfactual outcome.\n",
        "\n",
        "If both lists are in identical order we say there is *rank preservation*.\n",
        "\n",
        "A simple example of this is when the effect of $A$ on $Y$ is the same for everyone on the additive scale, which then we say that *additive rank preservation* holds.\n",
        "\n",
        "For the purposes of structural nested mean models we will care about additive rank preservation within levels of $L$.\n",
        "\n",
        "This *conditional additive rank preservation* holds if the effect of treatment $A$ on the outcome $Y$ is exactly the same for all individuals with the same values of $L$.\n",
        "\n",
        "Of-course, for most treatments and outcomes, the individual causal effect is not expected to be constant, thus additive conditional rank preservation is scientifically implausible. No method in this book therefore requires rank preservation. We learn it because it's easier to understand g-estimation for rank-preserving models, although the method is identical for both rank-preserving and non-rank-preserving."
      ],
      "metadata": {
        "id": "pU-bpF_a4nsz"
      }
    },
    {
      "cell_type": "markdown",
      "source": [
        "## 14.5 G-estimation"
      ],
      "metadata": {
        "id": "PodEWT5n4nu_"
      }
    },
    {
      "cell_type": "markdown",
      "source": [
        "update 11/28/23:\n",
        "- defering this section for later"
      ],
      "metadata": {
        "id": "p7fnBvS9-2mT"
      }
    },
    {
      "cell_type": "markdown",
      "source": [
        "## 14.6 Structural nested models with two or more parameters"
      ],
      "metadata": {
        "id": "TKwaBtoz-2ou"
      }
    },
    {
      "cell_type": "markdown",
      "source": [
        "update 11/28/23:\n",
        "- defering this section for later"
      ],
      "metadata": {
        "id": "2zZavRFMBGfz"
      }
    }
  ]
}