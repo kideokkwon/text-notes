{
  "nbformat": 4,
  "nbformat_minor": 0,
  "metadata": {
    "colab": {
      "provenance": [],
      "authorship_tag": "ABX9TyNDwz35CcfzX+cbQAQpM3fW"
    },
    "kernelspec": {
      "name": "python3",
      "display_name": "Python 3"
    },
    "language_info": {
      "name": "python"
    }
  },
  "cells": [
    {
      "cell_type": "markdown",
      "source": [
        "# Chapter 20: Treatment-Confounder Feedback"
      ],
      "metadata": {
        "id": "9499K8mggB2F"
      }
    },
    {
      "cell_type": "markdown",
      "source": [
        "A key problem in causal inference about time-varying treatments is treatment-confounder feedback.\n",
        "\n",
        "When treatment-confounder feedback exists, traditional adjustment methods may induce bias in the effect estimates.\n",
        "\n",
        "This chapter describes the structure of treatment-confounder feedback and the reasons why traditional adjustment methods fail."
      ],
      "metadata": {
        "id": "sgas4Sx9gB4m"
      }
    },
    {
      "cell_type": "markdown",
      "source": [
        "## 20.1 The elements of treatment-confounder feedback"
      ],
      "metadata": {
        "id": "ieRkxw1FgB7F"
      }
    },
    {
      "cell_type": "markdown",
      "source": [
        "When the confounder affects the treatment *and* the treatment affects the confounder, we say there is *treatment-confounder feedback*.\n",
        "\n",
        "Note that time-varying confounding does not necessarily imply that there also exists treatment-confounder feedback.\n",
        "\n",
        "Even if we had sufficient longitudinal data to ensure sequential exchangeability, traditional methods would not generally provide a valid estimate of the causal effect of any treatment strategies.\n",
        "\n",
        "In contrast, g-methods appropriately adjust for the time-varying confounders even in the presence of treatment-confounder feedback.\n",
        "\n",
        "The next section explains why traditional methods cannot adequately handle treatment-confounder feedback.\n",
        "\n"
      ],
      "metadata": {
        "id": "INtWtLmlggO6"
      }
    },
    {
      "cell_type": "markdown",
      "source": [
        "## 20.2 The bias of traditional methods"
      ],
      "metadata": {
        "id": "Z7h2yD4ggmRQ"
      }
    },
    {
      "cell_type": "markdown",
      "source": [
        "traditional methods such as stratification, matching, do not work for causal questions with treatment-confounder feedback."
      ],
      "metadata": {
        "id": "iNSBjgMdgmTr"
      }
    },
    {
      "cell_type": "markdown",
      "source": [
        "## 20.3 Why traditional methods fail"
      ],
      "metadata": {
        "id": "F8r8HBCKj44p"
      }
    },
    {
      "cell_type": "markdown",
      "source": [
        "The bias of traditional methods will occur not only when the confounders are affected by prior treatment but also when the confounders share an unmeasured cause $W_0$ with prior treatment.\n",
        "\n",
        "In general, valid estimation of the effect of treatment strategies is only possible when the joint effect of the treatment components $A_k$ can be estimated simultaneously and without bias. This may be impossible to achieve using stratification, even when data on all time-varying confounders are available."
      ],
      "metadata": {
        "id": "65BNv3Lvj46_"
      }
    },
    {
      "cell_type": "markdown",
      "source": [
        "## 20.4 Why traditional methods cannot be fixed"
      ],
      "metadata": {
        "id": "cnMBxrIaggR5"
      }
    },
    {
      "cell_type": "markdown",
      "source": [
        "What about parametric outcome regression? Regression modeling cannot remove the bias of conventional stratification based methods because regression is a conventional stratification-based method itself.\n",
        "\n",
        "G-methods are needed to appropriately adjust for time-varying confounders in the presense of treatment-confounder feedback."
      ],
      "metadata": {
        "id": "VhjUk-oB8ADq"
      }
    },
    {
      "cell_type": "markdown",
      "source": [
        "## 20.5 Adjusting for past treatment"
      ],
      "metadata": {
        "id": "OJlsRRTe8AF7"
      }
    },
    {
      "cell_type": "markdown",
      "source": [
        "When treatment is time-varying, contrary to a widespread belief, mismeasurement of treatment - even if the measurement error is independent and non-differential - may cause bias under the null. This bias arises because past treatment is a confounder for the effect of subsequent treatment even if past treatment has no causal effect on the outcome.\n",
        "\n",
        "Furthermore, under this alternative, ths imperfect bias adjustment may result in an exaggerated estimate of the effect."
      ],
      "metadata": {
        "id": "BA_n26bY8sQu"
      }
    }
  ]
}