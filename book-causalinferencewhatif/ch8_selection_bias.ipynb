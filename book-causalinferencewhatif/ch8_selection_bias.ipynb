{
  "nbformat": 4,
  "nbformat_minor": 0,
  "metadata": {
    "colab": {
      "provenance": [],
      "authorship_tag": "ABX9TyNLk8zal5+eDH56q8IdaFSR"
    },
    "kernelspec": {
      "name": "python3",
      "display_name": "Python 3"
    },
    "language_info": {
      "name": "python"
    }
  },
  "cells": [
    {
      "cell_type": "markdown",
      "source": [
        "# Chapter 8: Selection Bias"
      ],
      "metadata": {
        "id": "ZfJ0GGKlRRgp"
      }
    },
    {
      "cell_type": "markdown",
      "source": [
        "An association created as a result of the process by which individuals are selected into the analysis is referred to as selection bias.\n",
        "\n",
        "Unlike confounding, this type of bias is not due to the presence of common causes of treatment and outcome, and can arise in both randomized experiments and observational data.\n",
        "\n",
        "Like confounding, selection bias is just a form of lack of exchangeability between treated and untreated."
      ],
      "metadata": {
        "id": "G2ko2uOJRRjL"
      }
    },
    {
      "cell_type": "markdown",
      "source": [
        "## 8.1 The Structure of Selection Bias"
      ],
      "metadata": {
        "id": "kyXOONpkRRlt"
      }
    },
    {
      "cell_type": "markdown",
      "source": [
        "When treatment $A$ and outcome $Y$ share a common effect $C$,\n",
        "$$A\\rightarrow C\\leftarrow Y$$\n",
        "an analysis conditioned on $C$ will generally result in an association between $A$ and $Y$, which is refer to as selection bias due to conditioning on $C$.\n",
        "\n",
        "It is still selection bias even if $C$ isn't conditioned on but a descendent of $C$, a hypothetical $S$, is conditioned on.\n",
        "\n",
        "More generally, selection bias can be defined as the bias resulting from conditioning on the common effect of two variables, one of which is either the treatment or associated with the treatment, and the other is either the outcome or associated with the outcome."
      ],
      "metadata": {
        "id": "d1wZP3P_RRod"
      }
    },
    {
      "cell_type": "markdown",
      "source": [
        "## 8.2 Examples of Selection Bias"
      ],
      "metadata": {
        "id": "0kLgs5IuR0Cb"
      }
    },
    {
      "cell_type": "markdown",
      "source": [
        "A key difference between confounding and selection bias: randomization protects against confounding."
      ],
      "metadata": {
        "id": "qMN_096RR0Es"
      }
    },
    {
      "cell_type": "markdown",
      "source": [
        "## 8.3 Selection Bias and Confounding"
      ],
      "metadata": {
        "id": "MKeXbngDR0HJ"
      }
    },
    {
      "cell_type": "markdown",
      "source": [
        "social scientists often refer to unmeasured confounding as *selection on unobservables*."
      ],
      "metadata": {
        "id": "6vB53LnlV9aO"
      }
    },
    {
      "cell_type": "markdown",
      "source": [
        "## 8.4 Selection Bias and Censoring"
      ],
      "metadata": {
        "id": "yldh68eNV9cp"
      }
    },
    {
      "cell_type": "markdown",
      "source": [
        "## 8.5 How to Adjust for Selection Bias"
      ],
      "metadata": {
        "id": "LhZEfk1PV9fN"
      }
    },
    {
      "cell_type": "markdown",
      "source": [
        "Selection bias can sometimes be avoided by an adequate design (by not controlling for a collider), it is often unavoidable.\n",
        "\n",
        "For example,\n",
        "- loss to follow up\n",
        "- self-selection\n",
        "- missing data leading to bias\n",
        "\n",
        "can occur no matter how careful the investigator.\n",
        "\n",
        "In those cases, the selection bias needs to be explicitly corrected in the analysis. This is sometimes done with IP weighting, which is based on assigning a weight $W^C$ to each selected individual ($C=0$) so that she accounts in the analysis not only for herself, but also for those like her, i.e., with the same values of $L$ and $A$, who were not selected ($C=1$).\n",
        "\n",
        "The IP Weight $W^C$ is the inverse of the probability of her selection $Pr[C=0|L,A]$."
      ],
      "metadata": {
        "id": "QngZHtlSadk-"
      }
    },
    {
      "cell_type": "markdown",
      "source": [
        "## 8.6 Selection Without Bias"
      ],
      "metadata": {
        "id": "RAC1GBWnadnE"
      }
    },
    {
      "cell_type": "markdown",
      "source": [
        "Conditioning on a collider always induces an association between its causes, but this association could be restricted to certain levels of the common effect. In other words, it is theoretically possible that selection on a common effect does not result in selection bias when the analysis is restricted to a single level of the common effect."
      ],
      "metadata": {
        "id": "coCjlLwHcdBc"
      }
    }
  ]
}