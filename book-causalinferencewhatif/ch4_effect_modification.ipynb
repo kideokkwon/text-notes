{
  "nbformat": 4,
  "nbformat_minor": 0,
  "metadata": {
    "colab": {
      "provenance": [],
      "authorship_tag": "ABX9TyOKVALn+FWnb9etcoeBjtda"
    },
    "kernelspec": {
      "name": "python3",
      "display_name": "Python 3"
    },
    "language_info": {
      "name": "python"
    }
  },
  "cells": [
    {
      "cell_type": "markdown",
      "source": [
        "# Chapter 4: Effect Modification"
      ],
      "metadata": {
        "id": "KoKB8nMeTlZJ"
      }
    },
    {
      "cell_type": "markdown",
      "source": [
        "## 4.1 Heterogeneity of Treatment Effects"
      ],
      "metadata": {
        "id": "7efPK1bfTlf9"
      }
    },
    {
      "cell_type": "markdown",
      "source": [
        "We say that $V$ is a modifier of the effect of $A$ on $Y$ when the average causal effect of $A$ on $Y$ varies across levels of $V$. Note that there are different effect measures (risk difference, risk ratio) and whether or not there is an effect modifier actually depends on which measure you are using.\n",
        "\n",
        "When there is effect modification for the risk *difference*, we say that there is effect modification on the *additive* scale (For risk ratio, it is the multiplicative scale).\n",
        "\n",
        "Additive Effect Modification:\n",
        "$$E[Y^{a=1}-Y^{a=0}|V=1]\\neq E[Y^{a=1}-Y^{a=0}|V=0]$$\n",
        "\n",
        "Interestingly, the text notes that we do not consider effect modification on the odds ratio scale because the odds ratio if rarely, if ever, the parameter of interest for causal inference.\n",
        "\n",
        "If the effect modification \"flips\" the result (e.g., goes the opposite direction for each $V$), then we say there is a *qualitative effect modification*, as opposed to a difference of 1.5 vs 1.7."
      ],
      "metadata": {
        "id": "t5qysb8OTupF"
      }
    },
    {
      "cell_type": "markdown",
      "source": [
        "## 4.2 Stratification to Identify Effect Modification"
      ],
      "metadata": {
        "id": "43TIO7oSTurZ"
      }
    },
    {
      "cell_type": "markdown",
      "source": [
        "A stratified analysis is the natural way to identify effect modification. This is done by computing the causal effect of $A$ on $Y$ in each level (stratum) of the variable $V$."
      ],
      "metadata": {
        "id": "XzsqvOLCTutz"
      }
    },
    {
      "cell_type": "markdown",
      "source": [
        "## 4.3 Why care about effect modification"
      ],
      "metadata": {
        "id": "6MLhyusoTuwI"
      }
    },
    {
      "cell_type": "markdown",
      "source": [
        "If a drug effects women negatively and men positively, this is a pretty important thing to know when deciding to make a drug mainstream.\n",
        "\n",
        "Therefore, there is generally no such thing as \"*the* causal effect of $A$ on $Y$\", but instead, \"the average causal effect of $A$ on $Y$ in a population with a particular mix of causal effect modifiers\".\n",
        "\n",
        "The extrapolation of causal effects computed in one population to a second population is referred to as *transportability* of causal inferences across populations. Some refer to the lack of transportability as lack of *external validity*.\n",
        "\n",
        "Unfortunately, it is not easy to make sure that there is transportability of causal effects. Thus, it is often understood as an unverifiable assumption that relies heavily on subject-matter knowledge.\n",
        "\n",
        "For instance, most experts would agree that health effects of increasing a household's annual income by $100 in Niger cannot be transported to the Netherlands, but most would agree that the health effects of use of cholesterol-lowering drugs in Europeans can be transported to Canadians.\n",
        "\n",
        "In addition, in some situations, transportability doesn't matter. For example, Smith and Pell (2003) could not identify any meaningful effect modifiers in the question of, \"Does having a parachute increase the survival rate of jumping from an airplane\", since all humans, regardless of gender, race, etc., would all die if they didn't have a parachute."
      ],
      "metadata": {
        "id": "1CI3Q4JDTlis"
      }
    },
    {
      "cell_type": "markdown",
      "source": [
        "## 4.4 Stratification as a Form of Adjustment"
      ],
      "metadata": {
        "id": "f4aQ_BfOWe8w"
      }
    },
    {
      "cell_type": "markdown",
      "source": [
        "Stratification can be used as a way to adjust for certain covariates. For example, if computing the causal effect separately for men and women, you do not have to worry about confounding from gender."
      ],
      "metadata": {
        "id": "j0mP23ZBWe-3"
      }
    },
    {
      "cell_type": "markdown",
      "source": [
        "## 4.5 Matching as Another Form of Adjustment"
      ],
      "metadata": {
        "id": "kZTTwTiqYQRm"
      }
    },
    {
      "cell_type": "markdown",
      "source": [
        "The goal of matching is to construct a subset of the population in which the variables $L$ have the same distribution in both the treated and the untreated.\n",
        "\n",
        "Because the matched population is a subset of the original study population, the distribution of causal effect modifiers in the matched study population will generally differ from that in the original."
      ],
      "metadata": {
        "id": "b0WbRm41YQTr"
      }
    },
    {
      "cell_type": "markdown",
      "source": [
        "## 4.6 Effect Modification and Adjustment Methods"
      ],
      "metadata": {
        "id": "YoVeS20IYTTY"
      }
    },
    {
      "cell_type": "markdown",
      "source": [
        "IPW, Stratification/restriction, and matching are different approaches to estimate average causal effects, but they estimate different types of causal effects. These 4 approaches can be divided into two groups:\n",
        "- Standardization and IP Weighting can be used to compute either the marginal or conditional effects\n",
        "- Stratification/restriction and Matching can only be used to compute conditional effects in certain subsets of the population. (For matching, this is often a *consequence*, not the intention)\n",
        "\n",
        "All 4 approaches require exchangeability and positivity but the subsets of the population in which these conditions need to hold depend on the causal effect of interest.\n",
        "\n",
        "In essence, the previous chapter argued that a well-defined causal effect is a prereq for meaningful causal inference. This chapter argues that a well characterized target population is another prereq. While these assumptions are usually valid in experiments (assuming valid design), in observational studies they cannot be taken for granted."
      ],
      "metadata": {
        "id": "9dzNcv7bYTVm"
      }
    }
  ]
}