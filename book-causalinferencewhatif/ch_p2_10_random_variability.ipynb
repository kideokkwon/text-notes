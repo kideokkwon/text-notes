{
  "nbformat": 4,
  "nbformat_minor": 0,
  "metadata": {
    "colab": {
      "provenance": [],
      "authorship_tag": "ABX9TyOUpjZ8nSVBp45C/FKZwMIz"
    },
    "kernelspec": {
      "name": "python3",
      "display_name": "Python 3"
    },
    "language_info": {
      "name": "python"
    }
  },
  "cells": [
    {
      "cell_type": "markdown",
      "source": [
        "# Chapter 10: Random Variability"
      ],
      "metadata": {
        "id": "BiaM_eDgIJXy"
      }
    },
    {
      "cell_type": "markdown",
      "source": [
        "There are two qualitatively different reasons why causal inferences may be wrong: systematic bias and random variability.\n",
        "\n",
        "The previous 3 chapters described 3 types of systematic biases:\n",
        "- selection bias\n",
        "- measurement bias\n",
        "- unmeasured confounding\n",
        "\n",
        "Now, this chapter discusses random variability and how to deal with it\n",
        "\n"
      ],
      "metadata": {
        "id": "nLQ_OsmSIJam"
      }
    },
    {
      "cell_type": "markdown",
      "source": [
        "## 10.1 Identification Versus Estimation"
      ],
      "metadata": {
        "id": "6BckLIISIJde"
      }
    },
    {
      "cell_type": "markdown",
      "source": [
        "Say that we may want to make inferences about the super-population probability $Pr[Y=1|A=a]$.\n",
        "\n",
        "We refer to the parameter of interest in the super-population, the probability $Pr[Y=1|A=a]$ in this case, as the *estimand*.\n",
        "\n",
        "An *estimator* is a rule that takes the data from any sample from the super-population and produces a numerical value for the estimand.\n",
        "\n",
        "This numerical value for a particular sample is the *estimate* from the sample.\n",
        "\n",
        "The sample proportion of individuals that develop the outcome among those receiving treatment level $a$,\n",
        "$$\\hat{Pr}[Y=1|A=a]$$\n",
        ", is an estimator of the super-population probability $Pr[Y=1|A=a]$.\n",
        "\n",
        "The sample estimate $\\hat{Pr}[Y=1|A=a]$'s value is the *point estimate*. Of-course, the value of the estimate will depend on the values of the randomly sampled users from the super-population.\n",
        "\n",
        "An estimator is *consistent* for a particular estimand if the estimates get closer to the parameter as the sample size increases.\n",
        "\n",
        "In the absense of systematic biases, statistical theory allows one to quantify the confidence in the point estimate in the form of a confidence interval around the point estimate.\n",
        "\n",
        "A common way to construct a 95% CI for a point estimate is to use a 95% Wald confidence interval centered at a point estimate.\n",
        "\n",
        "First, estimate the SE of the point estimate under the assumption that our study population is a random sample from a much larger super-population.\n",
        "\n",
        "Second, calculate the upper limit of the 95% Wald confidence interval by adding 1.96 times the estimated SE to the point estimate (and subtract for lower bound)\n",
        "\n",
        "For example, consider the estimator $\\hat{Pr}[Y=1|A=a]=\\hat p$ of the super-population parameter $Pr[Y=1|A=a]=p$. Its standard error is:\n",
        "$$\\sqrt{\\frac{p(1-p)}{n}}$$\n",
        "(the standard error of a binomial)\n",
        "\n",
        "Recall that the Wald 95% CI for a parameter $\\theta$ based on an estimator $\\hat\\theta$ is\n",
        "$$\\hat\\theta\\pm 1.96\\times\\hat{se}(\\hat\\theta)$$\n",
        "where 1.96 is the upper 97.5% quantile of a standard normal distribution with mean 0 and variance 1.\n",
        "\n",
        "A 95% CI is considered to be *calibrated* if the estimand is contained in the interval in 95% of random samples, *conservative* if more than 95% of random samples, and *anti-conservative* otherwise. A CI is *valid* if calibrated or conservative.\n",
        "\n",
        "Note that a Wald CI is only guaranteed to be valid in large samples, and can actually be anti-conservative in small samples according to (Brown et al., 2001).\n",
        "\n",
        "CI's are often classified as either *small-sample* or *large-sample* confidence intervals. *small-sample* calibrated confidence intervals are sometimes called *exact* confidence intervals. A large-sample is sometimes called an *asymptotic* confidence interval.\n",
        "\n",
        "Not all consistent estimators can be used tgo center a valid Wald CI, even in large samples. Most users of statistics will consider an estimator unbiased if it can center a valid Wald interval and biased if it cannot. Therefore, *bias* can refer to the inability to center valid Wald CI's."
      ],
      "metadata": {
        "id": "sziBRuYhKDdl"
      }
    },
    {
      "cell_type": "markdown",
      "source": [
        "## 10.2 Estimation of Causal Effects"
      ],
      "metadata": {
        "id": "wKIH4xqOKDgA"
      }
    },
    {
      "cell_type": "markdown",
      "source": [
        "## 10.3 The Myth of the Super-Population"
      ],
      "metadata": {
        "id": "RA5lBNJNKDlH"
      }
    },
    {
      "cell_type": "markdown",
      "source": [
        "## 10.4 The Conditionality \"Principle\""
      ],
      "metadata": {
        "id": "Ho7--szKPUs7"
      }
    },
    {
      "cell_type": "markdown",
      "source": [
        "## 10.5 The Curse of Dimensionality"
      ],
      "metadata": {
        "id": "XNgCVGsdPUvM"
      }
    }
  ]
}