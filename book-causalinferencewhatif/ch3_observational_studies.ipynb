{
  "nbformat": 4,
  "nbformat_minor": 0,
  "metadata": {
    "colab": {
      "provenance": [],
      "authorship_tag": "ABX9TyP9rIi1/qybRBCKfUn3K1Ia"
    },
    "kernelspec": {
      "name": "python3",
      "display_name": "Python 3"
    },
    "language_info": {
      "name": "python"
    }
  },
  "cells": [
    {
      "cell_type": "markdown",
      "source": [
        "# Chapter 3: Observational Studies"
      ],
      "metadata": {
        "id": "YvOLglN_topQ"
      }
    },
    {
      "cell_type": "markdown",
      "source": [
        "## 3.1 Identifiability Conditions"
      ],
      "metadata": {
        "id": "tFrMxZ2Btor1"
      }
    },
    {
      "cell_type": "markdown",
      "source": [
        "The assumptions that allow you to claim causality from observational data.\n",
        "\n",
        "An observational study can be conceptualized as a conditionally randomized experiment if the following conditions hold:\n",
        "1. consistency (described in Ch.1)\n",
        "2. exchangeability (in Ch.2)\n",
        "3. positivity\n",
        "\n",
        "When the above conditions break down, there are other possible approaches that require a different set of identifiability conditions such as instrumental variable methods.\n",
        "\n"
      ],
      "metadata": {
        "id": "KoAI5E3xtouS"
      }
    },
    {
      "cell_type": "markdown",
      "source": [
        "## 3.2 Exchangeability"
      ],
      "metadata": {
        "id": "byQdBGgrtowm"
      }
    },
    {
      "cell_type": "markdown",
      "source": [
        "conditional exchangeability $Y^a\\perp A|L$ will not hold if there exist unmeasured independent predictors $U$ of the outcome such that the probability of receiving treatment $A$ depends on $U$ within strata of $L$.\n",
        "\n",
        "Investigators can use their expert knowledge to enhance the plausibility of the conditional exchangeability assumption. The validity of causal inferences requires that this expert knowledge is correct, and is encoded as the assumption of exchangeability conditional on the measured covariates."
      ],
      "metadata": {
        "id": "GrOLm57a-KBT"
      }
    },
    {
      "cell_type": "markdown",
      "source": [
        "## 3.3 Positivity"
      ],
      "metadata": {
        "id": "3Kc9XoDF-KDr"
      }
    },
    {
      "cell_type": "markdown",
      "source": [
        "The *positivity* assumption states that there is a probability greater than zero of being assigned to each of the treatment levels for each user.\n",
        "\n",
        "Intuitively speaking, this just means that it must be logically feasible that any user $i$ *could* have gotten either the Control or Treatment in different hypothetical universes if things had gone a slightly different way. Otherwise, there is no point in comparing what that user would have done if they got the treatment or not if it's not even plausible that they could have gotten either."
      ],
      "metadata": {
        "id": "Q1kvIJECSXCk"
      }
    }
  ]
}