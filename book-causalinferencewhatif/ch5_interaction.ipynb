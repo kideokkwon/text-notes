{
  "nbformat": 4,
  "nbformat_minor": 0,
  "metadata": {
    "colab": {
      "provenance": [],
      "authorship_tag": "ABX9TyOZaC1K+PvXisIzxBohMH0Y"
    },
    "kernelspec": {
      "name": "python3",
      "display_name": "Python 3"
    },
    "language_info": {
      "name": "python"
    }
  },
  "cells": [
    {
      "cell_type": "markdown",
      "source": [
        "# Chapter 5: Interaction"
      ],
      "metadata": {
        "id": "EZhzzeT-ePWw"
      }
    },
    {
      "cell_type": "markdown",
      "source": [
        "Many causal questions are actually about the ffects of two or more simultaneous treatments. This chapter provides a formal definition of interaction between two treatments, both within our already familiar counterfactual framework and within the sufficient-component-cause framework."
      ],
      "metadata": {
        "id": "USaGbjq6ePZZ"
      }
    },
    {
      "cell_type": "markdown",
      "source": [
        "## 5.1 Interaction Requires a Joint Intervention"
      ],
      "metadata": {
        "id": "CtfaemgtePbm"
      }
    },
    {
      "cell_type": "markdown",
      "source": [
        "Suppose we have Treatment $A$ (0,1) and $E$ (0,1). For each individual, we can now imagine 4 potential outcomes, one for each combination of $A$ and $E$. In general, an individual's counterfactual outcome $Y^{a,e}$ is the outcome that would have been observed if we had intervened to set the individual's values of $A$ and $E$ to $a$ and $e$, respectively. We refer to interventions on two or more treatments as *joint interventions*.\n",
        "\n",
        "A formal definition:\n",
        "\n",
        "There is interaction between two treatments $A$ and $E$ if the causal effect of $A$ on $Y$ after a joint intervention that set $E$ to $1$ differs from the causal effect of $A$ on $Y$ after a joint intervention that set $E$ to $0$.\n",
        "\n",
        "When the causal effect is measured on the risk diff. scale, we say there is *interaction between* $A$ and $E$ on the *additive* scale in the population if\n",
        "$$P[Y^{a=1,e=1}=1]-P[Y^{a=0,e=1}=1]\\neq P[Y^{a=1,e=0}=1]-P[Y^{a=0,e=0}=1]$$"
      ],
      "metadata": {
        "id": "lxzpWFfBePeE"
      }
    },
    {
      "cell_type": "markdown",
      "source": [
        "## 5.2 Identifying Interaction"
      ],
      "metadata": {
        "id": "oW9Y7qJ1fwOJ"
      }
    },
    {
      "cell_type": "markdown",
      "source": [
        "When treatment $E$ is randomly assigned, then the concepts of interaction and effect modification coincide. Of-course, when this is not the case, they may not coincide.\n",
        "\n",
        "In addition, interaction between $A$ and $E$ without modification of the effect of $A$ by $E$ is logically possible, though probably rare, because it requires dual effects of $A$ and exact cancellations (VanderWeele, 2009b)."
      ],
      "metadata": {
        "id": "W51OMkWXfwQc"
      }
    },
    {
      "cell_type": "markdown",
      "source": [
        "## 5.3 Counterfactual Response Types and Interaction"
      ],
      "metadata": {
        "id": "hRRnh_nMoStf"
      }
    },
    {
      "cell_type": "markdown",
      "source": [
        "## 5.4 Sufficient Causes"
      ],
      "metadata": {
        "id": "ctBXCA0GfwSw"
      }
    },
    {
      "cell_type": "markdown",
      "source": [
        "Take individuals who were actually treated. Only some of them died, which implies that treatment alone is *insufficient* to always bring about an outcome.\n",
        "\n",
        "As an oversimplified example, suppose that heart transplant $A=1$ only results in death in individuals allergic to anesthesia. We refer to the smallest set of background factors that, together with $A=1$, are sufficient to inevitably produce the outcome as $U_1$. The simultaneous presence of treatment ($A=1$) and allergy to anesthesia ($U_1=1$) is a minimal *sufficient cause* of the outcome $Y$."
      ],
      "metadata": {
        "id": "qzmv3bjFiwgh"
      }
    },
    {
      "cell_type": "markdown",
      "source": [
        "## 5.5 Sufficient Cause Interaction"
      ],
      "metadata": {
        "id": "jIxIweJmiwil"
      }
    },
    {
      "cell_type": "markdown",
      "source": [
        "The colloquial use of the term \"interaction between treatments $A$ and $E$\" evokes the existence of some causal mechanism by which the two treatments work together (i.e., interact) to produce certain outcome. However, the definition of interaction within the counterfactual framework does not require any knowledge about those mechanisms nor even that the treatments work together.\n",
        "\n",
        "A *sufficient cause interaction* between $A$ and $E$ exists in the population if $A$ and $E$ occur together in a sufficient cause.\n",
        "\n",
        "For example, suppose individuals with background factors $U_5=1$ will develop the outcome when jointly receiving both $A$ and $E$, but not when receiving only one of two treatments. Then a sufficient cause interaction between $A$ and $E$ exists if there exists an individual with $U_5=1$."
      ],
      "metadata": {
        "id": "PfwrG9e3iwkr"
      }
    },
    {
      "cell_type": "markdown",
      "source": [
        "## 5.6 Counterfactuals or Sufficient-Component Causes?"
      ],
      "metadata": {
        "id": "_mod3svBpmSz"
      }
    },
    {
      "cell_type": "markdown",
      "source": [
        "The sufficient-component-cause framework and the potential outcomes framework address different questions.\n",
        "\n",
        "The sufficient component cause model considers a set of actions, events, or states of nature which together inevitably bring about the outcome under consideration. The model gives an account of the causes of a particular effect. It addresses the question, \"Given a particular effect, what are the various events which might have been its cause?\"\n",
        "\n",
        "The potential outcomes model focuses on one particular cause or intervention and gives an account of the various effects of that cause. For instance, \"What would have occured if a particular factor were intervened upon and thus set to a different level than it is in fact was?\"\n",
        "\n",
        "Unlike the sufficient component cause framework, potential outcomes framework does not require a detailed knowledge of the mechanisms by which the factor affects the outcome.\n",
        "\n",
        "More succinctly:\n",
        "- SCC: \"How does it happen?\"\n",
        "- PO: \"What happens?\"\n",
        "\n",
        "\n"
      ],
      "metadata": {
        "id": "ZX5svqywpmU_"
      }
    }
  ]
}