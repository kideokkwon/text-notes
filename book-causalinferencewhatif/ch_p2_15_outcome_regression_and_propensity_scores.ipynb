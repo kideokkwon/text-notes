{
  "nbformat": 4,
  "nbformat_minor": 0,
  "metadata": {
    "colab": {
      "provenance": [],
      "authorship_tag": "ABX9TyPmLZQNSC13FNFwsYtZpGM/"
    },
    "kernelspec": {
      "name": "python3",
      "display_name": "Python 3"
    },
    "language_info": {
      "name": "python"
    }
  },
  "cells": [
    {
      "cell_type": "markdown",
      "source": [
        "# Chapter 15: Outcome Regression and Propensity Scores"
      ],
      "metadata": {
        "id": "rI38EKMsmXnh"
      }
    },
    {
      "cell_type": "markdown",
      "source": [
        "Outcome regression and various versiosn of propensity score analyses are the most commonly used parametric methods for causal inference.\n",
        "\n",
        "However, while these methods work fine in simpler settings, they are not designed to handle the complexities associated with time-varying treatments."
      ],
      "metadata": {
        "id": "rUxTGctvmXqC"
      }
    },
    {
      "cell_type": "markdown",
      "source": [
        "## 15.1 Outcome regression"
      ],
      "metadata": {
        "id": "_wG0THZymXsr"
      }
    },
    {
      "cell_type": "markdown",
      "source": [],
      "metadata": {
        "id": "K-4fmeuvm2hh"
      }
    },
    {
      "cell_type": "markdown",
      "source": [],
      "metadata": {
        "id": "3ZBBaA2_m2j5"
      }
    },
    {
      "cell_type": "markdown",
      "source": [],
      "metadata": {
        "id": "uT461wapm2l7"
      }
    },
    {
      "cell_type": "markdown",
      "source": [
        "Recall that with structural nested models, it includes parameters for the product terms between $A$ and $L$ but no parameters for just $L$. This was an attractive property because we are interested in the causal effect of $A$ on $Y$ within levels of $L$ but not in the (noncausal) relation between $L$ and $Y$. A method - g-estimation of structural nested models - that is agnostic about the functional form of the $L-Y$ relation is protected from bias due to misspecifying this relation.\n",
        "\n",
        "On the other hand, if we were willing to specify the $L-Y$ association within levels of $A$, then we could consider the structural model:\n",
        "$$E[Y^{a,c=0}|L]=\\beta_0+\\beta_1a+\\beta_2aL+\\beta_3L$$\n",
        "\n",
        "The average causal effect of treatment $A$ on $Y$ in each stratum of $L$ are a function of $\\beta_1$ and $\\beta_2$, and for control, would be a function of $\\beta_0,\\beta_3$. Ofcourse, these 2 parameters have no causal interpretation.\n",
        "\n",
        "Note that under causal identification (e.g., conditional exchangeability), $$E[Y^{a=1,c=0}|L=l]=E[Y|A=1,C=0,L=l]$$\n",
        "\n",
        "Therefore the parameters of the above structural model can be estimated via OLS by fitting the *outcome regression* model:\n",
        "$$E[Y|A,C=0,L]=\\alpha_0+\\alpha_1A+\\alpha_2AL+\\alpha_3L$$\n",
        "\n",
        "Like stratification, outcome regression adjusts for confounding by estimating the causal effect of treatment in each stratum of $L$.\n",
        "\n",
        "*If the variables $L$ are sufficient to adjust for confounding (and selection bias) and the outcome model is correctly specified, no further adjustment is needed*.\n",
        "\n",
        "A common approach to outcome regression is to assume there is no effect modification by any variable $L$, meaning that we can fit the model without any product terms and thus $\\hat\\beta_1$ is an estimate of both the conditional and marginal average causal effects of treatment."
      ],
      "metadata": {
        "id": "5U_Tk2wtm2qZ"
      }
    },
    {
      "cell_type": "markdown",
      "source": [
        "## 15.2 Propensity scores"
      ],
      "metadata": {
        "id": "W6PQsN93poL7"
      }
    },
    {
      "cell_type": "markdown",
      "source": [
        "Recall how with IP weighting and g-estimation, we estimated the probability of treatment given $L$, mathematically $\\pi(L)=Pr[A=1|L]$. This is referred t as a *propensity score*.\n",
        "\n",
        "Remember that propensity scores only balance the measured covariates $L$, which does not prevent residual confounding by unmeasured factors.\n",
        "\n",
        "The use of propensity score methods is justified by the following key result:\n",
        "\n",
        "Exchangeability of the treated and the untreated within levels of the covariates $L$ implies exchangeability within levels of the propensity score $\\pi(L)$. In other words, $Y^a\\perp A|L$ implies $Y^a\\perp A|\\pi(L)$.\n",
        "\n",
        "Propensity scores can be used for stratification (including outcome regression), standardization, and matching."
      ],
      "metadata": {
        "id": "teVFF_6kpoOS"
      }
    },
    {
      "cell_type": "markdown",
      "source": [
        "## 15.3 Propensity stratification and standardization"
      ],
      "metadata": {
        "id": "mLubToDmpoQk"
      }
    },
    {
      "cell_type": "markdown",
      "source": [
        "## 15.4 Propensity matching"
      ],
      "metadata": {
        "id": "l4zDgr_V3V2Z"
      }
    },
    {
      "cell_type": "markdown",
      "source": [
        "The process is analogous to matching on a single continuous variable $L$.\n",
        "\n",
        "Fun fact: a drawback of matching used to be that nobody knew how to compute the variance of the effect estimate. That is no longer the case thanks to Abadie and Imbens (2006).\n",
        "\n",
        "Defining closeness in propensity matching entails a bias-variance trade-off.\n",
        "\n",
        "The definition of closeness is also related to that of positivity."
      ],
      "metadata": {
        "id": "ALKB96jB3V4v"
      }
    },
    {
      "cell_type": "markdown",
      "source": [
        "## 15.5 Propensity models, structural models, predictrive models"
      ],
      "metadata": {
        "id": "JMesFxjk3V7H"
      }
    },
    {
      "cell_type": "markdown",
      "source": [
        "Propensity models are models for the probability of treatment $A$ given the variables $L$ used to try to achieve conditional exchangeability.\n",
        "\n",
        "Structural models describe the relation between the treatment $A$ and some component of the distribution (e.g., the mean) of the counterfactual outcome $Y^a$, either marginally or within levels of the variables $L$. For continuous treatments, it is often referred to as a dose-response model."
      ],
      "metadata": {
        "id": "HM8-Z0FeDobZ"
      }
    },
    {
      "cell_type": "markdown",
      "source": [],
      "metadata": {
        "id": "qSsZd58eDodr"
      }
    },
    {
      "cell_type": "markdown",
      "source": [],
      "metadata": {
        "id": "CECjaIyyDofr"
      }
    }
  ]
}