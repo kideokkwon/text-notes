{
  "nbformat": 4,
  "nbformat_minor": 0,
  "metadata": {
    "colab": {
      "provenance": [],
      "authorship_tag": "ABX9TyPkha+DevhFRjqP6tO8r/dX"
    },
    "kernelspec": {
      "name": "python3",
      "display_name": "Python 3"
    },
    "language_info": {
      "name": "python"
    }
  },
  "cells": [
    {
      "cell_type": "markdown",
      "source": [
        "# Chapter 19: Time-Varying Treatments"
      ],
      "metadata": {
        "id": "hpYdMVkQnDbH"
      }
    },
    {
      "cell_type": "markdown",
      "source": [
        "When treatments may take different values for a single individual over time, we refer to them as time-varying treatments."
      ],
      "metadata": {
        "id": "RUWuQaaynDf-"
      }
    },
    {
      "cell_type": "markdown",
      "source": [
        "## 19.1 The causal effect of time-varying treatments"
      ],
      "metadata": {
        "id": "3FGdPgxfnDiS"
      }
    },
    {
      "cell_type": "markdown",
      "source": [
        "Consider a time-varying dichotomous treatment $A_k$ that may change at every month $k$ of follow-up, where $k=0,1,2,...,K$.\n",
        "\n",
        "We use an overbar to denote treatment history (i.e., $\\bar A_k=(A_0,A_1,...,A_k)$ is the history of treatment from time $0$ to time $k$.)\n",
        "\n",
        "In time-varying treatments, there are many different ways to define an average causal effect. Next section we discuss a few."
      ],
      "metadata": {
        "id": "mQc91Ob3nDkm"
      }
    },
    {
      "cell_type": "markdown",
      "source": [
        "## 19.2 Treatment strategies"
      ],
      "metadata": {
        "id": "ZbrrhA13nt5A"
      }
    },
    {
      "cell_type": "markdown",
      "source": [
        "There are many different treatment strategies. For example, $E[Y^{\\bar a=\\bar 1}]-E[Y^{\\bar a = \\bar 0}]$ would be comparing users who always got treated in every $k$ versus those who never got treated in every $k$.\n",
        "\n",
        "There's also what's called a *dynamic treatment strategy*, a rule in which the treatment $a_k$ at time $k$ depends on the evolution of an individual's time-varying covariates $\\bar L_k$.\n",
        "\n",
        "Strategies $\\bar a$ for which treatment does not depend on covariates are non-dynamic or *static treatment strategies*.\n",
        "\n",
        "To summarize, there is not a single definition of causal effect for time-varying treatments. Even when only two treatment options. In the next section, we describe a study design under which all these causal effects can be validly estimated: the sequentially randomized experiment."
      ],
      "metadata": {
        "id": "rZGTTu2Jnt88"
      }
    },
    {
      "cell_type": "markdown",
      "source": [
        "## 19.3 Sequentially randomized experiments"
      ],
      "metadata": {
        "id": "OxkdZgDynt_X"
      }
    },
    {
      "cell_type": "markdown",
      "source": [
        "An experiment in which treatment is randomly assigned at each time $k$ to each individual is referred to as a *sequentially randomized experiment*.\n",
        "\n",
        "Sequentially randomized experiments are not frequently used in practice. However, the concept of sequentially randomized experiment is helpful to understand some key conditions for valid estimation of causal effects of time-varying treatments."
      ],
      "metadata": {
        "id": "XEzV-gS_-5pt"
      }
    },
    {
      "cell_type": "markdown",
      "source": [
        "## 19.4 Sequential exchangeability"
      ],
      "metadata": {
        "id": "3kHKoyjZ-5sH"
      }
    },
    {
      "cell_type": "markdown",
      "source": [
        "Remember that valid causal inferences about time-fixed treatments typically require conditional exchangeability $Y^a\\perp A|L$. When this holds, we can obtain unbiased estimates of the causal effect of treatment $A$ on the outcome $Y$ if we appropriately adjust for the variables in $L$ via standardization, IP weighting, g-estimation, or other methods.\n",
        "\n",
        "Similarly, causal inference with time-varying treatments require adjusting for the time-varying covariates $\\bar L_k$ to acehive conditional exchangeability at each time point (i.e., sequential conditional conditional exchangeability).\n",
        "\n",
        "For example, in a study with two time points, SCE is the combination of conditional exchangeability at both the first time and the second time, or in other words,\n",
        "\n",
        "$Y^g\\perp A_0|L_0$ and\n",
        "\n",
        "$Y^g\\perp A_1|A_0=g(L_0),L_0,L_1$\n",
        "\n",
        "We refer to this set of conditional independences as sequential exchangeability for $Y^g$ under any -static or dynamic- strategy $g$ that involves interventions on both components of the time-varying treatment ($A_0,A_1$).\n",
        "\n",
        "Note that in a sequentially randomized experiments, sequential exchangeability for $Y^g$ is implied.\n",
        "\n",
        "Generally speaking, sequential exchangeability for $Y^g$ is defined as:\n",
        "\n",
        "$$Y^g\\perp A_k|\\bar A_{k-1}=g(\\bar A_{k-2},\\bar L_{k-1}),\\bar L_k$$ for all strategies $g$ and $k=0,1,...,K$.\n",
        "\n",
        "This form of sequential exchangeability always holds in any causal graph where there are no arrows from unmeasured $U$ onto treatment variables $A$, which means that it holds in sequentially randomized experiments.\n",
        "\n",
        "Causal inference involving time-varying treatments also requires a sequential version of the conditions of positivity and consistency.\n",
        "\n",
        "And under the 3 conditions, we can identify the mean counterfactual outcome $E[Y^g]$ under any strategy of interest $g$ as long as we use methods that appropriately adjust for treatment and covariate history ($\\bar A_{k-1},\\bar L_k$) such as the g-formula (standardization), IP weighting, and g-estimation."
      ],
      "metadata": {
        "id": "dgKaeKIRAFCs"
      }
    },
    {
      "cell_type": "markdown",
      "source": [
        "## 19.5 Identifiability under some but not all treatment strategies"
      ],
      "metadata": {
        "id": "uJ_eb9ppAFE9"
      }
    },
    {
      "cell_type": "markdown",
      "source": [
        "In chapter 7 we introduced a graphical rule called the backdoor criterion to assess whether exchangeability holds for a time-fixed treatment under a particular causal diagram.\n",
        "\n",
        "The backdoor criterion can be generalized for time-varying treatments.\n",
        "\n",
        "Different DAG designs allow for different strategies. For example, there are cases where sequential exchangeability for $Y^g$ holds therefore the data can be used to validly estimate causal effects involving static and dynamic strategies. On the other hand, if only the weaker condition for stratic strategies holds, then the data can be used to validly estimate causal effects involving static strategies but not dynamic strategies."
      ],
      "metadata": {
        "id": "_xrwpVpk-5uQ"
      }
    },
    {
      "cell_type": "markdown",
      "source": [
        "## 19.6 Time-varying confounding and time-varying confounders"
      ],
      "metadata": {
        "id": "wLdojYBKgutr"
      }
    },
    {
      "cell_type": "markdown",
      "source": [
        "**A definition of time-varying confounding**:\n",
        "\n",
        "In the absense of selection bias, we say there is confounding for causal effects involving $E[Y^\\bar a]$ if $E[Y^\\bar a]\\neq E[Y|A=\\bar a]$, that is, if the mean outcome had, contrary to fact, all individuals in the study followed strategy $\\bar a$ differs from the mean outcome among the subset of individuals who followed strategy $\\bar a$ in the actual study.\n",
        "\n",
        "We say that the confounding is solely time-fixed (i.e., wholly attributable to baseline covariates) if $E[Y^\\bar a|L_0]=E[Y|A=\\bar a,L_0]$. In contrast, if the identifiability conditions hold but $E[Y^\\bar a]\\neq E[Y|A=\\bar a,L_0]$, we say that time-varying confounding is present.\n",
        "\n",
        "A sufficient condition for no time-varying confounding is *unconditional sequential exchangeability for* $Y^{\\bar a}$, i.e.,\n",
        "$$Y^\\bar a\\perp A_k|\\bar A_{k-1}=\\bar a_{k-1}$$\n",
        "\n",
        "The above would hold in sequentially randomized experiments.\n",
        "\n",
        "Unfortunately, we cannot empirically confirm that all confounders, whether time-fixed or time-varying, are measured. Interestingly, even if all confounders were correctly measured and modeled, most adjustment methods may still result in biased estimates when comparing treatment strategies. The next chapter explains why g-methods are the appropriate approach to adjust for time-varying confounders."
      ],
      "metadata": {
        "id": "gtMxOdeBnj2-"
      }
    }
  ]
}