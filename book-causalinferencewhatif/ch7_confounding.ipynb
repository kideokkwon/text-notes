{
  "nbformat": 4,
  "nbformat_minor": 0,
  "metadata": {
    "colab": {
      "provenance": [],
      "authorship_tag": "ABX9TyMJOVRZBJctl2NXQ7v0IRjf"
    },
    "kernelspec": {
      "name": "python3",
      "display_name": "Python 3"
    },
    "language_info": {
      "name": "python"
    }
  },
  "cells": [
    {
      "cell_type": "markdown",
      "source": [
        "# Chapter 7: Confounding"
      ],
      "metadata": {
        "id": "bKnPUnz2KYhj"
      }
    },
    {
      "cell_type": "markdown",
      "source": [
        "## 7.1 The Structure of Confounding"
      ],
      "metadata": {
        "id": "H2mSsI56KYkI"
      }
    },
    {
      "cell_type": "markdown",
      "source": [
        "In a causal DAG, a backdoor path is a noncausal path between treatment and outcome that remains even if all arrows pointing from treatment to other variables (the descendants of treatment) are removed. That is, the path has an arrow pointing into treatment.\n",
        "\n",
        "Confounding is the bias when treatment and outcome share a common cause."
      ],
      "metadata": {
        "id": "802XIc9-KYmh"
      }
    },
    {
      "cell_type": "markdown",
      "source": [
        "## 7.2 Confounding and Exchangeability"
      ],
      "metadata": {
        "id": "kyrLYIxJKYo_"
      }
    },
    {
      "cell_type": "markdown",
      "source": [
        "This section links the concept of confounding with exchangeability.\n",
        "\n",
        "Pearl (1995, 2009) proposed the backdoor criterion for nonparametric identification of causal effects.\n",
        "\n",
        "A set of covariates $L$ satisfies the *backdoor criterion* if all backdoor paths between $A$ and $Y$ are blocked by conditioning on $L$ and $L$ contains no variables that are descendants of treatment $A$.\n",
        "\n",
        "Under *faithfulness* and a further condition discussed in Technical Point 7.1, conditional exchangeability $Y^a\\perp A|L$ holds if and only if $L$ satisfies the backdoor criterion.\n",
        "\n",
        "**Technical Point 7.1: Does conditional exchangeability imply the backdoor criterion?**:\n",
        "\n",
        "$L$ satisfying the backdoor criterion always implies conditional exchangeability given $L$, even in the absense of faithfulness. However, the converse is not always true.\n",
        "\n",
        "The two settings in which the backdoor criterion is satisfied:\n",
        "1. No common causes of treatment and outcome\n",
        "2. Common causes of treatment and outcome but a subset of $L$ of measured non-descendants of $A$ suffices to block all backdoor paths. For brevity we say there is *no unmeasured confounding*.\n",
        "\n",
        "\n",
        "\n",
        "\n",
        "\n"
      ],
      "metadata": {
        "id": "na8gtx-XKYrR"
      }
    },
    {
      "cell_type": "markdown",
      "source": [
        "## 7.3 Confounding and the Backdoor Criterion"
      ],
      "metadata": {
        "id": "i34do4fGxkpW"
      }
    },
    {
      "cell_type": "markdown",
      "source": [
        "**Fine Point 7.1: The strength and direction of confounding bias**\n",
        "- biases that are not large enough to affect the conclusions of the study may be safely ignored in practice\n",
        "- a large confounding bias requires a strong confounder-treatment association and a strong confounder-outcome association.\n",
        "- For discrete confounders, the magnitude of the bias depends also on prevalence of the confounder."
      ],
      "metadata": {
        "id": "zJDD9R4Qxkrg"
      }
    },
    {
      "cell_type": "markdown",
      "source": [
        "## 7.4 Confounding and Confounders"
      ],
      "metadata": {
        "id": "LWp3cF_O0VaA"
      }
    },
    {
      "cell_type": "markdown",
      "source": [
        "**Fine Point 7.3: Surrogate confounders**\n",
        "- We refer to variables that can be used to reduce confounding bias even though they are not on a backdoor path (and so could never completely eliminate confounding) as surrogate confounders\n",
        "- A possible strategy to fight confounding is to measure as many surrogate confounders as possible and adjust for all of them.\n",
        "\n",
        "A structural (a graphical) approach to confounding emphasizes that causal inference from observational data requires *a priori* causal knowledge. This causal knowledge is summarized in a causal DAG that encodes the researchers beliefs or assumptions about the causal network. Of course, there is no guarantee that the researchers' causal DAG is correct and thus it is possible that, contrary to the researchers' beliefs, their chosen set of adjustment variables fails to eliminate confounding or introduces selection bias.\n",
        "\n",
        "However, the structural approach to confounding has two important advantages.\n",
        "1. Prevents inconsistencies between beliefs and actions\n",
        "2. Researchers' assumptions about confounding becomes explicit and therefore can be explicitly criticized by other investigators\n",
        "\n"
      ],
      "metadata": {
        "id": "5ow_iDCV1phm"
      }
    },
    {
      "cell_type": "markdown",
      "source": [
        "## 7.5 Single-World Intervention Graphs"
      ],
      "metadata": {
        "id": "XjVQj76B0VcF"
      }
    },
    {
      "cell_type": "markdown",
      "source": [
        "There is a new type of graph called SWIG (Single-World Intervention Graphs) that tries to unify the counterfactual and graphical approaches by explicitly including the counterfactual variables on the graph.\n",
        "\n",
        "A SWIG depicts the variables and causal relations that would be observed in a hypothetical world in which all individuals received treatment level $a$. That is, a SWIG is a *graph* that represents a counterfactual *world* created by a *single intervention*, while a standard causal diagram represent the actual world."
      ],
      "metadata": {
        "id": "D5SVyS3N4kxF"
      }
    },
    {
      "cell_type": "markdown",
      "source": [
        "## 7.6 Confounding Adjustment"
      ],
      "metadata": {
        "id": "f_hC1Sjr4kzR"
      }
    },
    {
      "cell_type": "markdown",
      "source": [
        "In the absense of randomization, causal inference relies on the uncheckable assumption that we have measured a set of variables $L$ that is a *sufficient set for confounder adjustment*, i.e., a set of non-descendants of treatment $A$ that includes enough variables to block all backdoor paths from $A$ to $Y$.\n",
        "\n",
        "Methods that adjust for confounders $L$ can be classified into two broad categories:\n",
        "\n",
        "**G-Methods**: Standardization, IP weighting, and g-estimation. These methods (the 'g' stands for 'generalized') exploit conditional exchangeability given $L$ to estimate the causal effect of $A$ on $Y$ in the entire population or in any subset of the population.\n",
        "\n",
        "**Conventional methods for stratification-based adjustment**: Stratification (including restriction) and matching. These methods exploit conditional exchangeability given $L$ to estimate the association between $A$ and $Y$ in subsets defined by $L$. Outcome regression is a model-based extention of conventional stratification.\n",
        "\n",
        "We will see in Chapter 20 that in the case of time-varying confounders, g-methods are the methods of choice to adjust for confounding because conventional stratification-based methods may result in selection bias.\n",
        "\n",
        "All the above require conditional exchangeability given $L$. However, confounding can sometimes be handled by methods that do not require conditional exchangeability.\n",
        "\n",
        "Examples:\n",
        "- Differences-in-Differences\n",
        "- Instrumental variable estimation\n",
        "- Front Door Criterion\n",
        "\n",
        "These require *alternate* assumptions that are unverifiable. Also, these methods cannot be generally employed for causal questions involving time-varying treatments."
      ],
      "metadata": {
        "id": "YVQ5i4rq5Puq"
      }
    }
  ]
}