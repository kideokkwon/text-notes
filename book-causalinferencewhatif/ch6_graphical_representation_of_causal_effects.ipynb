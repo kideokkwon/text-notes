{
  "nbformat": 4,
  "nbformat_minor": 0,
  "metadata": {
    "colab": {
      "provenance": [],
      "authorship_tag": "ABX9TyO5ku8Yv+5YNQt6xtfO1kYK"
    },
    "kernelspec": {
      "name": "python3",
      "display_name": "Python 3"
    },
    "language_info": {
      "name": "python"
    }
  },
  "cells": [
    {
      "cell_type": "markdown",
      "source": [
        "# Chapter 6: Graphical Representation of Causal Effects"
      ],
      "metadata": {
        "id": "fztP44AmqtpX"
      }
    },
    {
      "cell_type": "markdown",
      "source": [
        "Causal inference generally requires expert knowledge and untestable assumptions about the causal network linking treatment, outcome, and other variables.\n",
        "\n",
        "For complex situations, it will become crucial to be explicit about what we know and wehat we assume about the variables relevant to our particular causal inference problem.\n",
        "\n",
        "DAGs are a tool to represent our qualitative expert knowledge and *a priori* assumptions about the causal structure of interest.\n",
        "\n",
        "By summarizing knowledge and assumptions in an intuitive way, graphs help clarify conceptual problems and enhance communication among investigators.\n",
        "\n",
        ">\"*draw your assumptions before your conclusion*\""
      ],
      "metadata": {
        "id": "aihFIOlKqtr7"
      }
    },
    {
      "cell_type": "markdown",
      "source": [
        "## 6.1 Causal Diagrams"
      ],
      "metadata": {
        "id": "gtqP9d8dqtuT"
      }
    },
    {
      "cell_type": "markdown",
      "source": [
        "We define a directed acyclic graph (DAG) $G$ to be a graph whose nodes (vertices) are random variables $V=(V_1,...,V_M)$ with directed edges (arrows) and no directed cycles.\n",
        "\n",
        "We use $PA_m$ to denote the parents of $V_m$, i.e., the set of nodes from which there is a direct arrow *into* $V_m$. The variable $V_m$ is a descendant of $V_j$ (and $V_j$ is an ancestor of $V_m$) if there is a sequence of nodes connected by edges between $V_j$ and $V_m$ such that, following the direction indicated by the arrows, one can reach $V_m$ by starting at $V_j$.\n",
        "\n",
        "We adopt the ordering convention that if $m>j$, $V_m$ is not an ancestor of $V_j$.\n",
        "\n",
        "We define the distribution of $V$ to be Markov with respect to a DAG $G$ (equivalently, the distribution factors according to a DAG $G$) if, for each $j$, $V_j$ is independent of its non-descendants conditional on its parents. This latter statement is mathematically equivalent to the statement that the density $f(V)$ of the variables $V$ in DAG $G$ satisfies the Markov factorization\n",
        "$$f(v)=\\prod_{j=1}^{M}f(v_j|pa_j)$$\n",
        "\n",
        "So for example, when you have $$A_1\\rightarrow A_2\\rightarrow A_3$$\n",
        "We assume that if you control for $A_2$, then $A_3$ and $A_1$ become independent.\n",
        "\n",
        "A causal DAG is a DAG in which\n",
        "1. the lack of an arrow from node $V_j$ to $V_m$ can be interpreted as the absense of a direct causal effect of $V_j$ on $V_m$ relative to the other variables in the graph\n",
        "2. all common causes, even if unmeasured, of any pair of variables on the graph are themselves on the graph\n",
        "3. any variable is a cause of its descendants\n",
        "\n",
        "Causal DAGs are of no practical use unless we make an assumption linking the causal structure represented by the DAG to the data obtained in a study. This assumption, referred to as the causal Markov assumption, states that, conditional on its direct causes, a variable $V_j$ is independent of any variable for which it is not a cause. That is, conditional on its parents, $V_j$ is independent of its non-descendants; hence, a causal DAG is Markov with respect to the DAG $G$."
      ],
      "metadata": {
        "id": "bYESCZFHqtwo"
      }
    },
    {
      "cell_type": "markdown",
      "source": [
        "## 6.2 Causal Diagrams and Marginal Independence"
      ],
      "metadata": {
        "id": "4UGw6Nfyqtyv"
      }
    },
    {
      "cell_type": "markdown",
      "source": [
        "## 6.3 Causal Diagrams and Conditional Independence"
      ],
      "metadata": {
        "id": "BXYAgovAuJ5y"
      }
    },
    {
      "cell_type": "markdown",
      "source": [
        "## 6.4 Positivity and Consistency in Causal Diagrams"
      ],
      "metadata": {
        "id": "dEbqk7k6uJ8E"
      }
    },
    {
      "cell_type": "markdown",
      "source": [
        "**D-separation**: We define a path to be either blocked or open according to the following graphical rules.\n",
        "1. If there are no variables being conditioned on, a path is blocked if and only if two arrowheads on the path collide at some variable on the path. For instance, $L\\rightarrow A\\rightarrow Y$ is open, whereas $A\\rightarrow Y\\leftarrow L$ is blocked because two arrowheads on the path collide at $Y$. We call $Y$ a collider on the path $A\\rightarrow Y\\leftarrow L$.\n",
        "2. Any path that contains a non-collider that has been conditioned on is blocked.\n",
        "3. A coolider that has been conditioned on does not block a path.\n",
        "4. A collider that has a descendent that has been conditioned on does not block a path.\n",
        "\n",
        "The above 4 rules can be summarized as:\n",
        "A path is blocked if and only if it contains a non-collider that has been conditioned on, or it contains a collider that has not been conditioned on and has no descendents that have been conditioned on.\n",
        "\n",
        "Two variables are $d$-separated if all paths between them are blocked.\n",
        "\n",
        "The relationship between statistical independence and the purely graphical concept of $d$-separation relies on the causal markov assumption: In a causal DAG, any variable is independent of its non-descendants conditional on its parents.\n",
        "\n",
        "Pearl (1988) proved the following fundamental theorem: The causal Markov assumption implies that, given any 3 disjoint sets $A,B,C$ of variables, if $A$ is $d$-separated from $B$ conditional on $C$, then $A$ is statistically independent of $B$ given $C$.\n",
        "\n",
        "Because causal diagrams encode our qualitative expert knowledge about the causal structure, they can be used as a visual aid to help conceptualize causal problems and guide data analyses. In fact, the formulas we described in Chapter 2 to quantify treatment effects, standardization and IP weighting - can also be derived using causal graphs theory, as part of what is sometimes referred to as the *do-calculus*.\n",
        "\n",
        "Regardless of notation used (potential-outcomes or graphs), exchangeability, positivity, and consistency are conditions required for causal inference via standardization or IP weighting."
      ],
      "metadata": {
        "id": "DbXGflKSuZXp"
      }
    },
    {
      "cell_type": "markdown",
      "source": [
        "## 6.5 A Structural Classification of Bias"
      ],
      "metadata": {
        "id": "NxsY-pw6uZaX"
      }
    },
    {
      "cell_type": "markdown",
      "source": [
        "We can describe how lack of exchangeability can result from two different causal structures:\n",
        "1. Common causes: When the treatment and outcome share a common cause, the association measure generally differs from the effect measure. Many epidemiologists use the term *confounding* to refer to this bias.\n",
        "2. Conditioning on common effects: This structure is the source of bias that many epidemiologists refer to as *selection bias under the null*.\n",
        "\n",
        "The next 3 chapters will be about the 3 types of systematic bias:\n",
        "- confounding\n",
        "- selection\n",
        "- measurement\n",
        "\n"
      ],
      "metadata": {
        "id": "8OLJiBksIkLx"
      }
    },
    {
      "cell_type": "markdown",
      "source": [
        "## 6.6 The Structure of Effect Modification"
      ],
      "metadata": {
        "id": "01YARI7bIkku"
      }
    },
    {
      "cell_type": "markdown",
      "source": [
        "Causal diagrams are less helpful to illustrate the concept of effect modification.\n",
        "\n",
        "In addition, Causal diagrams are in principle agnostic about the presence of interaction between two treatments $A$ and $E$."
      ],
      "metadata": {
        "id": "u5AMfn90JmaL"
      }
    }
  ]
}