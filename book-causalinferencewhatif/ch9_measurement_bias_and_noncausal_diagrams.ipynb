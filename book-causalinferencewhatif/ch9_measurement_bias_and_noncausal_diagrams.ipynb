{
  "nbformat": 4,
  "nbformat_minor": 0,
  "metadata": {
    "colab": {
      "provenance": [],
      "authorship_tag": "ABX9TyMSi9wlDjXhERHR4L7GDXQw"
    },
    "kernelspec": {
      "name": "python3",
      "display_name": "Python 3"
    },
    "language_info": {
      "name": "python"
    }
  },
  "cells": [
    {
      "cell_type": "markdown",
      "source": [
        "# Chapter 9: Measurement Bias and \"Noncausal\" Diagrams"
      ],
      "metadata": {
        "id": "CmtrX77j2MPq"
      }
    },
    {
      "cell_type": "markdown",
      "source": [
        "We say that there is measurement bias when the association between treatment and outcome is weakened or strengthened as a result of the process by which the study data are measured. This pertains to both RCT's and observational studies because measurement bias can occur under any study design."
      ],
      "metadata": {
        "id": "cLqcWC6z2MSZ"
      }
    },
    {
      "cell_type": "markdown",
      "source": [
        "## 9.1 Measurement Error"
      ],
      "metadata": {
        "id": "vEmfNTVt2MUp"
      }
    },
    {
      "cell_type": "markdown",
      "source": [
        "## 9.2 The Structure of Measurement Error"
      ],
      "metadata": {
        "id": "3nQz46L22i95"
      }
    },
    {
      "cell_type": "markdown",
      "source": [
        "Measurement bias arises in the presence of measurement error, but there is no single structure to summarize measurement error. This section classifies the structure of measurement error according to two properties:\n",
        "- independence\n",
        "- nondifferentiality"
      ],
      "metadata": {
        "id": "AtBYP52f2jAM"
      }
    },
    {
      "cell_type": "markdown",
      "source": [
        "## 9.3 Mismeasured Confounders and Colliders"
      ],
      "metadata": {
        "id": "koQ0PyKx2jCR"
      }
    },
    {
      "cell_type": "markdown",
      "source": [
        "Besides the treatment $A$ and the outcome $Y$, the confounders $L$ may also be measured with error."
      ],
      "metadata": {
        "id": "IWQppprr3f4v"
      }
    },
    {
      "cell_type": "markdown",
      "source": [
        "## 9.4 Causal Diagrams without Mismeasured Variables?"
      ],
      "metadata": {
        "id": "zyYCh5cs3f65"
      }
    },
    {
      "cell_type": "markdown",
      "source": [
        "So far when drawing causal diagrams, we have been implicitly making two simplifying, and related, assumptions\n",
        "\n",
        "First is that all variables on the diagram are perfectly measured.\n",
        "\n",
        "The next section discusses the second assumption"
      ],
      "metadata": {
        "id": "_mO5HkMb3f9G"
      }
    },
    {
      "cell_type": "markdown",
      "source": [
        "## 9.5 Many Proposed Causal Diagrams include Noncausal arrows"
      ],
      "metadata": {
        "id": "G_RqiXQY4AHM"
      }
    },
    {
      "cell_type": "markdown",
      "source": [
        "When we put an arrow from $L$ to $Y$, where $L$ is one of our propsed confounders, technically speaking we are saying that there is a causal relationship between $L$ to $Y$, when in fact it could just be associational (but still does help to control for confounding as $L$ and $Y$ share a common cause $H$ that is the true causal variable to $Y$). However, we often just make the arrows directly from $L$ to $Y$ despite it not being causal."
      ],
      "metadata": {
        "id": "d1L4AwnJ4AJj"
      }
    },
    {
      "cell_type": "markdown",
      "source": [
        "## 9.6 Does it Matter that many proposed Diagrams include Noncausal Arrows?"
      ],
      "metadata": {
        "id": "jwbyGIxH4ALZ"
      }
    },
    {
      "cell_type": "markdown",
      "source": [
        "many DAGs proposed in the health and social sciences are actually noncausal DAGs because they lack the hidden variables $H$ that make the DAG causal.\n",
        "\n",
        "This can be fine, but the researcher must be careful as a scientifically blind acceptance of DAGs with noncausal arrows may lead to incorrect conclusions for causal inference."
      ],
      "metadata": {
        "id": "uhpCYcy767Ky"
      }
    }
  ]
}