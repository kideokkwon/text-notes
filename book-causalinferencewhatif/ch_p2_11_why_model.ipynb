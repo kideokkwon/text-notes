{
  "nbformat": 4,
  "nbformat_minor": 0,
  "metadata": {
    "colab": {
      "provenance": [],
      "authorship_tag": "ABX9TyOzG937E+0ru4rBvR4RfFuQ"
    },
    "kernelspec": {
      "name": "python3",
      "display_name": "Python 3"
    },
    "language_info": {
      "name": "python"
    }
  },
  "cells": [
    {
      "cell_type": "markdown",
      "source": [
        "# Chapter 11: Why Model?"
      ],
      "metadata": {
        "id": "tab3fJ3iQ8GZ"
      }
    },
    {
      "cell_type": "markdown",
      "source": [
        "This chapter describes the differences between the nonparametric estimators used in Part I (Chapters 1-10) and the parametric (model-based) estimators used in Part II."
      ],
      "metadata": {
        "id": "ZkP9-d2rQ8Iu"
      }
    },
    {
      "cell_type": "markdown",
      "source": [
        "## 11.1 Data annot Speak for Themselves"
      ],
      "metadata": {
        "id": "jaV0oZ-3Q8LB"
      }
    },
    {
      "cell_type": "markdown",
      "source": [
        "## 11.2 Parametric Estimators of the Conditional Mean"
      ],
      "metadata": {
        "id": "UB2Q0yQ7ROaF"
      }
    },
    {
      "cell_type": "markdown",
      "source": [
        "Suppose we wish to estimate the mean of $Y$ among individuals with a certain value of $A$.\n",
        "\n",
        "Suppose we also know that the treatment-specific population mean of $Y$ is a linear function of the value of $A$ throughout the range of $A$. Then,\n",
        "$$E[Y|A]=\\theta_0+\\theta_1A$$\n",
        "This equation is a restriction on the shape of $E[Y|A]$ and is referred to as a *linear mean model*, with the $\\theta$'s being the parameters.\n",
        "\n",
        "Models that describe the conditional mean function in terms of a finite number of parameters are referred to as a parametric conditional mean model.\n",
        "\n",
        "Given the assumptions above, an exactly unbiased estimators of the $\\theta$'s can be obtained by the method of *ordinary least squares*.\n",
        "\n",
        "Remember that when using a parametric model, the inferences are correct only if the restrictions encoded in the model are correct. Thus, model-based causal inference relies on the condition of no *model misspecification*."
      ],
      "metadata": {
        "id": "G5Piz0s_ROcP"
      }
    },
    {
      "cell_type": "markdown",
      "source": [
        "## 11.3 Nonparametric Estimators of the Conditional Mean"
      ],
      "metadata": {
        "id": "WiTZNSgHROe0"
      }
    },
    {
      "cell_type": "markdown",
      "source": [
        "Note that if you have a dichotomous treatment $A$, the results of the model of\n",
        "$$E[Y|A=a]=\\theta_0+\\theta_1A$$\n",
        "will be identical to the nonparametric averages. Models which do not impose restrictions on the distribution of the data are referred to as *saturated models*.\n",
        "\n",
        "Generally, the model is saturated whenever the number of parameters in a conditional mean model is equal to the number of unknown conditional means in the population.\n",
        "\n",
        "When a model has only a few parameters but is used to estimate many population quantities, we say that the model is *parsimonious*.\n",
        "\n",
        "Note that all methods for causal inference described so far:\n",
        "- standardization\n",
        "- IP weighting\n",
        "- stratification\n",
        "- matching\n",
        "\n",
        "were based on nonparametric estimators of population quantities under a saturated model because they did not impose any *a priori* restrictions on the value of the effect estimates. This will change now."
      ],
      "metadata": {
        "id": "Py04kzDqUGWl"
      }
    },
    {
      "cell_type": "markdown",
      "source": [
        "## 11.4 Smoothing"
      ],
      "metadata": {
        "id": "xWx1G90tUGZI"
      }
    },
    {
      "cell_type": "markdown",
      "source": [
        "Note that fitting $E[Y|A]=\\theta_0+\\theta_1A+\\theta_2A^2$ is still referred to as a linear model because the conditional mean is expressed as a linear combination."
      ],
      "metadata": {
        "id": "n0BWIpioUGb0"
      }
    },
    {
      "cell_type": "markdown",
      "source": [
        "## 11.5 The Bias-Variance Trade-Off"
      ],
      "metadata": {
        "id": "6uEYbegRVwhE"
      }
    },
    {
      "cell_type": "markdown",
      "source": [
        "In general, the larger the number of parameters in the model, the fewer restrictions the model imposes; the less smooth the model, the more protection afforded against bias from model misspecification. However, they also tend to result in larger variange (i.e., wider confidence intervals)."
      ],
      "metadata": {
        "id": "KDFQ9DTUVwjZ"
      }
    }
  ]
}