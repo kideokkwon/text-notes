{
  "nbformat": 4,
  "nbformat_minor": 0,
  "metadata": {
    "colab": {
      "provenance": [],
      "authorship_tag": "ABX9TyMcXcw0VtRvz6OnJPIYus3y"
    },
    "kernelspec": {
      "name": "python3",
      "display_name": "Python 3"
    },
    "language_info": {
      "name": "python"
    }
  },
  "cells": [
    {
      "cell_type": "markdown",
      "source": [
        "# (Pearl, 2009) Causal Inference in Statistics: An Overview"
      ],
      "metadata": {
        "id": "3_1BriW77R5q"
      }
    },
    {
      "cell_type": "markdown",
      "source": [
        "Took some notes on Pearl's paper in 2009 called \"Causal Inference in Statistics: An Overview\" - [link to paper](https://ftp.cs.ucla.edu/pub/stat_ser/r350-reprint.pdf)\n",
        "\n",
        "Below, I attempt to summarize the main findings, keeping it as concise as possible.\n",
        "\n",
        "Something I felt while reading this paper is that similar to quite a bit of the other work of Pearl that I've read (such as his book \"The Book of Why\"), it feels noticeably distinct from other causal inference papers. While other papers I've read on observational causal inference has focused on a problem and solving it with causal inference methodology, Pearl's work focuses not on the methods but developing the mathematical *theory* on causation itself. He is focused on creating the language while letting other scholars apply the language to do meaningful causal inference. Another note (perhaps a little bit amusing) is that I have not read work by Pearl where he doesn't take jabs at least two entities - and it always includes Donald Rubin and \"traditional statisticians\".\n",
        "\n",
        "\n",
        "\n",
        "\n"
      ],
      "metadata": {
        "id": "mBaOoP6x7WdN"
      }
    },
    {
      "cell_type": "markdown",
      "source": [
        "## 1. Introduction"
      ],
      "metadata": {
        "id": "5_n_m0EumeGE"
      }
    },
    {
      "cell_type": "markdown",
      "source": [
        "In this section, he talks quite a bit about how scholars versed in traditional statistics have failed to understand the separation and language required when performing causal analyses relative to statistical analyses.\n",
        "\n",
        "He claims that two concepts act as a wall that statisticians need to cope with to truly understand causal inference:\n",
        "1. coping with untestable assumptions\n",
        "2. acquiring new mathematical notation\n",
        "\n"
      ],
      "metadata": {
        "id": "DK-5VrrzmpEn"
      }
    },
    {
      "cell_type": "markdown",
      "source": [
        "## 2. From association to causation"
      ],
      "metadata": {
        "id": "ShjZ9rtOmpHH"
      }
    },
    {
      "cell_type": "markdown",
      "source": [
        "Mentions how there's a few ways that causal expressions have been recognized in statistical literature.\n",
        "\n",
        "In the potential-outcome notation, we use variables such as $Y_x(u)$ which stands for the value that outcome $Y$ *would take* in individual $u$ had treatment $X$ been at level $x$.\n",
        "\n",
        "Alternatively, Pearl (1995a) uses $P(Y=y|do(X=x))$ to denote the probability that event ($Y=y$) would occur if treatment condition $X=x$ were enforced uniformly over the population.\n",
        "\n",
        "A third notation uses grpahical models where arrows convey causal directionality."
      ],
      "metadata": {
        "id": "MHlOMI6mmpJM"
      }
    },
    {
      "cell_type": "markdown",
      "source": [
        "## 3. Structural models, diagrams, causal effects, and counterfactuals"
      ],
      "metadata": {
        "id": "ZHMrEYypmpLV"
      }
    },
    {
      "cell_type": "markdown",
      "source": [
        "Pearl develops the *Structural Causal Model (SCM)*, which is the causal theory he developed, which he justifies because he says that a concept worthy of the title \"theory\" must be able to:\n",
        "1. represent causal Q's in a mathematical language\n",
        "2. provide precise language for communicating assumptions\n",
        "3. provide a systematic way of answer some of these questions\n",
        "4. provide method of determining what assumptions would be needed to answer \"unnswerable\" questions\n",
        "5. must subsume any other theory or method that scientists have found useful in exploring causation\n",
        "\n",
        "and that his theory fulfills it. He says that CSM combines features of SEM, the potential outcomes framework, and graphical models (used for causal analyses)."
      ],
      "metadata": {
        "id": "gkeJOoWcoLK0"
      }
    },
    {
      "cell_type": "markdown",
      "source": [
        "\n",
        "Take the following structural graphical model:"
      ],
      "metadata": {
        "id": "yxmcyBEBoLNE"
      }
    },
    {
      "cell_type": "code",
      "source": [
        "# @title Fig. 2(a)\n",
        "import graphviz as gr\n",
        "g = gr.Digraph()\n",
        "g.node('Z')\n",
        "g.node('X')\n",
        "g.node('Y')\n",
        "g.node('a','uX')\n",
        "g.node('b','uY')\n",
        "g.node('c','uZ')\n",
        "\n",
        "g.edge('Z','X',constraint='False')\n",
        "g.edge('X','Y',constraint='False')\n",
        "g.edges(['aX','bY','cZ'])\n",
        "g"
      ],
      "metadata": {
        "colab": {
          "base_uri": "https://localhost:8080/",
          "height": 176
        },
        "id": "n8NdvewGLnZG",
        "outputId": "dfbce52d-4ed9-48c0-d711-fe74cb1914db",
        "cellView": "form"
      },
      "execution_count": null,
      "outputs": [
        {
          "output_type": "execute_result",
          "data": {
            "image/svg+xml": "<?xml version=\"1.0\" encoding=\"UTF-8\" standalone=\"no\"?>\n<!DOCTYPE svg PUBLIC \"-//W3C//DTD SVG 1.1//EN\"\n \"http://www.w3.org/Graphics/SVG/1.1/DTD/svg11.dtd\">\n<!-- Generated by graphviz version 2.43.0 (0)\n -->\n<!-- Title: %3 Pages: 1 -->\n<svg width=\"206pt\" height=\"116pt\"\n viewBox=\"0.00 0.00 206.00 116.00\" xmlns=\"http://www.w3.org/2000/svg\" xmlns:xlink=\"http://www.w3.org/1999/xlink\">\n<g id=\"graph0\" class=\"graph\" transform=\"scale(1 1) rotate(0) translate(4 112)\">\n<title>%3</title>\n<polygon fill=\"white\" stroke=\"transparent\" points=\"-4,4 -4,-112 202,-112 202,4 -4,4\"/>\n<!-- Z -->\n<g id=\"node1\" class=\"node\">\n<title>Z</title>\n<ellipse fill=\"none\" stroke=\"black\" cx=\"27\" cy=\"-18\" rx=\"27\" ry=\"18\"/>\n<text text-anchor=\"middle\" x=\"27\" y=\"-14.3\" font-family=\"Times,serif\" font-size=\"14.00\">Z</text>\n</g>\n<!-- X -->\n<g id=\"node2\" class=\"node\">\n<title>X</title>\n<ellipse fill=\"none\" stroke=\"black\" cx=\"99\" cy=\"-18\" rx=\"27\" ry=\"18\"/>\n<text text-anchor=\"middle\" x=\"99\" y=\"-14.3\" font-family=\"Times,serif\" font-size=\"14.00\">X</text>\n</g>\n<!-- Z&#45;&gt;X -->\n<g id=\"edge1\" class=\"edge\">\n<title>Z&#45;&gt;X</title>\n<path fill=\"none\" stroke=\"black\" d=\"M54,-18C56.61,-18 59.23,-18 61.84,-18\"/>\n<polygon fill=\"black\" stroke=\"black\" points=\"61.93,-21.5 71.93,-18 61.93,-14.5 61.93,-21.5\"/>\n</g>\n<!-- Y -->\n<g id=\"node3\" class=\"node\">\n<title>Y</title>\n<ellipse fill=\"none\" stroke=\"black\" cx=\"171\" cy=\"-18\" rx=\"27\" ry=\"18\"/>\n<text text-anchor=\"middle\" x=\"171\" y=\"-14.3\" font-family=\"Times,serif\" font-size=\"14.00\">Y</text>\n</g>\n<!-- X&#45;&gt;Y -->\n<g id=\"edge2\" class=\"edge\">\n<title>X&#45;&gt;Y</title>\n<path fill=\"none\" stroke=\"black\" d=\"M126,-18C128.61,-18 131.23,-18 133.84,-18\"/>\n<polygon fill=\"black\" stroke=\"black\" points=\"133.93,-21.5 143.93,-18 133.93,-14.5 133.93,-21.5\"/>\n</g>\n<!-- a -->\n<g id=\"node4\" class=\"node\">\n<title>a</title>\n<ellipse fill=\"none\" stroke=\"black\" cx=\"99\" cy=\"-90\" rx=\"27\" ry=\"18\"/>\n<text text-anchor=\"middle\" x=\"99\" y=\"-86.3\" font-family=\"Times,serif\" font-size=\"14.00\">uX</text>\n</g>\n<!-- a&#45;&gt;X -->\n<g id=\"edge3\" class=\"edge\">\n<title>a&#45;&gt;X</title>\n<path fill=\"none\" stroke=\"black\" d=\"M99,-71.7C99,-63.98 99,-54.71 99,-46.11\"/>\n<polygon fill=\"black\" stroke=\"black\" points=\"102.5,-46.1 99,-36.1 95.5,-46.1 102.5,-46.1\"/>\n</g>\n<!-- b -->\n<g id=\"node5\" class=\"node\">\n<title>b</title>\n<ellipse fill=\"none\" stroke=\"black\" cx=\"171\" cy=\"-90\" rx=\"27\" ry=\"18\"/>\n<text text-anchor=\"middle\" x=\"171\" y=\"-86.3\" font-family=\"Times,serif\" font-size=\"14.00\">uY</text>\n</g>\n<!-- b&#45;&gt;Y -->\n<g id=\"edge4\" class=\"edge\">\n<title>b&#45;&gt;Y</title>\n<path fill=\"none\" stroke=\"black\" d=\"M171,-71.7C171,-63.98 171,-54.71 171,-46.11\"/>\n<polygon fill=\"black\" stroke=\"black\" points=\"174.5,-46.1 171,-36.1 167.5,-46.1 174.5,-46.1\"/>\n</g>\n<!-- c -->\n<g id=\"node6\" class=\"node\">\n<title>c</title>\n<ellipse fill=\"none\" stroke=\"black\" cx=\"27\" cy=\"-90\" rx=\"27\" ry=\"18\"/>\n<text text-anchor=\"middle\" x=\"27\" y=\"-86.3\" font-family=\"Times,serif\" font-size=\"14.00\">uZ</text>\n</g>\n<!-- c&#45;&gt;Z -->\n<g id=\"edge5\" class=\"edge\">\n<title>c&#45;&gt;Z</title>\n<path fill=\"none\" stroke=\"black\" d=\"M27,-71.7C27,-63.98 27,-54.71 27,-46.11\"/>\n<polygon fill=\"black\" stroke=\"black\" points=\"30.5,-46.1 27,-36.1 23.5,-46.1 30.5,-46.1\"/>\n</g>\n</g>\n</svg>\n",
            "text/plain": [
              "<graphviz.graphs.Digraph at 0x7b4688647880>"
            ]
          },
          "metadata": {},
          "execution_count": 11
        }
      ]
    },
    {
      "cell_type": "markdown",
      "source": [
        "which correspond with a set of 3 functions\n",
        "$$\\begin{align}z&=f_Z(u_Z)\\\\x&=f_X(z,u_X)\\\\y&=f_Y(x,u_Y)\\end{align}$$\n",
        "\n",
        "Note how the above are nonparametric - they make no functional form assumptions. Traditionally, these equations have been expressed as linear models.\n",
        "\n",
        "The causal effect of $X$ on $Y$ is captured in the arrow from $X$ to $Y$. $Z$ is a variable that affects $X$.\n",
        "\n",
        "The $U_Z,U_X,U_Y$ are referred to as \"exogenous\" variables, which represent observed or unobserved background factors that the modeler decides to keep unexplained, as in nothing points to the exogenous variables. The variables with arrows going into it are called endogenous variables.\n",
        "\n",
        "Note how in the above, it is implicitly stated in the graph that the exogenous variables of this model do not influence each other. In fact, there are a total of 7 causal assumptions made above, each corresponding to a missing arrow or a missing double-arrow between a pair of variables.\n",
        "\n",
        "We can \"tell\" from the graph above that $Z$ is unassociated with $Y$ in every stratum of $X$. This is inferred using a graphical criterion known as $d$-separation (Pearl, 1988).\n",
        "\n",
        "**Definition 1 ($d$-separation)**:\n",
        "\n",
        "A set $S$ of nodes is said to block a path $p$ (can be a path that contains any number of nodes) if either\n",
        "- (i) $p$ contains at least one arrow-emitting node (a node that has an arrow coming out of it) that is in $S$, or\n",
        "- (ii) $p$ contains at least one collision node that is outside $S$ and has no descendant in $S$.\n",
        "\n",
        "If $S$ blocks *all* paths from $X$ to $Y$, it is said to \"$d$-separate $X$ and $Y$\", and then, $X$ are independent given $S$, written $X\\perp Y|S$\n",
        "\n",
        "To make the above definition clear,\n",
        "\n",
        "The path $U_Z\\rightarrow Z\\rightarrow X\\rightarrow Y$ is blocked by $S=\\{Z\\}$ and $S=\\{X\\}$ since each fulfills (i). Thus, one thing we can say is that $U_Z\\perp Y|X$.\n",
        "\n",
        "Another example is that the path $U_Z\\rightarrow Z\\rightarrow X\\leftarrow U_X$ is blocked by the null set $\\{\\emptyset\\}$ but not $\\{Y\\}$. This is because according to (ii), the specified path contains a collision node $X$ that is not in $S=\\{\\emptyset\\}$. However, $\\{Y\\}$ does not work because it is a descendent of the collision node $X$. Thus, marginal independence $U_Z\\perp U_X$ holds but the conditional independence $U_Z\\perp U_X|Y$ may not.\n",
        "\n",
        "\n"
      ],
      "metadata": {
        "id": "A1IhqO-WoLPh"
      }
    },
    {
      "cell_type": "markdown",
      "source": [
        "Going back to the nonparametric equations above ($z,x,y$), note how there is no variable $Z$ in $f_Y$. This conveys that variations in $Z$ will leave $Y$ unchanged as long as what is part of $f_Y$, which are $X,U_Y$ remain constant.\n",
        "\n",
        "A system of such functions are said to be *structural* if they are assumed autonomous, that is, each function is invariant to possible changes in the form of the other functions.\n",
        "\n",
        "This feature of \"invariance\" allows the use of structural equations as a basis for modeling causal effects and counterfactuals using an operator called $do(x)$ which simulates physical interventions by deleting certain functions from the model, replacing them by a constant $X=x$ while keeping the rest of the model unchanged.\n",
        "\n",
        "For example, if we took the model $M$ from Fig. 2(a) and emulate an intervention $do(x_0)$ that holds $X$ constant at $X=x_0$, we get the following new model $M_{x_0}$:\n",
        "\n",
        "$$\\begin{align}z&=f_Z(u_Z)\\\\x&=x_0\\\\y&=f_Y(x,u_Y)\\end{align}$$\n",
        "\n",
        "with the corresponding graph:"
      ],
      "metadata": {
        "id": "jvjUw9VLmpNS"
      }
    },
    {
      "cell_type": "code",
      "source": [
        "# @title Fig. 2(b)\n",
        "import graphviz as gr\n",
        "g = gr.Digraph()\n",
        "g.node('Z')\n",
        "g.node('a','uX')\n",
        "g.node('X')\n",
        "g.node('d','x0')\n",
        "g.node('Y')\n",
        "g.node('b','uY')\n",
        "g.node('c','uZ')\n",
        "\n",
        "g.edge('d','X')\n",
        "g.edge('X','Y',constraint='False')\n",
        "g.edges(['bY','cZ'])\n",
        "g"
      ],
      "metadata": {
        "colab": {
          "base_uri": "https://localhost:8080/",
          "height": 176
        },
        "cellView": "form",
        "id": "ZNexGrV92gU8",
        "outputId": "b7d6dfe2-a4b0-49d0-a76b-eaeb31fc55eb"
      },
      "execution_count": null,
      "outputs": [
        {
          "output_type": "execute_result",
          "data": {
            "image/svg+xml": "<?xml version=\"1.0\" encoding=\"UTF-8\" standalone=\"no\"?>\n<!DOCTYPE svg PUBLIC \"-//W3C//DTD SVG 1.1//EN\"\n \"http://www.w3.org/Graphics/SVG/1.1/DTD/svg11.dtd\">\n<!-- Generated by graphviz version 2.43.0 (0)\n -->\n<!-- Title: %3 Pages: 1 -->\n<svg width=\"278pt\" height=\"116pt\"\n viewBox=\"0.00 0.00 278.00 116.00\" xmlns=\"http://www.w3.org/2000/svg\" xmlns:xlink=\"http://www.w3.org/1999/xlink\">\n<g id=\"graph0\" class=\"graph\" transform=\"scale(1 1) rotate(0) translate(4 112)\">\n<title>%3</title>\n<polygon fill=\"white\" stroke=\"transparent\" points=\"-4,4 -4,-112 274,-112 274,4 -4,4\"/>\n<!-- Z -->\n<g id=\"node1\" class=\"node\">\n<title>Z</title>\n<ellipse fill=\"none\" stroke=\"black\" cx=\"27\" cy=\"-18\" rx=\"27\" ry=\"18\"/>\n<text text-anchor=\"middle\" x=\"27\" y=\"-14.3\" font-family=\"Times,serif\" font-size=\"14.00\">Z</text>\n</g>\n<!-- a -->\n<g id=\"node2\" class=\"node\">\n<title>a</title>\n<ellipse fill=\"none\" stroke=\"black\" cx=\"99\" cy=\"-90\" rx=\"27\" ry=\"18\"/>\n<text text-anchor=\"middle\" x=\"99\" y=\"-86.3\" font-family=\"Times,serif\" font-size=\"14.00\">uX</text>\n</g>\n<!-- X -->\n<g id=\"node3\" class=\"node\">\n<title>X</title>\n<ellipse fill=\"none\" stroke=\"black\" cx=\"171\" cy=\"-18\" rx=\"27\" ry=\"18\"/>\n<text text-anchor=\"middle\" x=\"171\" y=\"-14.3\" font-family=\"Times,serif\" font-size=\"14.00\">X</text>\n</g>\n<!-- Y -->\n<g id=\"node5\" class=\"node\">\n<title>Y</title>\n<ellipse fill=\"none\" stroke=\"black\" cx=\"243\" cy=\"-18\" rx=\"27\" ry=\"18\"/>\n<text text-anchor=\"middle\" x=\"243\" y=\"-14.3\" font-family=\"Times,serif\" font-size=\"14.00\">Y</text>\n</g>\n<!-- X&#45;&gt;Y -->\n<g id=\"edge2\" class=\"edge\">\n<title>X&#45;&gt;Y</title>\n<path fill=\"none\" stroke=\"black\" d=\"M198,-18C200.61,-18 203.23,-18 205.84,-18\"/>\n<polygon fill=\"black\" stroke=\"black\" points=\"205.93,-21.5 215.93,-18 205.93,-14.5 205.93,-21.5\"/>\n</g>\n<!-- d -->\n<g id=\"node4\" class=\"node\">\n<title>d</title>\n<ellipse fill=\"none\" stroke=\"black\" cx=\"171\" cy=\"-90\" rx=\"27\" ry=\"18\"/>\n<text text-anchor=\"middle\" x=\"171\" y=\"-86.3\" font-family=\"Times,serif\" font-size=\"14.00\">x0</text>\n</g>\n<!-- d&#45;&gt;X -->\n<g id=\"edge1\" class=\"edge\">\n<title>d&#45;&gt;X</title>\n<path fill=\"none\" stroke=\"black\" d=\"M171,-71.7C171,-63.98 171,-54.71 171,-46.11\"/>\n<polygon fill=\"black\" stroke=\"black\" points=\"174.5,-46.1 171,-36.1 167.5,-46.1 174.5,-46.1\"/>\n</g>\n<!-- b -->\n<g id=\"node6\" class=\"node\">\n<title>b</title>\n<ellipse fill=\"none\" stroke=\"black\" cx=\"243\" cy=\"-90\" rx=\"27\" ry=\"18\"/>\n<text text-anchor=\"middle\" x=\"243\" y=\"-86.3\" font-family=\"Times,serif\" font-size=\"14.00\">uY</text>\n</g>\n<!-- b&#45;&gt;Y -->\n<g id=\"edge3\" class=\"edge\">\n<title>b&#45;&gt;Y</title>\n<path fill=\"none\" stroke=\"black\" d=\"M243,-71.7C243,-63.98 243,-54.71 243,-46.11\"/>\n<polygon fill=\"black\" stroke=\"black\" points=\"246.5,-46.1 243,-36.1 239.5,-46.1 246.5,-46.1\"/>\n</g>\n<!-- c -->\n<g id=\"node7\" class=\"node\">\n<title>c</title>\n<ellipse fill=\"none\" stroke=\"black\" cx=\"27\" cy=\"-90\" rx=\"27\" ry=\"18\"/>\n<text text-anchor=\"middle\" x=\"27\" y=\"-86.3\" font-family=\"Times,serif\" font-size=\"14.00\">uZ</text>\n</g>\n<!-- c&#45;&gt;Z -->\n<g id=\"edge4\" class=\"edge\">\n<title>c&#45;&gt;Z</title>\n<path fill=\"none\" stroke=\"black\" d=\"M27,-71.7C27,-63.98 27,-54.71 27,-46.11\"/>\n<polygon fill=\"black\" stroke=\"black\" points=\"30.5,-46.1 27,-36.1 23.5,-46.1 30.5,-46.1\"/>\n</g>\n</g>\n</svg>\n",
            "text/plain": [
              "<graphviz.graphs.Digraph at 0x7b4690d61930>"
            ]
          },
          "metadata": {},
          "execution_count": 23
        }
      ]
    },
    {
      "cell_type": "markdown",
      "source": [
        "The joint distribution associated with the modified model, denoted $P(z,y|do(x_0))$ describes the post-intervention distribution of variables $Y,Z$, to be distinguished from the pre-intervention distribution $P(x,y,z)$.\n",
        "\n",
        "In general, we formally define the post-intervention distribution by the equation:\n",
        "$$P_M(y|do(X))\\triangleq P_{M_x}(y)$$\n",
        "\n",
        "Using this distribution, we can find the average difference with\n",
        "$$E(Y|do(x_0'))-E(Y|do(x_o))$$\n",
        "\n",
        "This can be a ratio of the averages (risk ratio), or even comparisons of variance or other distributional parameters.\n",
        "\n",
        "These are all obtained using the $P(z,y|do(x_0))$ we got above by:\n",
        "$$P(Y=y|do(x))=\\sum_z P(z,y|do(x))$$\n",
        "\n",
        "So to summarize, the central question is, can the controlled (post-intervention) distribution, $P(Y=y|do(x))$ be estimated from the pre-intervention distribution $P(z,x,y)$? Solving this question is a concept known as *identification*.\n",
        "\n",
        "Let's refer to $Q(M)=P(y|do(x))$ as a *causal quantity*.\n",
        "\n",
        "**Definition 2 (Identifiability)**:\n",
        "\n",
        "A quantity $Q(M)$ is identifiable, given a set of assumptions $A$, if for any two models $M_1$ and $M_2$ that satisfy $A$, we have\n",
        "$$P(M_1)=P(M_2)\\rightarrow Q(M_1)=Q(M_2)$$\n",
        "\n",
        "In other words, the details of the models of $M_1,M_2$ does not matter; what matters is that the assumptions of $A$ (encoded in the diagram) would constrain the variability of those details in such a way that equality of $P$'s entails the equality of $Q$'s.\n"
      ],
      "metadata": {
        "id": "ZP-6RhZk0lZQ"
      }
    },
    {
      "cell_type": "markdown",
      "source": [
        "So what we are really saying is, identification lets us take an uncalculatable causal quantity to actually be derived from observed data.\n",
        "\n",
        "With a bit of derivation, Pearl demonstrates that under the assumptions:\n",
        "1. $Y$ is a function of $X$ and $U_Y$ only\n",
        "2. $U_Y$ is independent of $\\{U_Z,U_X\\}$ (hence of $X$)\n",
        "\n",
        "Then,\n",
        "\n",
        "$$E(Y|do(x_0))=E(Y|X=x_0)$$\n",
        "\n",
        "In addition, he also shows that\n",
        "$$E(Y|do(x_0))=\\beta x_0$$\n",
        "\n",
        "meaning that $\\beta$ is endowed with the meaning of a causal \"effect coefficient\" (given the assumptions are met).\n",
        "\n",
        "Remember, structural equations does not make any claims regarding $E(Y|X=x)$.\n",
        "\n",
        "\n",
        "\n"
      ],
      "metadata": {
        "id": "vmDo-Qpb0lbo"
      }
    },
    {
      "cell_type": "markdown",
      "source": [
        "Now we get to an even more important concept.\n",
        "\n",
        "Causal analysis in graphical models begins with the realization that all causal effects are identifiable whenever the model is *Markovian*, that is, the graph is acyclic and all error terms are jointly independent.\n",
        "\n",
        "The key to these results rest with the following theorem:\n",
        "\n",
        "**Theorem 1 (The Causal Markov Condition)**:\n",
        "\n",
        "Any distribution generated by a Markovian model $M$ can be factorized as:\n",
        "$$P(v_1,v_2,...,v_n)=\\prod_iP(v_i|pa_i)$$\n",
        "\n",
        "where $V_1,...,V_n$ are the endogenous variables in $M$, and $pa_i$ are values of the endogenous \"parents\" of $V_i$ in the causal diagram associated with $M$.\n",
        "\n",
        "For example, the distribution associated with model $M$ in Fig. 2(a) can be factorized as:\n",
        "$$P(z,y,x)=P(z)P(x|z)P(y|x)$$\n",
        "\n",
        "This uses the following information:\n",
        "- $X$ is the endogeous parent of $Y$\n",
        "- $Z$ is the endogenouos parent of $X$\n",
        "- $Z$ has no endogenous parents\n",
        "\n",
        "Then we have\n",
        "\n",
        "**Corollary 1 (Truncated factorization)**:\n",
        "\n",
        "For any Markovian model, the distribution generated by an intervention $do(X=x_0)$ on a set $X$ of endogenous variables is given by the truncated factorization\n",
        "\n",
        "$$P(v_1,v_2,...,v_k|do(x_0))=\\prod_{i|V_i\\notin X}P(v_i|pa_i)|x=x_0$$\n",
        "\n",
        "where $P(v_i|pa_i)$ are the pre-intervention conditional probabilities.\n",
        "\n",
        "The corollary is saying that we should remove from the product all factors associated with the intervened variables (which we call set $X$).\n",
        "\n",
        "Thus, the intervened Fig. 2(b) can be represented as:\n",
        "$$P(z,y|do(x_0))=P(z)P(y|x_0)$$\n",
        "\n",
        "Note that $P(Z)$ is not affected by the intervention, which results from our model being \"structural\".\n",
        "\n",
        "We can show this with the following:\n",
        "\n",
        "$$P(z|do(x_0))=\\sum_yP(z,y|do(x_0))=\\sum_yP(z)P(y|x_0)=P(z)$$\n",
        "\n",
        "However, for $P(y|do(x_0))$, we know from the model that $Y$ is sensitive to $x_0$, thus,\n",
        "\n",
        "$$P(y|do(x_0))=\\sum_yP(z,y|do(x_0))=\\sum_yP(z)P(y|x_0)=P(y|x_0)$$\n",
        "\n",
        "In the above, it was the structure of the graph alone that permits the derivation to go through."
      ],
      "metadata": {
        "id": "WnVpIDoH0ldq"
      }
    },
    {
      "cell_type": "markdown",
      "source": [
        "Say you have 3 confounders - $z_1,z_2,z_3$. In cases, one does not need to control for all of them, along with the fact that some of them may be unmeasured.\n",
        "\n",
        "In general, it canm be shown (Pearl, 2000a) that, whenever the graph is Markovian the post-interventional distribution $P(Y=y|do(X=x)) is given by:\n",
        "\n",
        "$$P(Y=y|do(X=x))=\\sum_tP(y|t,x)P(t)$$\n",
        "\n",
        "where $T$ is the set of direct causes of $X$ (also called \"parents\" of $X$) in the graph.\n",
        "\n",
        "So this means that as long as you control for the parents of $X$, it is sufficient to obtain a causal effect.\n",
        "\n",
        "When given a list of confounders, often times there are many different ways to select a \"sufficient set\" that controls for confounding. The problem of defining this admissble set can be settled using the \"back-door\" criterion, a graphical method of selecting admissible sets of factors for adjustment.\n",
        "\n",
        "**Definition 3 (Admissible sets - the back-door criterion)**:\n",
        "\n",
        "A set $S$ is admissible (or \"sufficient\") for adjustment if two conditions hold:\n",
        "1. No element of $S$ is a descendent of $X$\n",
        "2. The elements of $S$ \"block\" all \"back-door\" paths from $X$ to $Y$, namely all paths that end with an arrow pointing to $X$.\n",
        "\n",
        "To make this clear,\n",
        "\n",
        "$S=\\{Z_3\\}$ blocks the path $X\\leftarrow W_1\\leftarrow Z_1\\rightarrow Z_3\\rightarrow Y$ because\n",
        "- $Z_3$ is not a descendent of $X$\n",
        "- $Z_3$ blocks the path between $X$ and $Y$, with \"block\" being referred to Definition 1.\n",
        "\n",
        "However, $S=\\{Z_3\\}$ does not block the path $X\\leftarrow W_1\\leftarrow Z_1\\rightarrow Z_3\\leftarrow Z_2\\rightarrow W_2\\rightarrow Y$ because collision node $Z_3$ is not outside $S$.\n",
        "\n",
        "Formally, the implication of finding an admissible set $S$ is that, stratifying on $S$ is guaranteed to remove all confounding bias relative the causal effect of $X$ on $Y$. Meaning, the following risk difference in each stratum $S$ gives the correct causal effect in each stratum of $S$:\n",
        "$$P(Y=1|X=1,S=s)-P(Y=1|X=0,S=s)$$\n",
        "\n",
        "which correspond to the causal expression of\n",
        "$$P(Y=1|do(X=1),S=s)-P(Y=1|do(X=0),S=s)$$\n",
        "\n",
        "In addition, the average stratified risk difference, taken over all strata,\n",
        "$$\\sum_s[P(Y=1|X=1,S=s)-P(Y=1|X=0,S=s)]P(S=s)$$\n",
        "\n",
        "gives the correct causal effect of $X$ on $Y$ in the entire population\n",
        "$$P(Y=1|do(X=1))-P(Y=1|do(X=0))$$\n",
        "\n",
        "More generally speaking, there are examples in which there exist no set of variables that ar sufficient for adjustment nevertheless the causal effect can still be estimated consistently. One method is called instrumental variables. Due to these situations, the Theorem needs to be modified to be able to capture all kinds of identifiability conditions. Therefore, in addition to earlier where the key was to block paths between $X$ and $Y$, we can also block paths between $X$ and its immediate successors on the pathways to $Y$ (e.g., mediating instrumental varaible). All existing criteria for identification are special cases of the one defined below:\n",
        "\n",
        "**Theorem 2 (Tian and Pearl, 2002)**:\n",
        "\n",
        "A sufficient condition for identifying the causal effect $P(y|do(x))$ is that every path between $X$ and any of its children traces at least one arrow emanating from a measured variable.\n",
        "\n",
        "There are more recent extentions of this theorem by presenting a *necessary* and sufficient condition for identification (Shpitser and Pearl, 2006).\n",
        "\n"
      ],
      "metadata": {
        "id": "nODV_0cP8hZU"
      }
    },
    {
      "cell_type": "markdown",
      "source": [
        "Moving on, another type of causal analysis is *counterfactual analysis in structural models*. This is a little bit different than $E(Y|do(x_0))=\\beta x_0$ where you get the causal effect, instead, you may want something more like, \"$Y$ would be $y$ had $X$ been $x$ in situation $U=u$\".\n",
        "\n",
        "**Definition 4 (Unit-level Counterfactuals, Pearl (2000a))**:\n",
        "\n",
        "Let $M$ be a structural model and $M_x$ a modified version of $M$ with the equations of $X$ replaced by $X=x$. Denote the solution for $Y$ in the equations of $M_x$ by the symbol $Y_{M_x}(u)$. The counterfactual $Y_x(u)$ (The value of $Y$ in unit $u$ had $X$ been $x$) is given by:\n",
        "$$Y_x(u)\\triangleq Y_{M_x}(u)$$\n",
        "\n",
        "We see that the unit-level counterfactual $Y_x(u)$ is actually a derived quantity in the structural framework. To illustrate, consider the solution of $Y$ in the modified model $M_{x_0}$ from Fig. 2 which Definition 4 endows with the symbol $Y_{x_0}(u_X,u_Y,u_Z)$. Since $Y$ does not depend on $u_X,u_Z$, we can write\n",
        "$$Y_{x_0}(u)=Y_{x_0}(u_Y,u_X,u_Z)=f_Y(x_0,u_Y)$$\n",
        "\n",
        "To answer attributional questions such as whether $Y$ would be $y_1$ if $X$ were $x_1$ given that in fact $Y$ is $y_0$ and $X$ is $x_0$, we need to compute the conditional probability\n",
        "$$P(Y_{x_1}=y_1|Y=y_0,X=x_0)$$ which is well-defined once we know the forms of the structural equations and the distribution of the exogenous variables in the model.\n",
        "\n",
        "Moving on, when conditions for identifications cannot be met, the best one can do is derive *bounds* for the quantities of interest - namely, a range of possible values that represents our ignorance about the data-generating process and that cannot be improved with increasing sample size. (The paper only elaborates a little bit further so I have omitted it from this notebook)\n",
        "\n"
      ],
      "metadata": {
        "id": "2gR6rNXJ8hbf"
      }
    },
    {
      "cell_type": "markdown",
      "source": [
        "## 4. The potential outcome framework"
      ],
      "metadata": {
        "id": "b80DHeAa8hd7"
      }
    },
    {
      "cell_type": "markdown",
      "source": [
        "This section compares Neyman and Rubin's Potential Outcomes framework with the Structural Causal Theory. Pearl claims that POF is not a contender for a comprehensive theory of causation as it is subsumed by the structural theory. Then, he spends quite a bit of paragraphs on his criticism of POF. However, he does note that while POF alone is not enough, combining POF with graphs is part of the basis of the Structural theory."
      ],
      "metadata": {
        "id": "uS7W-7Shevp_"
      }
    },
    {
      "cell_type": "markdown",
      "source": [
        "## 5. Counterfactuals at work"
      ],
      "metadata": {
        "id": "USimICApFY-9"
      }
    },
    {
      "cell_type": "markdown",
      "source": [
        "Pearl briefly goes over the following concepts:\n",
        "1. Direct versus total effects\n",
        "2. Natural direct effects\n",
        "3. Indirect effects and the mediation formula\n",
        "4. causes of effects\n"
      ],
      "metadata": {
        "id": "P9Y5mFH8F2oz"
      }
    },
    {
      "cell_type": "markdown",
      "source": [
        "## 6. Conclusion"
      ],
      "metadata": {
        "id": "Gg3cg1PWLwNv"
      }
    },
    {
      "cell_type": "markdown",
      "source": [
        "In conclusion, traditional statistics is a strong way to infer distributional parameters from sample. Causal inference requires two additional ingredients:\n",
        "1. a science-friendly language for articulating causal knowledge\n",
        "2. mathematical machinery for processing that knowledge"
      ],
      "metadata": {
        "id": "5EBZm2SSLx3J"
      }
    }
  ]
}