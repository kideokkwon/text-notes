{
  "nbformat": 4,
  "nbformat_minor": 0,
  "metadata": {
    "colab": {
      "provenance": [],
      "authorship_tag": "ABX9TyNFFrgDGEVcvbnEEpjRVsrW"
    },
    "kernelspec": {
      "name": "python3",
      "display_name": "Python 3"
    },
    "language_info": {
      "name": "python"
    }
  },
  "cells": [
    {
      "cell_type": "markdown",
      "source": [
        "# (Lousdal, 2018) An introduction to instrumental variables assumptions, validation and estimation\n",
        "\n",
        "[Link](https://www.ncbi.nlm.nih.gov/pmc/articles/PMC5776781/)"
      ],
      "metadata": {
        "id": "wFvRzw7Oml-8"
      }
    },
    {
      "cell_type": "markdown",
      "source": [
        "# Abstract\n",
        "\n",
        "3 main assumptions. however a fourth identifying assumption exists but has received less attention, but is essential for the generalisability of estimated effects. underlying assumptions can only partially be tested empirically."
      ],
      "metadata": {
        "id": "ZtNGvPvammBb"
      }
    },
    {
      "cell_type": "markdown",
      "source": [
        "# Background\n",
        "\n",
        "The objective of this paper is to review the instrumental variable assumptions and potential validation using directed acyclic graphs and introduce the two-stage instrumental regressioin technique."
      ],
      "metadata": {
        "id": "1EfO_Q5EmmEI"
      }
    },
    {
      "cell_type": "markdown",
      "source": [
        "# Three basic assumptions\n",
        "\n",
        "The variable $Z$ is an instrument if it meets the following three assumptions:\n",
        "1. **Relevance**: The instrument $Z$ has a causal effect on $X$ (treatment).\n",
        "2. **Exclusion Restriction**: $Z$ affects the outcome $Y$ only through $X$.\n",
        "3. **Exchangeability**: $Z$ does not share common causes with the outcome $Y$. (Also called *no confounding for the effect of $Z$ on $Y$*, which by the way, is much more descriptive)\n",
        "\n",
        "an unbiased estimate of the average effect $X\\rightarrow Y$ can be estimated from the average effects of $Z\\rightarrow Y$ and $Z\\rightarrow X$. The usual instrumental variable estimand for a dichotomous treatment is the ratio:\n",
        "\n",
        "$$\\frac{E[Y|Z=1]-E[Y|Z=0]}{E[X|Z=1]-E[X|Z=0]}$$\n",
        "\n",
        "For a continumous treatment,\n",
        "\n",
        "$$\\frac{\\text{Cov}(Y,Z)}{\\text{Cov}(X,Z)}$$\n",
        "\n",
        "The numerator corresponds to the ITT effect of the causal effect of assignment on outcome.\n",
        "\n",
        "The denominator is a measure of compliance with the assigned exposure.\n",
        "\n",
        "When non-compliance icnreases, the denominator shrinks and inflates the diluted ITT estimate in order to estimate the causal effect had everyone complied.\n",
        "\n",
        "IV methods can be extended to observational studies if the *relevance* assumption is slightl changed to a more general version:\n",
        "\n",
        "\"*The instrument $Z$ and exposure $X$ are associated either because $Z$ has a causal effect on $X$, or because $X,Z$ share a common cause*.\"\n",
        "\n",
        "Martens and colleagues establish a hierarchy of instruments (Martens et al., 2006), where the most valid observational instrument is a variable controlled by the researcher (e.g., a randomized encouragement to stop smoking).\n",
        "\n",
        "The 3 basic assumptions allow for identification of an upper and lower bound of the causal effect. Unfortunately, these bounds will typically be wide and even compatible with both a preventive effect, a causative effect or no effect at all. Moreover, they show how much \"information\" that needs to be provided by a fourth assumption in order to obtain a point estimate.\n",
        "\n"
      ],
      "metadata": {
        "id": "MlRxPQ2MnQMY"
      }
    },
    {
      "cell_type": "markdown",
      "source": [
        "# The fourth identifying assumption\n",
        "\n",
        "Related to effect homogeneity. There is levels of homogeneity, some more convincing than others. For example, a weaker and more plausible assumption is that there is no effect modification by $Z$ on the $X-Y$ causal effect in subpopulations of exposed and unexposed. In other words, among the exposed, the causal effect is unrelated to the instrument. In other words, depending on $Z$, the effect of $X$ on $Y$ does not vary.\n",
        "\n",
        "But a new and alternative assumption that does not require effect homogeneity has been put forward, called *monotonicity* or *no defiers*. (2015?)\n",
        "\n",
        "It comes at a hefty price in return for a much more relaxing assumption; it limits the generalizability of the causal effect estimate. This is where we need to review the 4 types of subgroups in a dichotomous treatment and exposure scenario:\n",
        "- Never Takers:\n",
        "  - $Z=0\\rightarrow X=0$\n",
        "  - $Z=1\\rightarrow X=0$\n",
        "- Defiers:\n",
        "  - $Z=0\\rightarrow X=1$\n",
        "  - $Z=1\\rightarrow X=0$\n",
        "- Always Takers:\n",
        "  - $Z=0\\rightarrow X=1$\n",
        "  - $Z=1\\rightarrow X=1$\n",
        "- Compliers:\n",
        "  - $Z=0\\rightarrow X=0$\n",
        "  - $Z=1\\rightarrow X=1$\n",
        "\n",
        "The compliers, the individuals whose exposures ($X$) follow the assignment ($Z$), are also referred to as the *marginal* or *co-operative* subjects. Within this subgroup the instrument is expected to achieve exchangeability.\n",
        "\n",
        "This instrumental variable estimand has been termed the local average treatment effect (LATE). The relevance of this effect estimate has been questioned, since the group of compilers cannot be identified, and therefore it is difficult to convert the effect estimate to an estimate of practical relevance for decision makers.\n",
        "\n",
        "However, because strong implausible assumptions of effect homogeneity are needed for the population ATE, practicioners cope with the LATE."
      ],
      "metadata": {
        "id": "2uEoxbYwl-3f"
      }
    },
    {
      "cell_type": "markdown",
      "source": [
        "# Validation of Assumptions\n",
        "\n",
        "The **relevance** assumption (exists an association between $Z-X$) is empirically verifiable and comprise the first step in the most common instrumental estimation technique: the *two-stage least squares* estimator.\n",
        "\n",
        "The association is evaluated using $F$-statistics, $r^2$, or the risk difference. As a rule of thumb the instrument is declared weak if the *F*-statistic is less than 10 (Hernan and Robins, 2017). Weak instruments will result in wide confidence intervals.\n",
        "\n",
        "The **exclusion-restriction** assumption cannot be verified from the data. Subject-matter knowledge must be applied to rule out the possibility of any direct effect of the instrument on exposure.\n",
        "\n",
        "The **exchangeability** assumption is partially verifiable in data using measured covariates. A tabulation of the distribution of measured confounders across levels of the proposed instrument will reveal potential unbalances. Of-course, we cannot verify this for unmeasured confounders. In Experiments, this exchangeability condition is expected to hold.\n",
        "\n",
        "Although exclusion-restriction and exchangeability cannot be verified from data, different approaches to falsifying invalid instruments have been proposed (Cheng, 2014) (Glymour, Tchetgen and Robins, 2012)\n"
      ],
      "metadata": {
        "id": "RJ160T5xl-5l"
      }
    },
    {
      "cell_type": "markdown",
      "source": [
        "# An intuitive introduction to estimation\n",
        "\n",
        "The most common estimation technique is the two-stage least squares estimator.\n",
        "\n",
        "The **first stage** predicts the expected value of exposure based on the instruments in a linear model:\n",
        "\n",
        "$$E[X|Z]=\\alpha_0+\\alpha_1Z$$\n",
        "\n",
        "The second stage then predicts the outcome as a function of the predicted exposure from the first stage:\n",
        "\n",
        "$$E[Y|Z]=\\beta_0+\\beta_1 E[X|Z]$$\n",
        "\n",
        "The parameter $\\beta_1$ is the instrumental variable estimator.\n",
        "\n",
        "Any measured covariates to predict the exposure may be added in the first stage and again in the second stage. Conditioning on these covariates will relax the assumption of marginal exchangeability to an assumption of conditional exchangeability based on the covariates.\n",
        "\n"
      ],
      "metadata": {
        "id": "XU4bNoq1nQOn"
      }
    },
    {
      "cell_type": "markdown",
      "source": [
        "# Conclusions\n",
        "\n",
        "3 Basic assumptions for IV methods have been characterized, but the 4th of *monotonicity* has received less attention\n",
        "\n",
        "> in 2018 btw, not in 2024 haha\n",
        "\n"
      ],
      "metadata": {
        "id": "q4bbsH-Ueunp"
      }
    }
  ]
}