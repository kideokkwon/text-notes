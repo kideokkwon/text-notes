{
  "nbformat": 4,
  "nbformat_minor": 0,
  "metadata": {
    "colab": {
      "provenance": [],
      "authorship_tag": "ABX9TyPCZAJUZin3e1+irfQLx6Up"
    },
    "kernelspec": {
      "name": "python3",
      "display_name": "Python 3"
    },
    "language_info": {
      "name": "python"
    }
  },
  "cells": [
    {
      "cell_type": "markdown",
      "source": [
        "# (Imai and Kim, 2019) When Should We Use Unit Fixed Effects Regression Models for Causal Inference with Longitudinal Data?"
      ],
      "metadata": {
        "id": "G3B0ElqkmIMz"
      }
    },
    {
      "cell_type": "markdown",
      "source": [
        "[Link to Paper](https://imai.fas.harvard.edu/research/files/FEmatch.pdf)\n",
        "\n",
        "This is a paper that I have referenced numerous times at work. Imai and Kim discuss how Fixed Effects is a popular panel method in causal inference due to its ability to control for unobserved time-invariant confounders. However, they note that fixed effects is also often misused. They discuss fixed effects from the perspective of potential outcomes as well as a graphical framework (DAGs) to do several things:\n",
        "1. relax the linearity assumption in (linear) fixed effects\n",
        "2. discuss the trade-offs in assumption an analyst must make to achieve identifiability, something that is often overlooked by fixed effects practitioners (For instance, the ability to adjust for unobserved time-invariant confounders comes at the expense of dynamic causal relationships between treatment and outcome variables)"
      ],
      "metadata": {
        "id": "iQ_R9sHwmNRG"
      }
    },
    {
      "cell_type": "markdown",
      "source": [
        "## Causal Identification Assumptions"
      ],
      "metadata": {
        "id": "aKaXVtOGmNTh"
      }
    },
    {
      "cell_type": "markdown",
      "source": [
        "### The Linear Unit Fixed Effects Regression Model"
      ],
      "metadata": {
        "id": "tTSvQny5mNV2"
      }
    },
    {
      "cell_type": "markdown",
      "source": [
        "Throughout the text, for simplicity we assume a *balanced* longitudinal dataset of $N$ units and $T$ time periods with no missing data, although the methods and implementations do not require this.\n",
        "\n",
        "We also assume a simple random sampling of units from a population with $T$ fixed.\n",
        "\n",
        "For each unit $i$ at time $t$, we observe:\n",
        "- outcome variable $Y_{it}$\n",
        "- binary treatment variable $X_{it}\\in\\{0,1\\}$\n",
        "\n",
        "The most basic linear regression model with unit fixed effects:\n",
        "\n",
        "$$Y_{it}=\\alpha_i+\\beta X_{it}+\\epsilon_{it}$$\n",
        "\n",
        "where\n",
        "- $\\alpha_i$ is fixed but unknown intercept for unit $i$\n",
        "- $\\epsilon_{it}$ is a disturbance term for unit $i$ at time $t$ with $E(\\epsilon_{it})=0$\n",
        "\n",
        "$\\alpha_i$ captures a vector of unobserved time-invariant confounders in a flexible manner, or in other words,\n",
        "$$\\alpha_i=h(\\mathbb{U}_i)$$\n",
        "\n",
        "where:\n",
        "- $\\mathbb{U}_i$: a vector of unobserved time-invariant confounders\n",
        "- $h(\\cdot)$: arbitrary and unknown function\n",
        "\n",
        "Typically, the assumption of strict exogeneity of the disturbance term $\\epsilon_{it}$ is rquired to identify $\\beta$ as causal, which can be written as\n",
        "$$E(\\epsilon_{it}|\\mathbb{X}_i,\\alpha_i)=0$$\n",
        "\n",
        "where:\n",
        "- $\\mathbb{X}_i$ is a $T\\times 1$ vector of treatment variables for unit $i$\n",
        "\n",
        "This model is referred to as LIN-FE. The parameter estimate of $\\beta$ can be estimated unbiasedly using least squares if the data is generated according to the above.\n",
        "\n",
        "The parameter $\\beta$ is interpreted as the *average contemporaneous effect* of $X_{it}$ on $Y_{it}$.\n",
        "\n",
        "Using the potential outcome framework, the causal estimand of LIN-FE can be the following average treatment effect:\n",
        "\n",
        "$$\\tau=E[Y_{it}(1)-Y_{it}(0)|C_i=1]$$\n",
        "\n",
        "where $C_i=I_{0< \\{\\sum_{t=1}^{T}X_{it}\\} <T}$. This indicator variable means that if a user is always the same treatment (as in, they never flip), then they do not contribute to the estimation.\n",
        "\n",
        "Under LIN-FE, $\\beta=\\tau$ because of the assumed linearity for potential outcomes.\n",
        "\n"
      ],
      "metadata": {
        "id": "Pa9_rlzomNX-"
      }
    },
    {
      "cell_type": "markdown",
      "source": [
        "### Nonparametric Causal Identification Analysis"
      ],
      "metadata": {
        "id": "1gzygzofpDKd"
      }
    },
    {
      "cell_type": "markdown",
      "source": [
        "In a nonparametric identification of fixed effects, we:\n",
        "1. relax the linearity assumption of LIN-FE\n",
        "2. generalize mean independence of $\\epsilon_{it}$ to statistical independence\n",
        "\n",
        "**Assumption 1 (Nonparametric Fixed Effects Model - NP-FE)**:\n",
        "\n",
        "For each $i=1,2,...,N$ and $t=1,2,...,T$,\n",
        "\n",
        "$$Y_{it}=g(X_{it},\\mathbb{U}_i,\\epsilon_{it})$$\n",
        "\n",
        "and\n",
        "\n",
        "$$\\epsilon_{it}\\perp\\{\\mathbb{X}_i,\\mathbb{U_i}\\}$$\n",
        "\n",
        "where $g(\\cdot)$ can be any function.\n",
        "\n",
        "We can examine NP-FE using DAGs. Pearl (2009) shows that a DAG can formally represent a nonparametric SEM. The figure below is the NPSEM that corresponds to NP-FE."
      ],
      "metadata": {
        "id": "R4z88wSrpDMl"
      }
    },
    {
      "cell_type": "code",
      "source": [
        "# @title Figure 1\n",
        "# prompt: create and plot a DAG using the python package graphviz that\n",
        "# represents the following:\n",
        "## Y_{i1}=f(X_{it},U_i)\n",
        "## Y_{i2}=f(X_{i2},U_i)\n",
        "## X_{i1}=f(U_i)\n",
        "## X_{i2}=f(X_{i1},U_i)\n",
        "\n",
        "import graphviz as gv\n",
        "# create a directed acyclic graph (DAG)\n",
        "G = gv.Digraph('G', format='pdf')\n",
        "# add nodes\n",
        "G.node('Y1', 'Y_i1')\n",
        "G.node('Y2', 'Y_i2')\n",
        "G.node('X1', 'X_i1')\n",
        "G.node('X2', 'X_i2')\n",
        "G.node('U', 'U_i')\n",
        "# add edges\n",
        "G.edge('X1', 'Y1')\n",
        "G.edge('X2', 'Y2')\n",
        "G.edge('X1','X2',constraint='False')\n",
        "G.edge('U', 'X1')\n",
        "G.edge('U', 'X2')\n",
        "# render the graph\n",
        "G.render('my_graph')\n",
        "G\n"
      ],
      "metadata": {
        "colab": {
          "base_uri": "https://localhost:8080/",
          "height": 272
        },
        "cellView": "form",
        "id": "IrCcZkJHxHpm",
        "outputId": "278b03b6-269e-43ea-df1e-24607503e96c"
      },
      "execution_count": 17,
      "outputs": [
        {
          "output_type": "execute_result",
          "data": {
            "image/svg+xml": "<?xml version=\"1.0\" encoding=\"UTF-8\" standalone=\"no\"?>\n<!DOCTYPE svg PUBLIC \"-//W3C//DTD SVG 1.1//EN\"\n \"http://www.w3.org/Graphics/SVG/1.1/DTD/svg11.dtd\">\n<!-- Generated by graphviz version 2.43.0 (0)\n -->\n<!-- Title: G Pages: 1 -->\n<svg width=\"140pt\" height=\"188pt\"\n viewBox=\"0.00 0.00 140.19 188.00\" xmlns=\"http://www.w3.org/2000/svg\" xmlns:xlink=\"http://www.w3.org/1999/xlink\">\n<g id=\"graph0\" class=\"graph\" transform=\"scale(1 1) rotate(0) translate(4 184)\">\n<title>G</title>\n<polygon fill=\"white\" stroke=\"transparent\" points=\"-4,4 -4,-184 136.19,-184 136.19,4 -4,4\"/>\n<!-- Y1 -->\n<g id=\"node1\" class=\"node\">\n<title>Y1</title>\n<ellipse fill=\"none\" stroke=\"black\" cx=\"28.6\" cy=\"-18\" rx=\"28.7\" ry=\"18\"/>\n<text text-anchor=\"middle\" x=\"28.6\" y=\"-14.3\" font-family=\"Times,serif\" font-size=\"14.00\">Y_i1</text>\n</g>\n<!-- Y2 -->\n<g id=\"node2\" class=\"node\">\n<title>Y2</title>\n<ellipse fill=\"none\" stroke=\"black\" cx=\"103.6\" cy=\"-18\" rx=\"28.7\" ry=\"18\"/>\n<text text-anchor=\"middle\" x=\"103.6\" y=\"-14.3\" font-family=\"Times,serif\" font-size=\"14.00\">Y_i2</text>\n</g>\n<!-- X1 -->\n<g id=\"node3\" class=\"node\">\n<title>X1</title>\n<ellipse fill=\"none\" stroke=\"black\" cx=\"28.6\" cy=\"-90\" rx=\"28.7\" ry=\"18\"/>\n<text text-anchor=\"middle\" x=\"28.6\" y=\"-86.3\" font-family=\"Times,serif\" font-size=\"14.00\">X_i1</text>\n</g>\n<!-- X1&#45;&gt;Y1 -->\n<g id=\"edge1\" class=\"edge\">\n<title>X1&#45;&gt;Y1</title>\n<path fill=\"none\" stroke=\"black\" d=\"M28.6,-71.7C28.6,-63.98 28.6,-54.71 28.6,-46.11\"/>\n<polygon fill=\"black\" stroke=\"black\" points=\"32.1,-46.1 28.6,-36.1 25.1,-46.1 32.1,-46.1\"/>\n</g>\n<!-- X2 -->\n<g id=\"node4\" class=\"node\">\n<title>X2</title>\n<ellipse fill=\"none\" stroke=\"black\" cx=\"103.6\" cy=\"-90\" rx=\"28.7\" ry=\"18\"/>\n<text text-anchor=\"middle\" x=\"103.6\" y=\"-86.3\" font-family=\"Times,serif\" font-size=\"14.00\">X_i2</text>\n</g>\n<!-- X1&#45;&gt;X2 -->\n<g id=\"edge3\" class=\"edge\">\n<title>X1&#45;&gt;X2</title>\n<path fill=\"none\" stroke=\"black\" d=\"M57.31,-90C59.75,-90 62.19,-90 64.63,-90\"/>\n<polygon fill=\"black\" stroke=\"black\" points=\"64.67,-93.5 74.67,-90 64.67,-86.5 64.67,-93.5\"/>\n</g>\n<!-- X2&#45;&gt;Y2 -->\n<g id=\"edge2\" class=\"edge\">\n<title>X2&#45;&gt;Y2</title>\n<path fill=\"none\" stroke=\"black\" d=\"M103.6,-71.7C103.6,-63.98 103.6,-54.71 103.6,-46.11\"/>\n<polygon fill=\"black\" stroke=\"black\" points=\"107.1,-46.1 103.6,-36.1 100.1,-46.1 107.1,-46.1\"/>\n</g>\n<!-- U -->\n<g id=\"node5\" class=\"node\">\n<title>U</title>\n<ellipse fill=\"none\" stroke=\"black\" cx=\"65.6\" cy=\"-162\" rx=\"27\" ry=\"18\"/>\n<text text-anchor=\"middle\" x=\"65.6\" y=\"-158.3\" font-family=\"Times,serif\" font-size=\"14.00\">U_i</text>\n</g>\n<!-- U&#45;&gt;X1 -->\n<g id=\"edge4\" class=\"edge\">\n<title>U&#45;&gt;X1</title>\n<path fill=\"none\" stroke=\"black\" d=\"M57.02,-144.76C52.6,-136.4 47.11,-126.02 42.13,-116.61\"/>\n<polygon fill=\"black\" stroke=\"black\" points=\"45.16,-114.84 37.39,-107.63 38.97,-118.11 45.16,-114.84\"/>\n</g>\n<!-- U&#45;&gt;X2 -->\n<g id=\"edge5\" class=\"edge\">\n<title>U&#45;&gt;X2</title>\n<path fill=\"none\" stroke=\"black\" d=\"M74.41,-144.76C79.02,-136.28 84.75,-125.71 89.92,-116.2\"/>\n<polygon fill=\"black\" stroke=\"black\" points=\"93.14,-117.61 94.83,-107.15 86.98,-114.27 93.14,-117.61\"/>\n</g>\n</g>\n</svg>\n",
            "text/plain": [
              "<graphviz.graphs.Digraph at 0x7c74f8f38d60>"
            ]
          },
          "metadata": {},
          "execution_count": 17
        }
      ]
    },
    {
      "cell_type": "markdown",
      "source": [
        "Note that there are only 2 time periods here but that is simply for convenience purposes.\n",
        "\n",
        "The DAG above shows that Assumption 1 of NP-FE can be understood as the following set of statsments:\n",
        "- Assumption (a): No unobserved time-*varying* confounders\n",
        "- Assumption (b): Past outcomes do not directly affect current outcome\n",
        "- Assumption (c): Past outcomes do not directly affect current treatment\n",
        "- Assumption (d): Past treatments do not directly affect current outcome\n",
        "\n",
        "No additional arrows can be added without making it inconsistent with NP-FE. (In particular, no additional arrows that point to $X_{it}$ can be included in the DAG without violating the strict exogeneity assumption of $\\epsilon_{it}$ under NP-FE.\n",
        "\n",
        "Next we adopt the potential outcomes framework. DAGs illuminate the entire causal structure and potential outcomes clarifies the assumptions about treatment assignment mechanisms.\n",
        "\n",
        "Note how in the equations above, the equations for FE included the contemporaneous values of treatment but not its past values, implying that past treatments do not directly affect current outcome. We call this restriction the assumption of *no carryover effect*, and corresponds to Assumption (d) above.\n",
        "\n",
        "**Assumption 2 (No carryover effect)**:\n",
        "\n",
        "For each $i=1,2,...,N$ and $t=1,2,...,T$, the potential outcome is given by\n",
        "$$Y_{it}(X_{it},X_{i2},...,X_{i,t-1},X_{it})=Y_{it}(X_{it})$$\n",
        "\n",
        "Next, this assumption corresponds to assumptions (a) and (c) of the NP-FE model\n",
        "\n",
        "**Assumption 3 (Sequential Ignorability with Unobserved Time-Invariant Confounders)**:\n",
        "\n",
        "For each $i=1,2,...,N$,\n",
        "$$\\begin{align}\\{Y_{it}(1),Y_{it}(0)\\}_{t=1}^{T}&\\perp X_{i1}|\\mathbb{U}_i\\\\&\\vdots\\\\\\{Y_{it}(1),Y_{it}(0)\\}_{t=1}^{T}&\\perp X_{it'}|X_{i1},...,X_{i,t'-1}\\mathbb{U}_i\\\\&\\vdots\\\\\\{Y_{it}(1),Y_{it}(0)\\}_{t=1}^{T}&\\perp X_{it}|X_{i1},...,X_{i,T-1}\\mathbb{U}_i\\end{align}$$\n",
        "\n",
        "In other words, there is ignorability with time-varying confounders conditional on its past realizations"
      ],
      "metadata": {
        "id": "R1DnK-lmvttS"
      }
    },
    {
      "cell_type": "markdown",
      "source": [
        "### Which Causal Identification Assumptions Can Be Relaxed?"
      ],
      "metadata": {
        "id": "p1NjfY2Uvtvv"
      }
    },
    {
      "cell_type": "markdown",
      "source": [
        "Since Assumption (a) is difficult to relax in FE models, we will focus on what other assumptions can be relaxed (Assumptions b,c, or d?)\n",
        "\n",
        "Assumption (b), Past outcomes do not directly affect current outcome, can be relaxed without compromising causal identification. This is because based on Figure 1, past outcomes confounding effect is already blocked when we condition on past treatments and unobserved time-invariant confounders.\n",
        "\n",
        "Regarding Assumption (d), past treatments directly affecting current outcome, is sometimes addressed by including lagged treatment variables in LIN-FE, for instance,\n",
        "\n",
        "$$Y_{it}=\\alpha_i+\\beta_1X_{it}+\\beta_2X_{i,t-1}+\\epsilon_{it}$$\n",
        "\n",
        "This implies that the potential outcome can be written as a function of the contemporaneous and previous treatments ($Y_{it}(X_{i,t-1},X_{it})$) rather than the contemporaneous treatment alone, partially relaxing Assumption 2.\n",
        "\n",
        "This can be visualized in the below DAG"
      ],
      "metadata": {
        "id": "ApvtU_euBLgT"
      }
    },
    {
      "cell_type": "code",
      "source": [
        "# @title Figure 2b - past treatments affect current outcome\n",
        "\n",
        "import graphviz as gv\n",
        "# create a directed acyclic graph (DAG)\n",
        "G = gv.Digraph('G', format='pdf')\n",
        "# add nodes\n",
        "G.node('Y1', 'Y_i1')\n",
        "G.node('Y2', 'Y_i2')\n",
        "G.node('X1', 'X_i1')\n",
        "G.node('X2', 'X_i2')\n",
        "G.node('U', 'U_i')\n",
        "# add edges\n",
        "G.edge('X1', 'Y1')\n",
        "G.edge('X2', 'Y2')\n",
        "G.edge('X1','X2',constraint='False')\n",
        "G.edge('U', 'X1')\n",
        "G.edge('X1','Y2',constraint='False')\n",
        "G.edge('U', 'X2')\n",
        "# render the graph\n",
        "G.render('my_graph')\n",
        "G\n"
      ],
      "metadata": {
        "colab": {
          "base_uri": "https://localhost:8080/",
          "height": 272
        },
        "cellView": "form",
        "id": "tm_j0XrSbxu6",
        "outputId": "108aa0bc-0d09-4081-e495-297202af2827"
      },
      "execution_count": 20,
      "outputs": [
        {
          "output_type": "execute_result",
          "data": {
            "image/svg+xml": "<?xml version=\"1.0\" encoding=\"UTF-8\" standalone=\"no\"?>\n<!DOCTYPE svg PUBLIC \"-//W3C//DTD SVG 1.1//EN\"\n \"http://www.w3.org/Graphics/SVG/1.1/DTD/svg11.dtd\">\n<!-- Generated by graphviz version 2.43.0 (0)\n -->\n<!-- Title: G Pages: 1 -->\n<svg width=\"140pt\" height=\"188pt\"\n viewBox=\"0.00 0.00 140.19 188.00\" xmlns=\"http://www.w3.org/2000/svg\" xmlns:xlink=\"http://www.w3.org/1999/xlink\">\n<g id=\"graph0\" class=\"graph\" transform=\"scale(1 1) rotate(0) translate(4 184)\">\n<title>G</title>\n<polygon fill=\"white\" stroke=\"transparent\" points=\"-4,4 -4,-184 136.19,-184 136.19,4 -4,4\"/>\n<!-- Y1 -->\n<g id=\"node1\" class=\"node\">\n<title>Y1</title>\n<ellipse fill=\"none\" stroke=\"black\" cx=\"28.6\" cy=\"-18\" rx=\"28.7\" ry=\"18\"/>\n<text text-anchor=\"middle\" x=\"28.6\" y=\"-14.3\" font-family=\"Times,serif\" font-size=\"14.00\">Y_i1</text>\n</g>\n<!-- Y2 -->\n<g id=\"node2\" class=\"node\">\n<title>Y2</title>\n<ellipse fill=\"none\" stroke=\"black\" cx=\"103.6\" cy=\"-18\" rx=\"28.7\" ry=\"18\"/>\n<text text-anchor=\"middle\" x=\"103.6\" y=\"-14.3\" font-family=\"Times,serif\" font-size=\"14.00\">Y_i2</text>\n</g>\n<!-- X1 -->\n<g id=\"node3\" class=\"node\">\n<title>X1</title>\n<ellipse fill=\"none\" stroke=\"black\" cx=\"28.6\" cy=\"-90\" rx=\"28.7\" ry=\"18\"/>\n<text text-anchor=\"middle\" x=\"28.6\" y=\"-86.3\" font-family=\"Times,serif\" font-size=\"14.00\">X_i1</text>\n</g>\n<!-- X1&#45;&gt;Y1 -->\n<g id=\"edge1\" class=\"edge\">\n<title>X1&#45;&gt;Y1</title>\n<path fill=\"none\" stroke=\"black\" d=\"M28.6,-71.7C28.6,-63.98 28.6,-54.71 28.6,-46.11\"/>\n<polygon fill=\"black\" stroke=\"black\" points=\"32.1,-46.1 28.6,-36.1 25.1,-46.1 32.1,-46.1\"/>\n</g>\n<!-- X1&#45;&gt;Y2 -->\n<g id=\"edge5\" class=\"edge\">\n<title>X1&#45;&gt;Y2</title>\n<path fill=\"none\" stroke=\"black\" d=\"M44.14,-74.5C54.77,-64.58 69.03,-51.26 80.92,-40.16\"/>\n<polygon fill=\"black\" stroke=\"black\" points=\"83.41,-42.63 88.33,-33.25 78.64,-37.51 83.41,-42.63\"/>\n</g>\n<!-- X2 -->\n<g id=\"node4\" class=\"node\">\n<title>X2</title>\n<ellipse fill=\"none\" stroke=\"black\" cx=\"103.6\" cy=\"-90\" rx=\"28.7\" ry=\"18\"/>\n<text text-anchor=\"middle\" x=\"103.6\" y=\"-86.3\" font-family=\"Times,serif\" font-size=\"14.00\">X_i2</text>\n</g>\n<!-- X1&#45;&gt;X2 -->\n<g id=\"edge3\" class=\"edge\">\n<title>X1&#45;&gt;X2</title>\n<path fill=\"none\" stroke=\"black\" d=\"M57.31,-90C59.75,-90 62.19,-90 64.63,-90\"/>\n<polygon fill=\"black\" stroke=\"black\" points=\"64.67,-93.5 74.67,-90 64.67,-86.5 64.67,-93.5\"/>\n</g>\n<!-- X2&#45;&gt;Y2 -->\n<g id=\"edge2\" class=\"edge\">\n<title>X2&#45;&gt;Y2</title>\n<path fill=\"none\" stroke=\"black\" d=\"M103.6,-71.7C103.6,-63.98 103.6,-54.71 103.6,-46.11\"/>\n<polygon fill=\"black\" stroke=\"black\" points=\"107.1,-46.1 103.6,-36.1 100.1,-46.1 107.1,-46.1\"/>\n</g>\n<!-- U -->\n<g id=\"node5\" class=\"node\">\n<title>U</title>\n<ellipse fill=\"none\" stroke=\"black\" cx=\"65.6\" cy=\"-162\" rx=\"27\" ry=\"18\"/>\n<text text-anchor=\"middle\" x=\"65.6\" y=\"-158.3\" font-family=\"Times,serif\" font-size=\"14.00\">U_i</text>\n</g>\n<!-- U&#45;&gt;X1 -->\n<g id=\"edge4\" class=\"edge\">\n<title>U&#45;&gt;X1</title>\n<path fill=\"none\" stroke=\"black\" d=\"M57.02,-144.76C52.6,-136.4 47.11,-126.02 42.13,-116.61\"/>\n<polygon fill=\"black\" stroke=\"black\" points=\"45.16,-114.84 37.39,-107.63 38.97,-118.11 45.16,-114.84\"/>\n</g>\n<!-- U&#45;&gt;X2 -->\n<g id=\"edge6\" class=\"edge\">\n<title>U&#45;&gt;X2</title>\n<path fill=\"none\" stroke=\"black\" d=\"M74.41,-144.76C79.02,-136.28 84.75,-125.71 89.92,-116.2\"/>\n<polygon fill=\"black\" stroke=\"black\" points=\"93.14,-117.61 94.83,-107.15 86.98,-114.27 93.14,-117.61\"/>\n</g>\n</g>\n</svg>\n",
            "text/plain": [
              "<graphviz.graphs.Digraph at 0x7c74dc994400>"
            ]
          },
          "metadata": {},
          "execution_count": 20
        }
      ]
    },
    {
      "cell_type": "markdown",
      "source": [
        "This DAG is a modification of NP-FE,\n",
        "\n",
        "$$Y_{it}=g(X_{i1},...,X_{it},\\mathbb{U}_i,\\epsilon_{it})$$\n",
        "\n",
        "It can be shown that under this NPSEM, Assumption 3 of Sequential Ignorability still holds. Although a difference is that past treatments must be controlled for otherwise past treatment is a confounder. However in practice, researchers assume that only a small number of past treatments matter, because otherwise it is generally not possible to nonparametrically adjust for all past treatments.\n",
        "\n",
        "Finally, we consider relaxing the assumption that past outcomes do not directly affect current treatment (assumption (c)), and can be shown below:\n",
        "\n"
      ],
      "metadata": {
        "id": "FkXxaqoYBLir"
      }
    },
    {
      "cell_type": "code",
      "source": [
        "# @title Figure 2c - past outcomes affect current treatment\n",
        "# prompt: create and plot a DAG using the python package graphviz that\n",
        "# represents the following:\n",
        "## Y_{i1}=f(X_{it},U_i)\n",
        "## Y_{i2}=f(X_{i2},U_i)\n",
        "## X_{i1}=f(U_i)\n",
        "## X_{i2}=f(X_{i1},U_i)\n",
        "\n",
        "import graphviz as gv\n",
        "# create a directed acyclic graph (DAG)\n",
        "G = gv.Digraph('G', format='pdf')\n",
        "# add nodes\n",
        "G.node('Y1', 'Y_i1')\n",
        "G.node('Y2', 'Y_i2')\n",
        "G.node('X1', 'X_i1')\n",
        "G.node('X2', 'X_i2')\n",
        "G.node('U', 'U_i')\n",
        "# add edges\n",
        "G.edge('X1', 'Y1')\n",
        "G.edge('X2', 'Y2')\n",
        "G.edge('X1','X2',constraint='False')\n",
        "G.edge('U', 'X1')\n",
        "G.edge('Y1','X2',constraint='False')\n",
        "G.edge('U', 'X2')\n",
        "# render the graph\n",
        "G.render('my_graph')\n",
        "G\n"
      ],
      "metadata": {
        "colab": {
          "base_uri": "https://localhost:8080/",
          "height": 272
        },
        "cellView": "form",
        "id": "p3iHCU4sdz7m",
        "outputId": "3308a8b6-5cfc-42ae-94ad-4addc90e0600"
      },
      "execution_count": 23,
      "outputs": [
        {
          "output_type": "execute_result",
          "data": {
            "image/svg+xml": "<?xml version=\"1.0\" encoding=\"UTF-8\" standalone=\"no\"?>\n<!DOCTYPE svg PUBLIC \"-//W3C//DTD SVG 1.1//EN\"\n \"http://www.w3.org/Graphics/SVG/1.1/DTD/svg11.dtd\">\n<!-- Generated by graphviz version 2.43.0 (0)\n -->\n<!-- Title: G Pages: 1 -->\n<svg width=\"140pt\" height=\"188pt\"\n viewBox=\"0.00 0.00 140.19 188.00\" xmlns=\"http://www.w3.org/2000/svg\" xmlns:xlink=\"http://www.w3.org/1999/xlink\">\n<g id=\"graph0\" class=\"graph\" transform=\"scale(1 1) rotate(0) translate(4 184)\">\n<title>G</title>\n<polygon fill=\"white\" stroke=\"transparent\" points=\"-4,4 -4,-184 136.19,-184 136.19,4 -4,4\"/>\n<!-- Y1 -->\n<g id=\"node1\" class=\"node\">\n<title>Y1</title>\n<ellipse fill=\"none\" stroke=\"black\" cx=\"28.6\" cy=\"-18\" rx=\"28.7\" ry=\"18\"/>\n<text text-anchor=\"middle\" x=\"28.6\" y=\"-14.3\" font-family=\"Times,serif\" font-size=\"14.00\">Y_i1</text>\n</g>\n<!-- X2 -->\n<g id=\"node4\" class=\"node\">\n<title>X2</title>\n<ellipse fill=\"none\" stroke=\"black\" cx=\"103.6\" cy=\"-90\" rx=\"28.7\" ry=\"18\"/>\n<text text-anchor=\"middle\" x=\"103.6\" y=\"-86.3\" font-family=\"Times,serif\" font-size=\"14.00\">X_i2</text>\n</g>\n<!-- Y1&#45;&gt;X2 -->\n<g id=\"edge5\" class=\"edge\">\n<title>Y1&#45;&gt;X2</title>\n<path fill=\"none\" stroke=\"black\" d=\"M43.86,-33.25C54.43,-43.11 68.68,-56.41 80.61,-67.55\"/>\n<polygon fill=\"black\" stroke=\"black\" points=\"78.36,-70.23 88.06,-74.5 83.13,-65.11 78.36,-70.23\"/>\n</g>\n<!-- Y2 -->\n<g id=\"node2\" class=\"node\">\n<title>Y2</title>\n<ellipse fill=\"none\" stroke=\"black\" cx=\"103.6\" cy=\"-18\" rx=\"28.7\" ry=\"18\"/>\n<text text-anchor=\"middle\" x=\"103.6\" y=\"-14.3\" font-family=\"Times,serif\" font-size=\"14.00\">Y_i2</text>\n</g>\n<!-- X1 -->\n<g id=\"node3\" class=\"node\">\n<title>X1</title>\n<ellipse fill=\"none\" stroke=\"black\" cx=\"28.6\" cy=\"-90\" rx=\"28.7\" ry=\"18\"/>\n<text text-anchor=\"middle\" x=\"28.6\" y=\"-86.3\" font-family=\"Times,serif\" font-size=\"14.00\">X_i1</text>\n</g>\n<!-- X1&#45;&gt;Y1 -->\n<g id=\"edge1\" class=\"edge\">\n<title>X1&#45;&gt;Y1</title>\n<path fill=\"none\" stroke=\"black\" d=\"M28.6,-71.7C28.6,-63.98 28.6,-54.71 28.6,-46.11\"/>\n<polygon fill=\"black\" stroke=\"black\" points=\"32.1,-46.1 28.6,-36.1 25.1,-46.1 32.1,-46.1\"/>\n</g>\n<!-- X1&#45;&gt;X2 -->\n<g id=\"edge3\" class=\"edge\">\n<title>X1&#45;&gt;X2</title>\n<path fill=\"none\" stroke=\"black\" d=\"M57.31,-90C59.75,-90 62.19,-90 64.63,-90\"/>\n<polygon fill=\"black\" stroke=\"black\" points=\"64.67,-93.5 74.67,-90 64.67,-86.5 64.67,-93.5\"/>\n</g>\n<!-- X2&#45;&gt;Y2 -->\n<g id=\"edge2\" class=\"edge\">\n<title>X2&#45;&gt;Y2</title>\n<path fill=\"none\" stroke=\"black\" d=\"M103.6,-71.7C103.6,-63.98 103.6,-54.71 103.6,-46.11\"/>\n<polygon fill=\"black\" stroke=\"black\" points=\"107.1,-46.1 103.6,-36.1 100.1,-46.1 107.1,-46.1\"/>\n</g>\n<!-- U -->\n<g id=\"node5\" class=\"node\">\n<title>U</title>\n<ellipse fill=\"none\" stroke=\"black\" cx=\"65.6\" cy=\"-162\" rx=\"27\" ry=\"18\"/>\n<text text-anchor=\"middle\" x=\"65.6\" y=\"-158.3\" font-family=\"Times,serif\" font-size=\"14.00\">U_i</text>\n</g>\n<!-- U&#45;&gt;X1 -->\n<g id=\"edge4\" class=\"edge\">\n<title>U&#45;&gt;X1</title>\n<path fill=\"none\" stroke=\"black\" d=\"M57.02,-144.76C52.6,-136.4 47.11,-126.02 42.13,-116.61\"/>\n<polygon fill=\"black\" stroke=\"black\" points=\"45.16,-114.84 37.39,-107.63 38.97,-118.11 45.16,-114.84\"/>\n</g>\n<!-- U&#45;&gt;X2 -->\n<g id=\"edge6\" class=\"edge\">\n<title>U&#45;&gt;X2</title>\n<path fill=\"none\" stroke=\"black\" d=\"M74.41,-144.76C79.02,-136.28 84.75,-125.71 89.92,-116.2\"/>\n<polygon fill=\"black\" stroke=\"black\" points=\"93.14,-117.61 94.83,-107.15 86.98,-114.27 93.14,-117.61\"/>\n</g>\n</g>\n</svg>\n",
            "text/plain": [
              "<graphviz.graphs.Digraph at 0x7c74dc994dc0>"
            ]
          },
          "metadata": {},
          "execution_count": 23
        }
      ]
    },
    {
      "cell_type": "markdown",
      "source": [
        "We see that assumption 3 of sequential ignorability is violated because the existence of causal relationships between past outcomes and current treatment implies a correlation between past disturbance terms and current treatment. This can partially be relaxed using an instrumental variables approach.\n",
        "\n",
        "To summarize, there are 3 key assumptions (Assumptions 1,2,3 above). The first one of no unobserved time-varying confounders is well-understood. The other two is underappreciated. In addition, the 2 underappreciated assumptions can be relaxed with a method such as Marginal Structural Models. However, for MSM's, they do not possess the ability to control for unobserved time-invariant confounders.\n",
        "\n",
        "Therefore, a key decision for applied researchers is then whether, in a given substantive problem, they believe causal dynamics is more important than time-invariant unobserved confounders."
      ],
      "metadata": {
        "id": "XLeV29IkcgYX"
      }
    },
    {
      "cell_type": "markdown",
      "source": [
        "### Adjusting for Observed Time-Varying Confounders"
      ],
      "metadata": {
        "id": "bOrbVb0mcgai"
      }
    },
    {
      "cell_type": "markdown",
      "source": [
        "Finally, we consider the adjustment of observed time-varying confounders under fixed effects.\n",
        "\n",
        "Since fixed effects can only adjust for unobserved time-*invariant* confounders, applied researchers often measure a vector of observed time-varying confounders $\\mathbb{Z}_{it}$ to improve the credibility of assumptions.\n",
        "\n",
        "The main conclusion of the above identification analysis remains unchanged even if we include these additional observed time-varying confounders as covariates. However, we must make an additional assumption tha there exists no dynamic causal relationships between outcome and these time-varying confounders\n",
        "\n",
        "**Assumption 4: (Nonparametric Fixed Effects Model with Observed Time-Varying Confounders)**\n",
        "\n",
        "For each $i=1,2,...,N$ and $t=1,2,...,T$,\n",
        "$$Y_{it}=g(X_{i1},...,X_{it},\\mathbb{U}_i,Z_{i1},...,Z_{it},\\epsilon_{it})$$\n",
        "\n",
        "and\n",
        "\n",
        "$$\\epsilon_{it}\\perp\\{\\mathbb{X}_i,\\mathbb{Z}_i\\mathbb{U}_i\\}$$\n",
        "\n",
        "where $\\mathbb{Z}_i=(\\mathbb{Z}_{i1},\\mathbb{Z}_{i2},...,\\mathbb{Z}_{it})$\n",
        "\n",
        "While time-varying confounder control introduce some flexibility in the ability to control for these time-varying variables, the issue is that we cannot allow $Z_{it}$ to affect both current and future outcomes. In addition, the average contemporaneous effect of $X_{it}$ on $Y_{it}$ becomes unidentifiable if the outcome $Y_{it}$ affects future treatments either directly or indirectly through $\\mathbb{Z}_{it'}$ where $t'>t$. Of-course, this may not be reasonable in many scenarios because we often expect feedback effects to occur over time between outcome and treatment.\n",
        "\n",
        "Therefore, researchers face the same key trade-off regardless of whether time-varying confounders are present. To adjust for unobserved time-invariant confounders, researchers must assume the absense of dynamic causal relationships among the outcome, treatment, and observed time-varying confounders. In contrast, the selection-on-observables approach can relax these assumptions so long as there are no unobserved time-invariant confounders."
      ],
      "metadata": {
        "id": "JQAFEkxbkfxf"
      }
    }
  ]
}