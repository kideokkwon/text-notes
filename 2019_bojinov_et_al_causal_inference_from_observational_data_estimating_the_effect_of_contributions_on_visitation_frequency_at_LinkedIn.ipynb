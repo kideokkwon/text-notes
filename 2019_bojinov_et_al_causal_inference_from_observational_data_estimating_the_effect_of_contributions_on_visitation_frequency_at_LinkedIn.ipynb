{
  "nbformat": 4,
  "nbformat_minor": 0,
  "metadata": {
    "colab": {
      "provenance": [],
      "authorship_tag": "ABX9TyNjENQl5Q0jAiQytetFpFFn"
    },
    "kernelspec": {
      "name": "python3",
      "display_name": "Python 3"
    },
    "language_info": {
      "name": "python"
    }
  },
  "cells": [
    {
      "cell_type": "markdown",
      "source": [
        "# (Bojinov et al., 2019) Causal inference from observational data: Estimating the effect of contributions on visitation frequency atLinkedIn"
      ],
      "metadata": {
        "id": "xQPRM9itjxWi"
      }
    },
    {
      "cell_type": "markdown",
      "source": [
        "This review will have a slightly different format. It will actually cover 2 articles:\n",
        "- https://www.linkedin.com/blog/engineering/data-science/ocelot-scaling-observational-causal-inference-at-linkedin\n",
        "- https://arxiv.org/abs/1903.07755\n",
        "\n",
        "For each article, I try to keep it very brief."
      ],
      "metadata": {
        "id": "0iGzKnkej1ox"
      }
    },
    {
      "cell_type": "markdown",
      "source": [
        "# [Ocelot: Scaling observational causal inference at LinkedIn](https://www.linkedin.com/blog/engineering/data-science/ocelot-scaling-observational-causal-inference-at-linkedin)\n"
      ],
      "metadata": {
        "id": "vufkSb5aj1rj"
      }
    },
    {
      "cell_type": "markdown",
      "source": [
        "LinkedIn's T-REX experimentation platform allows A/B testing at scale, adding 2000 new experiments on a weekly basis, serving a user population of more than 850 million members. There are times when experimentation is not feasible, which is why they needed a tool to scale observational causal inference as well."
      ],
      "metadata": {
        "id": "ezzvTywXkC4u"
      }
    },
    {
      "cell_type": "markdown",
      "source": [
        "## What is observational causal inference"
      ],
      "metadata": {
        "id": "3MTRtwISkC6_"
      }
    },
    {
      "cell_type": "markdown",
      "source": [
        "Some examples of wanting to understand the causal effect of a change:\n",
        "- estimating the impact of brand marketing campaigns (e.g., TV, billboard, radio)\n",
        "- estimating the impact of bugs or downtime from diffrent sources (we do not want to run an experiment where we artificially randomize bad experiences between users)\n",
        "- estimating effect of exogenous shocks to the economy\n",
        "\n"
      ],
      "metadata": {
        "id": "HMFTVP56kC9P"
      }
    },
    {
      "cell_type": "markdown",
      "source": [
        "## Ocelot: LinkedIn's platform for observational causal inference"
      ],
      "metadata": {
        "id": "J4Dn0FXIkC_c"
      }
    },
    {
      "cell_type": "markdown",
      "source": [
        "To make observational causal inference more accessible, built an internal web application to enable users to run complex causal studies with no coding effort. Aims to deliver estimates of causal relationships from observational data, along with robustness checks, to end users.\n",
        "\n",
        "The web application guides users in filing the correct inputs to run the appropriate causal studies. For example, in a Fixed Effects Model with 4 time periods, there will be 24 dates involved (for each of the time periods, this means 24/3 = 8 dates are specified)\n",
        "\n",
        "Users need to only select covariates by names and Ocelot handles the join logic to ensure modeling data correctness.\n",
        "\n",
        "Work with domain experts to pre-define a standard covariate set, which currently includes more than 200 commonly used covariates.\n",
        "\n",
        "5 methods currently offered by ocelot:\n",
        "\n",
        "Cross-sectional data:\n",
        "- Coarsened Exact matching (w/ DR)\n",
        "- Doubly Robust Estimator\n",
        "\n",
        "When an instrument is available:\n",
        "- Instrumental Variables Estimation\n",
        "\n",
        "Panel Data:\n",
        "- Fixed Effects Models\n",
        "\n",
        "Time Series Data:\n",
        "- Bayesian Structured Time Series (BSTS)\n",
        "\n",
        "After a result is ready, a user can submit the analysis for a committee to review.\n",
        "\n",
        "Previously, took a few data scientists (method expert + domain expert) up to 6 weeks to design the causal study, build the data pipeline to create the dataset, write ad-hoc causal modeling scripts, and validate and analyze the results. Now, domain expert data scientists can run causal studies on their own.\n",
        "\n"
      ],
      "metadata": {
        "id": "WvmO6J8Qj1tv"
      }
    },
    {
      "cell_type": "markdown",
      "source": [
        "## Ensuring robustness of study results"
      ],
      "metadata": {
        "id": "9-jS7ib_mVQv"
      }
    },
    {
      "cell_type": "markdown",
      "source": [
        "Two Steps of ensuring the high bar of rigor:\n",
        "1. Central review committee\n",
        "2. Implementing automated robustness checks on Ocelot\n",
        "\n",
        "Note that even with all this, observational causal methods requires assumptions that cannot be verified."
      ],
      "metadata": {
        "id": "RIByqzBqmVTO"
      }
    },
    {
      "cell_type": "markdown",
      "source": [
        "# [Causal inference from observational data: Estimating the effect of contributions on visitation frequency at LinkedIn](https://arxiv.org/pdf/1903.07755.pdf)"
      ],
      "metadata": {
        "id": "oTsE08xqmVVi"
      }
    },
    {
      "cell_type": "markdown",
      "source": [
        "## 1. Introduction"
      ],
      "metadata": {
        "id": "Bw9Hm2YmmVXx"
      }
    },
    {
      "cell_type": "markdown",
      "source": [
        "A constant theme in product development is understanding which features add the most value to a members' experience, where the value is typically measured by the amount of time spent on LInkedIn or the visitation frequency. One such value-adding initiatives recently conceived was to help members stay better connected by encouraging them to contribute more on LinkedIn, be it public contributions (e.g., posting, commenting sharing or liking a feed) or private contributions (e.g., messaging another member).\n",
        "\n",
        "Web-facing companies often employ strategies that encourage a member to take an action because of the belief that this will impact a downstream business metric. Measuring the effect of an action taken by a user on a business metric can be done using experiments, but requires encouragement design (Imai et al. 2013) since we cannot directly force users to take the desired action). In this setting we usually have an abundance of historical data that can be used with causal inference."
      ],
      "metadata": {
        "id": "9z1v31_Bv14B"
      }
    },
    {
      "cell_type": "markdown",
      "source": [
        "## 2. Introduction to observational studies"
      ],
      "metadata": {
        "id": "CU4Gz0T_v16k"
      }
    },
    {
      "cell_type": "markdown",
      "source": [
        "Covers the potential outcomes framework, which we won't take notes on as we've reviewed it many times already in other notebooks."
      ],
      "metadata": {
        "id": "m7VSDjp4v19I"
      }
    },
    {
      "cell_type": "markdown",
      "source": [
        "## 3. Observational studies with temporal data"
      ],
      "metadata": {
        "id": "0OlSu8Fbv1_O"
      }
    },
    {
      "cell_type": "markdown",
      "source": [
        "Can utilize a fixed effects approach\n",
        "\n",
        "describes why they make certain assumptions with the fixed effects model and why they believe it is reasonable\n",
        "\n",
        "Relax the linearity assumption using Imai and Kim (2012)'s *weighted* fixed effects model.\n",
        "\n",
        "Use 3 treatments to handle no-show users\n",
        "\n",
        "To measure network and spillover effect, include neighborhood covariates in the regression and thus the spillover effect can be identified."
      ],
      "metadata": {
        "id": "ng2LbmOJxSi7"
      }
    }
  ]
}