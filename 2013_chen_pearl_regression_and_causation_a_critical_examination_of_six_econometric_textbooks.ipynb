{
  "nbformat": 4,
  "nbformat_minor": 0,
  "metadata": {
    "colab": {
      "provenance": [],
      "authorship_tag": "ABX9TyPY7o9PcDlgInfpEGAvJ2p/"
    },
    "kernelspec": {
      "name": "python3",
      "display_name": "Python 3"
    },
    "language_info": {
      "name": "python"
    }
  },
  "cells": [
    {
      "cell_type": "markdown",
      "source": [
        "# (Chen and Pearl, 2013) Regression and Causation: A Critical Examination of Six Econometrics Textbooks\n"
      ],
      "metadata": {
        "id": "X-4Yzh9l3ysA"
      }
    },
    {
      "cell_type": "markdown",
      "source": [
        "[link](https://ftp.cs.ucla.edu/pub/stat_ser/r395.pdf)\n",
        "\n",
        "Some notes on the paper."
      ],
      "metadata": {
        "id": "u5uK_47H3y4C"
      }
    },
    {
      "cell_type": "markdown",
      "source": [
        "## 1. Introduction"
      ],
      "metadata": {
        "id": "WyyVPrCY3y6K"
      }
    },
    {
      "cell_type": "markdown",
      "source": [
        "The most popular formal language used in econometrics is the structural equation model (SEM).\n",
        "\n",
        "The authors claim that Economists are divided on how to formulate causal language. They also claim that the language exists, developed in (Pearl, 2000), that should be used universally but is not. In this paper, they survey 6 econometrics textbooks to evaluate how they use econometric models in comparison to modern standards of causal analysis."
      ],
      "metadata": {
        "id": "q9VoUQ1Q3y8j"
      }
    },
    {
      "cell_type": "markdown",
      "source": [
        "## 2. Criteria for Evaluation"
      ],
      "metadata": {
        "id": "-QiTcOzR4FFO"
      }
    },
    {
      "cell_type": "markdown",
      "source": [
        "Makes clear what criteria they use to evaluate each econometrics paper. It focuses on:\n",
        "- applicability of econometric models\n",
        "- interpreting model parameters\n",
        "- disinguishing $E[Y|X]$ and $E[Y|do(X)]$."
      ],
      "metadata": {
        "id": "luGWQ2v_4FHZ"
      }
    },
    {
      "cell_type": "markdown",
      "source": [
        "## 3. Results"
      ],
      "metadata": {
        "id": "WmOzCUcT4FJV"
      }
    },
    {
      "cell_type": "markdown",
      "source": [
        "Surveys 6 textbooks ranging from publication years 2009 to 2012.\n",
        "\n",
        "- *Econometric Analysis* by Green, W (2012)\n",
        "- *Principles of Econometrics* by Hill, R., Griffiths, W., and Lim, G. (2011)\n",
        "- *A Guide to Econometrics* by Kennedy, P (2008)\n",
        "- An Introduction to Classical Econometric Theory* by Ruud, P (2000)\n",
        "- *Introduction to Econometrics* by Stok, J; Watson, M. (2011)\n",
        "- *Introductory Econometrics: A Modern Approach by Wooldrige (2009)\n"
      ],
      "metadata": {
        "id": "0DBtsbNC3y-o"
      }
    },
    {
      "cell_type": "markdown",
      "source": [
        "### 3.1 Greene (2012)"
      ],
      "metadata": {
        "id": "4188OGmL5jMQ"
      }
    },
    {
      "cell_type": "markdown",
      "source": [
        "Green provides the most detailed account of potential outcomes and counterfactuals of all authors surveyed, however his failure to acknowledge the oneness of the potential outcomes and structural equation frameworks is likely to cause more confusion than clarify, especially in view of the current debate between two antagonistic and narrowly focused schools of econometric research."
      ],
      "metadata": {
        "id": "lMPANQfT5jOs"
      }
    },
    {
      "cell_type": "markdown",
      "source": [
        "### 3.2 Hill, Griffiths, and Lim (2011)"
      ],
      "metadata": {
        "id": "9qyneDje5jQ2"
      }
    },
    {
      "cell_type": "markdown",
      "source": [
        "The authors claim that in this textbook, it makes no mention of causal vocabulary and relies purely on statistical notation like conditional expectation."
      ],
      "metadata": {
        "id": "lwqH_Bre8u37"
      }
    },
    {
      "cell_type": "markdown",
      "source": [
        "### 3.3 Kennedy (2008)"
      ],
      "metadata": {
        "id": "LXEKCjMA8u6S"
      }
    },
    {
      "cell_type": "markdown",
      "source": [
        "Kennedy suggests that causality has no place in econometric modeling and all uses of the term \"cause\" should be replaced with \"Granger-cause\". However, Granger causality is a misnomer given to purely predictive notation that has nothing to do with causation."
      ],
      "metadata": {
        "id": "S1huJbty8u8l"
      }
    },
    {
      "cell_type": "markdown",
      "source": [
        "### 3.4 Ruud (2000)"
      ],
      "metadata": {
        "id": "Zx0ai67s-zdF"
      }
    },
    {
      "cell_type": "markdown",
      "source": [
        "Rather than treating an econometric model as representing an economic theory and testing it against data, Ruud focuses almost entirely on regression techniques. Much of the textbook is devoted to deriving statistical properties of OLS regression. Causality is not discussed at all in the textbook beyond a passing mention that the causal effect and conditional expectation are not the same."
      ],
      "metadata": {
        "id": "1A89J8qa-zfR"
      }
    },
    {
      "cell_type": "markdown",
      "source": [
        "### 3.5 Stock and Watson (2011)"
      ],
      "metadata": {
        "id": "qyZWvH48-zjQ"
      }
    },
    {
      "cell_type": "markdown",
      "source": [
        "Only text out of the 6 to address the difference in assumptions needed for causal versus predictive inference.\n",
        "\n",
        "The text also introduces the potential outcome framework to explain randomization and heterogeneous causal effects.\n",
        "\n",
        "While including misleading characteristics, nevertheless this and the textbook by Greene are the only two surveyed that introduce the potential outcomes notation, which is important for defining counterfactual questions such as the effect of treatment on the treated and indirect effects."
      ],
      "metadata": {
        "id": "qRnkpA1OCnTT"
      }
    },
    {
      "cell_type": "markdown",
      "source": [
        "### 3.6 Wooldrige (2009)"
      ],
      "metadata": {
        "id": "XXYy-m96CnWC"
      }
    },
    {
      "cell_type": "markdown",
      "source": [
        "Provided a strong and generally consistent account of causality. However, he did not provide explicit notation for intervention thus letting the definitions of $\\beta$ and $\\epsilon$ rest entirely on verbal description."
      ],
      "metadata": {
        "id": "_2tU9XxvIAbw"
      }
    },
    {
      "cell_type": "markdown",
      "source": [
        "## 4. Discussion and Recommendations"
      ],
      "metadata": {
        "id": "fKZnVA-MIAeN"
      }
    },
    {
      "cell_type": "markdown",
      "source": [
        "### 4.1 Potential Points of Improvement"
      ],
      "metadata": {
        "id": "gGg6jlY-miI-"
      }
    },
    {
      "cell_type": "markdown",
      "source": [
        "Making clear the difference between conditional expectation $E[Y|X]$ and the interventional expectation $E[Y|do(X)]$ will do much to clarify the meaning of the two econometric model and help prevent both students and economists from confusing the two.\n",
        "\n",
        "Another weakness that runs across all books surveyed is the absense of graphical models to assist in both understanding the causal content of the equations and performing necessary inferential functions that are not easily performed algebraically."
      ],
      "metadata": {
        "id": "S9cXAvI5miLU"
      }
    },
    {
      "cell_type": "markdown",
      "source": [
        "## 4.2 What an ideal textbook should contain"
      ],
      "metadata": {
        "id": "ukvz4SI-mnUN"
      }
    },
    {
      "cell_type": "markdown",
      "source": [
        "An ideal textbook in econometrics should eradicate the century-old confusion between regression and structural equations. Structural and regression parameters should consistently be given distinct notation, for example, $\\beta_s$ vs. $\\alpha_r$. The term \"regression\" should not be used when referring to structural equations. The assumptions behind each structural equation should be made explicit and contrasted with those that underlie regression equations."
      ],
      "metadata": {
        "id": "UANm2aYdmnWf"
      }
    },
    {
      "cell_type": "markdown",
      "source": [
        "## 5. Conclusion"
      ],
      "metadata": {
        "id": "i1i3haRNoSL9"
      }
    },
    {
      "cell_type": "markdown",
      "source": [
        "The surveyed econometrics textooks range from acknowledging the causal content of the SEM to insisting that it is nothing more than a compact representation of a joint distribution. The rest fall somewhere in the middle, attempting to provide the model with power to answer economic questions but unwilling to accept its causal nature; the resul tis ambiguity and confusion.\n",
        "\n",
        "Finally, the author claims that the introduction of graphical models and distinct causal notation into elementary econometric textbooks has the potential of revitalizing economics education and bringing next generation economists to par with modern methodologies of modeling and inference."
      ],
      "metadata": {
        "id": "B1IX076KoSOM"
      }
    }
  ]
}