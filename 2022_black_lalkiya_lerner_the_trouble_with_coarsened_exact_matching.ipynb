{
  "nbformat": 4,
  "nbformat_minor": 0,
  "metadata": {
    "colab": {
      "provenance": [],
      "authorship_tag": "ABX9TyMSV5MvCOUtEvQdpQNVbL+N"
    },
    "kernelspec": {
      "name": "python3",
      "display_name": "Python 3"
    },
    "language_info": {
      "name": "python"
    }
  },
  "cells": [
    {
      "cell_type": "markdown",
      "source": [
        "# (Black, Lalkiya, Lerner, 2022) The Trouble with Coarsened Exact Matching"
      ],
      "metadata": {
        "id": "wjnTa6iTGEA2"
      }
    },
    {
      "cell_type": "markdown",
      "source": [
        "important note: the language is in first person POV not because I had anything to do with the paper but because it's easier for me to take notes that way.\n",
        "\n",
        "[Link to Paper](https://cape.ucmerced.edu/sites/cape.ucmerced.edu/files/page/documents/trouble_with_cem-2022-06-16a-ltd-comments-for-mccubbins-conf.pdf)"
      ],
      "metadata": {
        "id": "AqtUjTbTGjOk"
      }
    },
    {
      "cell_type": "markdown",
      "source": [
        "## Abstract"
      ],
      "metadata": {
        "id": "YSHMqIhAGEDU"
      }
    },
    {
      "cell_type": "markdown",
      "source": [
        "We address one cross-sectional observational data \"balancing\" method called CEM which has attained substantial popularity, especially in politicial science. We report evidence that CEM performs substantially worse than other balancing methods and explain why.\n",
        "1. CEM drops substantially more observations than other methods\n",
        "2. Less precise\n",
        "3. Can severely misidentify average treatment effects relative to other methods\n",
        "4. Can produce estimates that are sensitive to adding noninformative covariates\n",
        "5. Can over-reject the null when the null is true.\n",
        "\n",
        "Our advice: never use CEM as the sole balancing method, and there is little to be said for using it at all."
      ],
      "metadata": {
        "id": "J4GjIJhDGI0U"
      }
    },
    {
      "cell_type": "markdown",
      "source": [
        "## 1. Introduction"
      ],
      "metadata": {
        "id": "lMYpAdbZGI2a"
      }
    },
    {
      "cell_type": "markdown",
      "source": [
        "CEM is a combined matching, sample trimming, and reweighting method.\n",
        "\n",
        "When using CEM, the researcher selects a limited # of core variables to balance on. The CEM method divides each continuous variable into bins, requires an exact match between treated and control unit on the binned variables,d rops unmatched observations, and reweights the remaining observations.\n",
        "\n",
        "We compare CEM (ATT) to 5 other well-known widely used balancing approaches:\n",
        "- PSM\n",
        "- NNM\n",
        "- Inverse propensity score weighting (IPW)\n",
        "- Entropy balancing\n",
        "- Inverse propensity score weighting using covariate balance propensity scores (CBPS-weights)\n",
        "\n",
        "Moreso than other methods, CEM suffered strongly from the curse of dimensionality, while the other methods dropped no treated units.\n",
        "\n",
        "CEM estimates also changed substantially when adding random covariates (uncorrelated with any variables), while other methods (including regression alone) were unaffected.\n",
        "\n",
        "In addition, in the scope of the papers studied (political science papers from 2012-2016), reweighting methods tended to generally outperform matching methods."
      ],
      "metadata": {
        "id": "LV0pED6MGI4r"
      }
    },
    {
      "cell_type": "markdown",
      "source": [
        "## 2. Background"
      ],
      "metadata": {
        "id": "HrrOhXaLGEF2"
      }
    },
    {
      "cell_type": "markdown",
      "source": [
        "CEM divides each selected covariate into bins, requires an exact match between a treated unit and one or more control units on the binned variables, and drops unmatched observations.\n",
        "\n",
        "For a covariate $x$ and a sample size of $n$, CEM divides the domain of $x$ into $b(n)=\\log_2(n)+1$ bins (rounding up). The number of bins is often substantial, for some example, $n=350$ leads to $10$ bins for each variable. CEM lets researchers choose a different binning structure, but we use the default here, as will most users.\n",
        "\n",
        "Treated units are retained if they can be matched exactly to one or more control units, and vice-versa, but control units are also weighted.\n",
        "\n",
        "We provide an overview of the performance of each method along several dimensions:\n",
        "- covariate balance\n",
        "- preserving sample size\n",
        "- precision\n",
        "- $z$-scores\n",
        "\n",
        "**Covariate Balance**:\n",
        "\n",
        "There are two main reasons why CEM achieves imperfect balance, despite discarding observations that it cannot match exactly. First, CEM can produce imbalance for variables that CEM does not try to balance on. Less obviously, CEM generates imperfect balance for continuous variables that are matched on.\n",
        "\n",
        "**Effect of Different Balancing Methods on Sample Size**:\n",
        "\n",
        "In using the ATT, all methods except CEM retain all treated units. In addition, in the papers studied, CEM also retained fewer effective control units than other methods.\n",
        "\n",
        "**Relative Standard Errors**:\n",
        "\n",
        "The loss of sample from CEM has substantial implications for precision.\n",
        "\n",
        "**Point Estimates: CEM versus Other Methods**:\n",
        "\n",
        "A majority of the CEM estimates are outside the 95% confidence bounds from the other methods.\n",
        "\n",
        "**Varying the Number of Covariates to be Balanced On**:\n",
        "\n",
        "The paper also checks the sensitivity of adding various different covariates. CEM appeared to fluctuate the most.\n",
        "\n",
        "**Sensitivity to Uninformative Covariates**:\n",
        "\n",
        "Concerningly, CEM (and nnm) fluctuated heavily when adding random uncorrelated covariates. Weighting methods seem to be unaffected.\n",
        "\n",
        "**Statistical Power and Over-Rejection of the Null**:\n",
        "\n",
        "CEM appeared to overreject the null the highest out of any other method, although weighting methods also suffered (but magnitudes lower than CEM).\n",
        "\n",
        "**Why does CEM produce Odd Results?**:\n",
        "\n",
        "While it provides reasonable covariate balance, this comes at the cost of much smaller retained samples than other methods, and thus lower precision.\n",
        "\n",
        "Thus, it is unclear why researchers use CEM at all. Also, it should be noted that entropy balance consistently the best across the board. The matching methods (PSM & nnm) performed worse than reweighting methods (consistent with the concerns about PSM in King and Nielsen, 2019) but substantially better than CEM.\n",
        "\n",
        "If very close covariate balance is important, other methods can achieve this without the loss of sample size or CEM's other quirks.\n",
        "\n",
        "\n"
      ],
      "metadata": {
        "id": "7pfhxG6XJCBV"
      }
    },
    {
      "cell_type": "markdown",
      "source": [],
      "metadata": {
        "id": "3I4_VULbJCDr"
      }
    },
    {
      "cell_type": "markdown",
      "source": [],
      "metadata": {
        "id": "KWSWiUInJCH2"
      }
    }
  ]
}