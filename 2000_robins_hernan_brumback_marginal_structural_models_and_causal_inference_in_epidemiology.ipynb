{
  "nbformat": 4,
  "nbformat_minor": 0,
  "metadata": {
    "colab": {
      "provenance": [],
      "authorship_tag": "ABX9TyMzpDgYKvrfWseMmPctCX2C"
    },
    "kernelspec": {
      "name": "python3",
      "display_name": "Python 3"
    },
    "language_info": {
      "name": "python"
    }
  },
  "cells": [
    {
      "cell_type": "markdown",
      "source": [
        "# (Robins, Hernan, and Brumback, 2000) Marginal Structural Models and Causal Inference in Epidemiology"
      ],
      "metadata": {
        "id": "JhWKOQp1e90y"
      }
    },
    {
      "cell_type": "markdown",
      "source": [
        "As always - some notes I took from the paper that I found to be most important or notable. I always try to keep these notes short, otherwise it's easier to just reference the paper directly. Of course, how short is difficult to say as papers can vary drastically in length.\n",
        "\n",
        "In addition, I like to add my own notes here and there when I deem it as necessary to help with understanding the text.\n",
        "\n",
        "https://www.hsph.harvard.edu/wp-content/uploads/sites/1268/2014/11/Marginal_Structural_Models_and_Causal_Inference_in.11.pdf\n",
        "\n"
      ],
      "metadata": {
        "id": "MTRCy4rse93R"
      }
    },
    {
      "cell_type": "markdown",
      "source": [
        "## Abtract"
      ],
      "metadata": {
        "id": "Vfz-Q8U5e961"
      }
    },
    {
      "cell_type": "markdown",
      "source": [
        "This paper introduces marginal structural models, a new class of causal models that allow for improved adjustment of confounding in situations with time-dependent confounders that are also affected by previous treatment.\n",
        "\n",
        "The parameters of an MSM can be consistently estimated using IPTW."
      ],
      "metadata": {
        "id": "clz89TITe99Z"
      }
    },
    {
      "cell_type": "markdown",
      "source": [
        "## Introduction"
      ],
      "metadata": {
        "id": "sdQZtGYafW7H"
      }
    },
    {
      "cell_type": "markdown",
      "source": [
        "standard approaches may be biased when:\n",
        "1. there exists a time-dependent covariate that is a risk factor for, or predictor of, the event (outcome) of interest and also predicts subsequent exposure, and\n",
        "2. past exposure history predicts subsequent levels of the covariate\n",
        "\n",
        "We refer to covariates that satisfy 1. as time-dependent confounders."
      ],
      "metadata": {
        "id": "BLPAfYG1fW9d"
      }
    },
    {
      "cell_type": "markdown",
      "source": [
        "## 1. Time-Dependent Confounding"
      ],
      "metadata": {
        "id": "5PuIOLxsfW_Z"
      }
    },
    {
      "cell_type": "markdown",
      "source": [
        "Consider a follow-up study of HIV-infected patients.\n",
        "\n",
        "Let:\n",
        "- $A_k$ be the dose of the treatment, AZT, on the $k^{\\text{th}}$ day since start of follow-up.\n",
        "- $Y$ be a dichotomous outcome of interest, $Y=1$ if HIV RNA is not detectable in the blood and is 0 otherwise, measured at end of follow-up on day $K+1$\n",
        "- $L_k$ represents the value on day $k$ of the vector of all measured risk factors for the outcome, such as age, CD4 lymphocyte count, white blood count (WBC), hematocrit, diagnosis of acquired immunodeficiency syndrome (AIDS), and the presence or absence of various symptoms or opportunistic infections such as oral candidasis.\n",
        "- $U_k$ represents the value on day $k$ of all unmeasured causal risk factors for $Y$.\n",
        "\n",
        "Our goal is to estimate the causal effect of the time-dependent treatment $A_k$ on the outcome $Y$.\n",
        "\n",
        "Check out [Figure 1](https://www.hsph.harvard.edu/wp-content/uploads/sites/1268/2014/11/Marginal_Structural_Models_and_Causal_Inference_in.11.pdf).\n",
        "\n",
        "There are some subtle differences between Figure 1a - 1c.\n",
        "\n",
        "- 1a: arrows from the unmeasured $U_k$ affects both subsequent treatment as well as outcome\n",
        "- 1b: $U_k$ does not affect subsequent treatment, although it still affects outcome and $L_k$, which does affect treatment. In this case we say that there are *no unmeasured confounders given data on the measured confounders* $L_k$.\n",
        "- 1c: neither $L_k$ nor $U_k$ influences treatment. Since no arrow from any non-treatment risk factor into any treatment, there is no confounding by either measured or unmeasured factors, in which case we say that *treatment is unconfounded*.\n",
        "\n",
        "Important to note that for all 3, past treatment ($A_{k-1}$) affects subsequent $L_k$ and $U_k$. In addition, $A_0$ can affect $A_1$."
      ],
      "metadata": {
        "id": "KYOIuDXgilbv"
      }
    },
    {
      "cell_type": "markdown",
      "source": [
        "## 2. Counterfactuals in Point-Treatment Studies"
      ],
      "metadata": {
        "id": "BwDhME3wileW"
      }
    },
    {
      "cell_type": "markdown",
      "source": [
        "Reviews how one would estimate the effect of $A_0$ on $Y$ in the point-treatment study (i.e., cross-sectional study)."
      ],
      "metadata": {
        "id": "SfZJXiv1rLVW"
      }
    },
    {
      "cell_type": "markdown",
      "source": [
        "## 3. Models for Point-Treatment Studies"
      ],
      "metadata": {
        "id": "zs5LnSc-rLXz"
      }
    },
    {
      "cell_type": "markdown",
      "source": [
        "The causal RD, RR, and OR can be expressed in terms of the parameters of the following linear, loglinear, and linear logistic models for the two counterfactual probabilities $Pr(Y_{a_0=1})$ and $Pr(Y_{a_0=0})$ (Remember that $A_0$ is the treatment)\n",
        "\n",
        "$$Pr[Y_{a_0}=1]=\\psi_0+\\psi_1a_0$$\n",
        "$$\\log Pr[Y_{a_0}=1]=\\theta_0+\\theta_1a_0$$\n",
        "$$\\text{logit} Pr[Y_{a_0}=1]=\\beta_0+\\beta_1a_0$$\n",
        "\n",
        "where $Y_{a_0}$ is $Y_{a_0=1}$ if $a_0=1$ (analogously defined for $a_0=0$).\n",
        "\n",
        "Thus, the causal RD = $\\psi_1$, RR = $e^{\\theta_1}$, OR = $e^{\\beta_1}$.\n",
        "\n",
        "These 3 models are called saturated MSMs.\n",
        "\n",
        "- marginal because they model the marginal distribution of the counterfactuals of the outcome $Y_{a_0=1}$ and $Y_{a_0=0}$ as opposed to the correlation of the two.\n",
        "- structural because they model counterfactuals\n",
        "- saturated because each has two unknown parameters and thus each model places no restriction on the possible values of the two unknown probabilities of the two counterfactuals.\n",
        "\n",
        "The crude RD\n",
        "$$Pr[Y=1|A_0=a_0]=\\psi_0'+\\psi_1'a_0$$\n",
        "will consistently estimate the causal RD when treatment is unconfounded (analogous for RR and OR)."
      ],
      "metadata": {
        "id": "N8BMD_eOrLaM"
      }
    },
    {
      "cell_type": "markdown",
      "source": [
        "## 4. No Unmeasured Confounders"
      ],
      "metadata": {
        "id": "ZZZFJgoIrLcP"
      }
    },
    {
      "cell_type": "markdown",
      "source": [
        "if there is confounding but $L_0$ is sufficient to control for all confounding, we can still consistently estimate the causal $\\psi_1$ by performing a weight analysis.\n",
        "\n",
        "To do this, we assign each subject $i$ to a weight $w_i$ which equals the inverse of the conditional probability of receiving his or her own treatment\n",
        "$$w_i=\\frac{1}{Pr[A_0=a_{0i}|L_0=l_{0i}]}$$\n",
        "\n",
        "Of-course the true weights are unknown but we estimate it, using something like logistic regression:\n",
        "$$\\text{logit} Pr[A_0=1|L_0=l_0]=\\alpha_0+\\alpha_1l_0$$\n",
        "\n",
        "We refer to these weighted estimators as IPTW estimators.\n",
        "\n",
        "This approach works because the effect of weighting is to create a pseudopopulation consisting of $w_i$ copies of each subject $i$.\n",
        "\n",
        "For instance, if, for a given subject, $w_i=4$, the subject contributes 4 copies of themselves to the pseudopopulation.\n",
        "\n",
        "Why does that make sense? Think of it like this:\n",
        "\n",
        "There's a total of 4 users, two in treatment $A=1$ and two in $A=0$.\n",
        "\n",
        "$A=1$:\n",
        "- first user: 50% prob of innate $A=1$, $w_i=2$\n",
        "- sec user: 25% prob of innate $A=1$ (thus 75% prob of getting $A=0$), $w_i=4$\n",
        "\n",
        "$A=0$:\n",
        "- first user: 50% prob of innate $A=0$, $w_i=2$\n",
        "- sec user: 75% prob of innate $A=0$ (thus 25% prob of getting $A=1$), $w_i=1.33..$\n",
        "\n",
        "Now, look at the weighted averages for Treatment users:\n",
        "\n",
        "$(0.5\\times 2 + 0.25\\times 4)/6 = 2/6 = 0.66..$\n",
        "\n",
        "Then for Control users:\n",
        "\n",
        "$(0.5\\times 2 + 0.75\\times 1.\\bar{33})/6 = 2/6 = 0.66..$\n",
        "\n",
        "So now, you have effectively evened out the probability of getting treatment for both exposures. This is good because if one group had a higher propensity to get treatment, then this can lead to confounding."
      ],
      "metadata": {
        "id": "55RfnFZuvgD7"
      }
    },
    {
      "cell_type": "markdown",
      "source": [
        "## 5. Unmeasured Confounding"
      ],
      "metadata": {
        "id": "24K06zPuvgGQ"
      }
    },
    {
      "cell_type": "markdown",
      "source": [
        "## 6. Multilevel Treatment and Unsaturated MSMs"
      ],
      "metadata": {
        "id": "aHSDf0Q-vgIY"
      }
    },
    {
      "cell_type": "markdown",
      "source": [
        "Even if $A_0$ is multi-level (e.g., ordinal variable from 0,1,2,...,15), we can still use the same method to consistently estimate the treatment using IPTW using a slightly modified but analogous estimator.\n",
        "\n",
        "### 6.1 Stabilized Weights\n",
        "\n",
        "The probabilities $pr[A_0=a_{0i}|L=l_{0i}]$ may vary greatly between subjects when components of $L_0$ are strongly associated with $A_0$. This variability can result in extremely large values of the weight $w_i$ for a few subjects, then they would contribute a large number of copies of themselves to the pseudopopulation and thus dominate the weighted analysis, with the result that our IPTW estimator will have a large variance and will fail to be approximately normally distributed. This can be unavoidable for satured models because it reflects a lack of information in the data as a result of the confounders $L_0$ being highly correlated with treatment $A_0$.\n",
        "\n",
        "For unsaturated MSM's, this can be mitigated to an extent by using stablized weights:\n",
        "$$sw_i=\\frac{pr[A_0=a_{0i}]}{pr[A_0=a_{0i}|L_0=L_{0i}]}$$\n",
        "\n",
        "This differs from the original weights as the numerator is replaced with the prevalence of that exposure. This has the effect of the weights being stabalized around one and will tend to be less variable than regular $w_i$.\n",
        "\n",
        "### 6.2 Continuous Treatment\n",
        "\n",
        "Similarly, we could also compute the weights for a continuous outcome using stabilized weights\n",
        "$$sw_i=\\frac{f(a_{0i})}{f(a_{0i}|l_{0i})}$$\n",
        "\n",
        "where the denominator is the conditional *density* of the continuous variable $A_0$ given $L_0$ and the numerator is the marginal density of $A_0$.\n",
        "\n",
        "To estimate the denominator, we can specify that given $L_0$, then $A_0$ is normal with mean $\\alpha_0+\\alpha_1L_0$ and variance $\\sigma^2$. Then we can compute the unbiased estimates of $(\\alpha_0,\\alpha_1,\\sigma^2)$ using OLS.\n",
        "\n",
        "### 6.3 Confidence Intervals\n",
        "\n",
        "We use the 95% \"robust\" Wald confidence interval for $\\beta_1$ given by\n",
        "$$\\hat\\beta_1\\pm 1.96\\sqrt{\\text{var}(\\hat\\beta_1)}$$\n",
        "where the variance inside the sqrt is the so-called \"robust\" or \"sandwich\" estimator of the variance of $\\hat\\beta_1$."
      ],
      "metadata": {
        "id": "6j91XT_fvgK_"
      }
    },
    {
      "cell_type": "markdown",
      "source": [
        "## 7. Time-Dependent Treatments"
      ],
      "metadata": {
        "id": "YTdGL2MsB4lw"
      }
    },
    {
      "cell_type": "markdown",
      "source": [
        "Back to longitudinal data!\n",
        "\n",
        "Recall that $A_k$ is treatment at day $k$, and $Y$ is our outcome that we observe at $K+1$. $L_k$ is our collection of covariates, defined analogously.\n",
        "\n",
        "Let $\\bar A_k=(A_0,A_1,...,A_k)$ be the treatment history until $k$ and let $\\bar A=\\bar A_K$. Define covariates analogously!\n",
        "\n",
        "Note how even if $a_k$ is dichotomous, that is still $2^K$ possible counterfactuals, so it may not be possible to estimate a saturated MSM where you estimate the effect of each combination.\n",
        "\n",
        "Thus, it's better to assume some sort of parsimonious dose-response relationship by specifying a linear logistic MSM such as\n",
        "$$\\text{logit } pr[Y_{\\bar{a}}=1]=\\beta_0+\\beta_1\\text{cum}(\\bar{a})$$\n",
        "\n",
        "where\n",
        "$$\\text{cum}(\\bar{a})=\\sum_{k=0}^{K}a_k$$, which can be interpreted as the cumulative dose through end-of-follow-up associated with the dose history $\\bar{a}$.\n",
        "\n",
        "The associational equivalent we use to estimate assuming no selection bias or confounding is:\n",
        "$$\\text{logit } pr[Y=1|\\bar{A}=\\bar{a}]=\\beta_0'+\\beta_1'\\text{cum}(\\bar{a})$$\n",
        "\n",
        "The way to interpret this is, to compute the treatment effect of a person who has some certain exposure history $\\bar{a}$, we use the sum of their exposure history instead to model the parameters. Therefore, this is like saying that we don't care too much exactly at which $k$ a user got each exposure, but more of the volume and magnitude.\n",
        "\n",
        "When there is confounding (which is essentially going to be *always* for observational studies), we use the stabilized weights\n",
        "$$sw_i=\\frac{\\prod_{k=0}^Kpr(A_k=a_{ki}|\\bar{A}_{k-1}=\\bar{a}_{(k-1)i})}{\\{\\prod_{k=0}^Kpr(A_k=a_{ki}|\\bar{A}_{k-1}=\\bar{a}_{(k-1)i},\\bar{L}_k=\\bar{l}_{ki})\\}}$$\n",
        "\n",
        "By the looks of it, the weights are computed while conditioning on the every previous treatment. So, for the numerator, which represents the prevalence of that treatment variable for current time $k$, it is after conditioning all previous treatments.\n",
        "\n",
        "Informally, the denominator is the conditional probability that a subject had his or her own observed treatment history through time $K$.\n",
        "\n",
        "The authors highly recommend stabilized weights because with time-dependent treatments, the variation in the unstabilzied weights will often by enormous, with the result that the resulting estimator of $\\beta$ can be highly variable with a markedly non-normal sampling distribution.\n",
        "\n",
        "### 7.1 Bias Induced by Controlling for a Variable Affected by Treatment\n",
        "\n",
        "Standard regression methods adjust for covariates by including them in the model as regressors.\n",
        "\n",
        "These standard methods may fail to adjust appropriately for confounding due to measured confounders $L_k$ when treatment is time varying because\n",
        "1. $L_k$ may be a confounder for later treatment and thus must be adjusted for, but\n",
        "2. may also be affected by earlier treatment and thus should not be adjusted for by standard methods\n",
        "\n",
        "The solution to this is to use weights $sw_i$ instead of adding the $L_k$ to the regression model as regressors."
      ],
      "metadata": {
        "id": "As70N9TyB4pL"
      }
    },
    {
      "cell_type": "markdown",
      "source": [
        "## 8. Estimation of the Weights"
      ],
      "metadata": {
        "id": "AHVhA-J-B4rX"
      }
    },
    {
      "cell_type": "markdown",
      "source": [
        "Recall the denominator of the stabilized weight from earlier. Assume treatment is dichotomous, and thus we estimate the unknown probability $pr[A_k=1|\\bar{A}_{k-1}=\\bar{a}_{(k-1)},\\bar{L}_k=\\bar{l}_{k}]$\n",
        "\n",
        ", which is the probability of treatment based on past treatments and current and past confounders, using a pooled logistic model that treats each person-day as an observation. For example, we might fit the model:\n",
        "$$\\text{logit }pr[A_k=1|\\bar{A}_{k-1}=\\bar{a}_{(k-1)},\\bar{L}_k=\\bar{l}_{k}]=\\alpha_0+\\alpha_1k+\\alpha_2a_{k-1}+\\alpha_3a_{k-2}+\\alpha_4l_k+\\alpha_5l_{k-1}+\\alpha_6a_{k-1}l_k+\\alpha_7l_0$$\n",
        "\n",
        "In other words, the model says that the probability of being treated on day $k$ depends on a linear logistic fashion on the day $k$, the\n",
        "- previous 2 days' treatment\n",
        "- current and previous days' covariates\n",
        "- an interaction between yesterday's treatments and today's covariates\n",
        "- baseline covariates\n",
        "\n",
        "The estimated probabilities, which are maximum likelihood estimates, they can be used to compute the stabilized weights, which can be incorporated into the weighted analysis. We can also use the Wald confidence interval.\n",
        "\n"
      ],
      "metadata": {
        "id": "GbHK-qaqXxr3"
      }
    },
    {
      "cell_type": "markdown",
      "source": [
        "## 9. Effect Modification by Pretreatment Covariates"
      ],
      "metadata": {
        "id": "90FT5zcSXxvK"
      }
    },
    {
      "cell_type": "markdown",
      "source": [
        "The math is skipped here - if you are interested refer to the text linked in the beginning.\n",
        "\n",
        "Elementary epidemiologic textbooks emphasize that effect modification is logically distinct from confounding.\n",
        "\n",
        "This is because the same statistical methods (stratification and regression adjustments) are used both for confounder control and detection of effect modification.\n",
        "\n",
        "Interestingly, with MSM's, the methods for confounder control (IPTW) are distinct from methods for detection of effect modification (adding treatment covariate interaction terms to an MSM).\n",
        "\n",
        "Finally, an important caveat: MSMs cannot be used to model the interaction of treatment with a time-varying covariate. For this, structural nested models should be used."
      ],
      "metadata": {
        "id": "Yg0RciwaXxxt"
      }
    },
    {
      "cell_type": "markdown",
      "source": [
        "## 10. Censensoring by Loss to Follow-Up"
      ],
      "metadata": {
        "id": "yqRumb33Xx2B"
      }
    },
    {
      "cell_type": "markdown",
      "source": [
        "So far, we have just assumed that each study subject is observed until end of follow-up at time $K+1$. There are modifications that allow for $C_k=1$ if a subject was lost to follow-up by day $k$ and $C_k=0$ otherwise.\n",
        "\n",
        "We assume that once a subject is lost to follow-up, the subject does not later re-enter follow-up. No new idea is required to account for censoring, provided we conceptualize censoring as just another time-varying treatment.\n",
        "\n",
        "Note that we want to adjust for censoring means that we want to compute the causal effect of the treatment $\\bar A$ if all subjects had remained uncensored.\n",
        "\n",
        "Our goal is still\n",
        "$$\\text{logit } pr[Y_{\\bar{a}}=1]=\\beta_0+\\beta_1\\text{cum}(\\bar{a})$$\n",
        "\n",
        "except now $Y_{\\bar a}$ refers to a subject's outcome if the subject has followed treatment history $\\bar a$ and was never censored.\n",
        "\n",
        "We do this by the familiar method of fitting the logistic association (the associational-version of the equation above) using appropriate weights. This time, instead of just the usual stabilized weights, it is $sw_i\\times sw_i^+$ where the latter is the stabilized weight that is the inverse probability of not being censored (math not shown here).\n",
        "\n",
        "Due to this addition, we call our estimator as \"inverse-probability-of-treatment-and-censoring weighted estimator\"."
      ],
      "metadata": {
        "id": "L0SxikjpalFY"
      }
    },
    {
      "cell_type": "markdown",
      "source": [
        "## 11. Limitations of Marginal Structural Models"
      ],
      "metadata": {
        "id": "NmHzJwqUalKJ"
      }
    },
    {
      "cell_type": "markdown",
      "source": [
        "the IPTW estimators will be biased and thus MSMs should not be used in studies in which at each time $k$ there is a covariate level $l_k$ such that all subjects with that level of the covariate are certain to receive the identical treatment $a_k$. Nevertheless, g-estimation of structural nested models can always be used to estimate exposure effects, even in studies in which MSMs cannot be used."
      ],
      "metadata": {
        "id": "2ykw6l3RalNI"
      }
    },
    {
      "cell_type": "markdown",
      "source": [
        "## 12. Conclusion"
      ],
      "metadata": {
        "id": "8dtldO3ugHeB"
      }
    },
    {
      "cell_type": "markdown",
      "source": [
        "The paper has described how to use MSMs to estimate the causal effect of a time-varying exposure or treatment on a dichotomous outcome.\n",
        "\n",
        "In the author's companion paper (Herna´n MA, Brumback B, Robins JM. Marginal structural models to estimate the causal effect of zidovudine on the survival of HIV-positive men.\n",
        "Epidemiology 2000), they extend the results to survival time outcomes and compare and constrast methods based on MSMs to alternative, previously propsed methods, based on g-estimation of structural nested models and on estimation of the g-computation algorithm formula."
      ],
      "metadata": {
        "id": "m89Jd5xigjLx"
      }
    }
  ]
}