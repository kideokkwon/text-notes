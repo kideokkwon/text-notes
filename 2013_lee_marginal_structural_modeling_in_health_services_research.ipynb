{
  "nbformat": 4,
  "nbformat_minor": 0,
  "metadata": {
    "colab": {
      "provenance": [],
      "authorship_tag": "ABX9TyPEfPalB+NLu+OYsFh3zsJx"
    },
    "kernelspec": {
      "name": "python3",
      "display_name": "Python 3"
    },
    "language_info": {
      "name": "python"
    }
  },
  "cells": [
    {
      "cell_type": "markdown",
      "source": [
        "# (Lee, 2013) Marginal Structural Modeling in Health Services Research"
      ],
      "metadata": {
        "id": "BUvUAmcaTcze"
      }
    },
    {
      "cell_type": "markdown",
      "source": [
        "[link](https://www.bu.edu/sph/files/2014/05/Kyung-Lee_tech-report.pdf)"
      ],
      "metadata": {
        "id": "0XN_0GBXTc17"
      }
    },
    {
      "cell_type": "markdown",
      "source": [
        "## Executive Summary"
      ],
      "metadata": {
        "id": "4yzMBlQGTc4G"
      }
    },
    {
      "cell_type": "markdown",
      "source": [
        "Conventional methods for controlling for confounding such as stratification and regression may fail in the presense of time-dependent confounding. Marginal structural modeling, given that there are no unmeasured confounding, the estimates of an MSM can be interpreted as causal."
      ],
      "metadata": {
        "id": "RkubjZUETc6M"
      }
    },
    {
      "cell_type": "markdown",
      "source": [
        "## 1. Introduction"
      ],
      "metadata": {
        "id": "azYFX3b1VNCP"
      }
    },
    {
      "cell_type": "markdown",
      "source": [
        "A practical guide for researchers who wish to use MSM in a relatively quick manner."
      ],
      "metadata": {
        "id": "MmGTtZreVNGw"
      }
    },
    {
      "cell_type": "markdown",
      "source": [
        "## 2. Theory"
      ],
      "metadata": {
        "id": "Ye0uePdCVNJP"
      }
    },
    {
      "cell_type": "markdown",
      "source": [
        "### 2.1 Counterfactuals"
      ],
      "metadata": {
        "id": "ugWtyY4rV1ep"
      }
    },
    {
      "cell_type": "markdown",
      "source": [
        "Marginal structural models estimate the average causal effect of a treatment on potential outcomes (or counterfactuals) by comparing the distributions of $Y_a=1$ and $Y_a=0$ on the aggregate."
      ],
      "metadata": {
        "id": "XgCYuk12V1iZ"
      }
    },
    {
      "cell_type": "markdown",
      "source": [
        "### 2.2 Causal Pathway"
      ],
      "metadata": {
        "id": "WiWbBcO9V1ku"
      }
    },
    {
      "cell_type": "markdown",
      "source": [
        "Treatment $A_t$ is time-dependent when its effect on the outcome varies depending on when it is administered.\n",
        "\n",
        "In a typical DAG that uses MSM, covariates at baseline $L_0$ predict subsequent treatment $A_1$ and also independently predict outcome $Y$. Furthermore, the past treatment history $A_0$ predicts subsequent covariate levels $L_1$ and so on and so forth. MSM uses weighted estimation to adjust for the confounding caused by $L_t$, assuming that there is no unmeasured confounding."
      ],
      "metadata": {
        "id": "W0gX94NxWCk0"
      }
    },
    {
      "cell_type": "markdown",
      "source": [
        "### 2.3 Assumptions"
      ],
      "metadata": {
        "id": "NTDg78UpWCnk"
      }
    },
    {
      "cell_type": "markdown",
      "source": [
        "MSM assumes that there exists no unmeasured confounders. In order for IPTW estimation to consistently estimate teh causal effect of a time-dependent treatment, all relevant confounders should be measured (Robins, 1999).\n",
        "\n",
        "Another critical assumption of MSM is that the probability of treatment must be non-zero. This is the positivity assumption. In practice, even extremely low probabilities of treatment may substantially bias the IPTW estimator (Mortimer et al., 2005)."
      ],
      "metadata": {
        "id": "xc3yLJeoWCqC"
      }
    },
    {
      "cell_type": "markdown",
      "source": [
        "### 2.4 Estimation"
      ],
      "metadata": {
        "id": "VaTk2IFhWtWp"
      }
    },
    {
      "cell_type": "markdown",
      "source": [
        "Several methods have been used to estimate the parameters in MSM including IPTW, doubly robust, and targeted maximum likelihood estimators (Odden et al., 2011).\n",
        "\n",
        "The IPTW estimator is the most commonly used estimator for MSM owing to its ease of implementation using standard statistical software packages (Mortimer et al., 2005). IPTW estimation is a two-stage process. In the first strage, weights are derived for each subject $i$.\n",
        "\n",
        "The weights $w_i$ are simply the inverse of the conditional probability of receiving treatment $A$ given the past treatment history and covariate history:\n",
        "\n",
        "$$w_i=\\prod_{k=0}^t\\frac{1}{\\Pr(A_{ik}=1|\\bar A_{ik-1},\\bar L_{ik})}$$\n",
        "\n",
        "$\\bar A_{k-1}$ denotes treatment history through time $t-1$ and $\\bar L_k$ denotes the covariate history through time $t$.\n",
        "\n",
        "Then, $w_i$ is used to perform a weighted regression analysis in the second stage. Weighting in effect creates a pseudo-population in which no confounding exists by replicating $w_i$ copies of each subject.\n",
        "\n",
        "In practice, we use *stablized weights* $sw_i$ because the estimator can perform inefficiently if $w_i$ has extremely large or small vlaues:\n",
        "\n",
        "$$sw_i=\\prod_{k=0}^t\\frac{\\Pr(A_{ik}=1|\\bar A_{ik-1},L_{i0})}{\\Pr(A_{ik}=1|\\bar A_{ik-1},\\bar L_{ik})}$$\n",
        "\n",
        "Notice that we are replacing the numerator by the conditional probability of the treatment given the past treatment history and the *baseline covariates*.\n",
        "\n",
        "Logistic Regression can be used for binary treatment and OLS regression can be performed for continuous treatment."
      ],
      "metadata": {
        "id": "LCB6soT0WtYt"
      }
    },
    {
      "cell_type": "markdown",
      "source": [
        "### 2.5 Limitations"
      ],
      "metadata": {
        "id": "n5yX-mahWtap"
      }
    },
    {
      "cell_type": "markdown",
      "source": [
        "MSM assumes that the treatment regime is fixed over time. History-adjusted MSM (i.e., generalized MSM) has been proposed as an alternative approach for modeling dynamic treatment regimes.\n",
        "\n",
        "Consistency of the IPTW estimator relies on the assumption of no unmeasured confounders.\n",
        "\n",
        "Misspecification of the treatment model due to omitted confounders in deriving IPTW can cause substantial bias in the subsequent regression model using those weights."
      ],
      "metadata": {
        "id": "SK8yKkcoWCsF"
      }
    },
    {
      "cell_type": "markdown",
      "source": [
        "## 3. Applications"
      ],
      "metadata": {
        "id": "Dv_Vv2j1cSOG"
      }
    },
    {
      "cell_type": "markdown",
      "source": [
        "Cook et al. (2002) examine the effect of aspirin use on cardiovascular deaths.\n",
        "\n",
        "Do, Wang, and Elliot (2012) apply MSM to investigate the effect of neighborhood property on mortality risk."
      ],
      "metadata": {
        "id": "Sx9sx7_qcSQM"
      }
    }
  ]
}