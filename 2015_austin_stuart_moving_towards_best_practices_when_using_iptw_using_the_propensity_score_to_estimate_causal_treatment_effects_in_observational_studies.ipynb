{
  "nbformat": 4,
  "nbformat_minor": 0,
  "metadata": {
    "colab": {
      "provenance": [],
      "authorship_tag": "ABX9TyMbW7AZvVm7DrBKbZR5wH9f"
    },
    "kernelspec": {
      "name": "python3",
      "display_name": "Python 3"
    },
    "language_info": {
      "name": "python"
    }
  },
  "cells": [
    {
      "cell_type": "markdown",
      "source": [
        "# (Austin and Stuart, 2015) Moving towards best practice when using inverse probability of treatment weighting (IPTW) using the propensity score to estimate causal treatment effects in observational studies"
      ],
      "metadata": {
        "id": "QrfF_49KlPwi"
      }
    },
    {
      "cell_type": "markdown",
      "source": [
        "[link](https://www.ncbi.nlm.nih.gov/pmc/articles/PMC4626409/)"
      ],
      "metadata": {
        "id": "UxHpLjTHlPy9"
      }
    },
    {
      "cell_type": "markdown",
      "source": [
        "## Abstract"
      ],
      "metadata": {
        "id": "6WSoVbbLlP1b"
      }
    },
    {
      "cell_type": "markdown",
      "source": [
        "Reports on a systematic literature review, in which the use of IPTW has increased rapidly in recent years but a majority of studies did not formally examine whether weighting balanced measured covariates between treatment groups.\n",
        "\n",
        "Then, describes a suite of quantitative and qualitative methods that allow one to assess whether measured baseline covariates are balanced between treatment groups in the weighted sample.\n",
        "\n",
        "The quantitative methods use the weighted standardized difference to compare means, prevalences, higher-order moments, and interactions.\n",
        "\n",
        "Proposes a formal set of balance diagnostics that contribute towards an evolving concept of 'best practice' when using IPTW to estimate causal treatment effects using observational data."
      ],
      "metadata": {
        "id": "7ZQO0A8qloUZ"
      }
    },
    {
      "cell_type": "markdown",
      "source": [
        "## 1. Introduction"
      ],
      "metadata": {
        "id": "yc2T7Cf2loWr"
      }
    },
    {
      "cell_type": "markdown",
      "source": [
        "The propensity score is defined as the probability of treatment assignment conditional on measured baseline covariates.\n",
        "\n",
        "Propensity score methods are justified by the key property by Rosenbaum and Rubin that conditional on the propensity score, treatment status is independent of measured baseline covariates.\n",
        "\n",
        "Four methods of PS methods:\n",
        "- covariate adjustment using PS\n",
        "- stratification / subclassification on PS\n",
        "- matching on PS\n",
        "- IPTW\n",
        "\n",
        "Rubin states that 'diagnostics for the successful design of observational studies propsed on estimated propensity scores ...is a critically important activity in most observational studies'. Diagnostics have been developed for stratification, matching, and covariate adjustment, but less described for IPTW. These diagnostics are referred to as *balance diagnostics*."
      ],
      "metadata": {
        "id": "6tvktq-AloYo"
      }
    },
    {
      "cell_type": "markdown",
      "source": [
        "## 2. Inverse Probability of Treatment Weighting"
      ],
      "metadata": {
        "id": "0BZFf6H7loaw"
      }
    },
    {
      "cell_type": "markdown",
      "source": [
        "### 2.1 Potential outcomes framework and average treatment effects"
      ],
      "metadata": {
        "id": "xiNieXpqv-P2"
      }
    },
    {
      "cell_type": "markdown",
      "source": [
        "Consider a binary exposure. The potential outcomes framework assumes that each subject $i$ has a pair of potential outcomes: $Y_i(0)$ and $Y_i(1)$.\n",
        "\n",
        "Since each subject receives only one treatment (Assume $Z$ denotes an indicator variable on which treatment a user actually received), the observed outcome is equal to\n",
        "$$Y_i=Z_iY_i(1)+(1-Z_i)Y_i(0)$$\n",
        "\n",
        "For each subject, the effect of treatment is defined as\n",
        "$$Y_i(1)-Y_i(0)$$, the difference between the two potential outcomes.\n",
        "\n",
        "The *average treatment effect (ATE)* is defined to be:\n",
        "$$E[Y_i(1)-Y_i(0)]$$\n",
        "\n",
        "If treatment were assigned at random, then\n",
        "$$E[Y|Z=1]=E[ZY(1)+(1-Z)Y(0)|Z=1]=E[ZY(1)|Z=1]+E[(1-Z)Y(0)|Z=1]=E[Y(1)|Z=1]=E[Y(1)]$$\n",
        "\n",
        "The last equality holds because under randomization, treatment assignment is independent of the potential outcomes\n",
        "$$(Y(1),Y(0))\\perp Z$$\n",
        "\n",
        "Therefore, under randomization,\n",
        "$$E[Y_i(1)-Y_i(0)]=E[Y|Z=1]-E[Y|Z=0]$$"
      ],
      "metadata": {
        "id": "iyHEVK6tv-Sf"
      }
    },
    {
      "cell_type": "markdown",
      "source": [
        "### 2.2 The propensity score and inverse probability of treatment weighting"
      ],
      "metadata": {
        "id": "LZOxbWmuv-UB"
      }
    },
    {
      "cell_type": "markdown",
      "source": [
        "Let $Z$ denote treatment assignment (binary) and let $\\mathbb{X}$ denote a vector of observed baseline covariates.\n",
        "\n",
        "The propensity score is defined as:\n",
        "$$e=P(Z=1|\\mathbb{X})$$\n",
        "\n",
        "The inverse probability of treatment weight is defined as\n",
        "$$w=\\frac{Z}{e}+\\frac{1-Z}{1-e}$$\n",
        "\n",
        "Each subject's weight is equal to the inverse of the probability of receiving the treatment that the subject received.\n",
        "\n",
        "If $Y$ denotes an outcome variable, the average treatment effect (ATE) can be estimated by\n",
        "\n",
        "$$\\frac{1}{n}\\sum_{i=1}^{n}\\frac{Z_iY_i}{e_i}-\\frac{1}{n}\\sum_{i=1}^{n}\\frac{(1-Z_i)Y_i}{1-e_i}$$ where $n$ denotes the number of subjects.\n",
        "\n",
        "An alternate estimator of the ATE is:\n",
        "$$\\frac{\\sum_{i=1}^n\\frac{Z_iY_i}{e_i}}{\\sum_{i=1}^n\\frac{Z_i}{e_i}}-\\frac{\\sum_{i=1}^n\\frac{(1-Z_i)Y_i}{1-e_i}}{\\sum_{i=1}^n\\frac{1-Z_i}{1-e_i}}$$\n",
        "\n",
        "When the propensity score model is correctly specified, the both estimators are consistent estimators of the true treatment effect. However, it is also said that in a study of empirical studies, in general, the variance of the former estimator is greater than that of the latter estimator.\n",
        "\n",
        "Weighting by the inverse probability of treatment results in an artificial population in which baseline covariates are independent of treatment status. Regression models can be combined with weighting by the inverse probability of treatment to estimate causal treatment effects.\n",
        "\n",
        "However, methods that account for the weighting must be used in estimating variances and significance levels such as robust, sandwich-type variance estimators toaccount for the fact that the weights are estimated, rather than known with certainty. Other alternatives to variance estimation include bootstrap-based methods.\n",
        "\n",
        "A difficulty that can arise is that treated subjects with a very low propensity score can result in a very large weight (or a controlsubject with a propensity score close to one)\n",
        "\n",
        "Such weights can increase the variability of the estimated treatment effect. An alternative to the conventional weights is to use stabilized weights:\n",
        "\n",
        "$$w=\\frac{Z\\Pr(Z=1)}{e}+\\frac{(1-Z)\\Pr(Z=0)}{1-e}$$\n",
        "\n",
        "Another alternative to address the problems that can arise with very large weights is to use trimmed or truncated weights, in which weights that exceed a specified threshold are each set to that threshold. The threshold is often based on quantiles of the distribution of the weights (e.g., the 1st and 99th percentiles).\n",
        "\n"
      ],
      "metadata": {
        "id": "79r4zI4CyO2d"
      }
    },
    {
      "cell_type": "markdown",
      "source": [
        "### 2.3 Variable selection for the propensity score model"
      ],
      "metadata": {
        "id": "DaQPOoU7yO4v"
      }
    },
    {
      "cell_type": "markdown",
      "source": [
        "A natural question that arises is what variables should be included in the propensity score model.\n",
        "\n",
        "It is more important to balance prognostically important covariates than those covariates that influence treatment selection but have no effect on the outcome. Indeed, prior evidence has suggested that it is preferable to include either the prognostically important covariates (those related to outcomes) or the confounding covariates (those related to treatment and outcomes) in the propensity score model than to include those variables that affect the treatment-selection process. In addition, it is known that conditioning on instruments can result in increased bias and variance of the treatment effect estimate.\n",
        "\n",
        "The identification of the set of variables that are prognostically important or that confound the treatment-outcome relationship can be identified using causal diagrams in conjunction with a review of the subject-matter literature and expert opinion."
      ],
      "metadata": {
        "id": "SVF2of8PByiO"
      }
    },
    {
      "cell_type": "markdown",
      "source": [
        "### 2.4 Assumptions of propensity score methods"
      ],
      "metadata": {
        "id": "PHgHm0ncByj7"
      }
    },
    {
      "cell_type": "markdown",
      "source": [
        "Causal inference using the propensity score requires 4 assumptions:\n",
        "- consistency\n",
        "- exchangeability (i.e., ignorable treatment assignment) - this cannot be formally tested\n",
        "- positivity\n",
        "- no misspecification of the propensity score model\n",
        "\n",
        "We focus on assessing balance of measured covariates between treated and control subjects in the weighted sample upon using a propensity model to weigh our subjects.\n"
      ],
      "metadata": {
        "id": "sTgsGlw-Do7z"
      }
    },
    {
      "cell_type": "markdown",
      "source": [
        "## 3. Literature review of the use of balance diagnostic with IPTW in the applied medical literature"
      ],
      "metadata": {
        "id": "7Cv7LHQdDo98"
      }
    },
    {
      "cell_type": "markdown",
      "source": [
        "### 3.1 Methods"
      ],
      "metadata": {
        "id": "V0qXPXalEpSi"
      }
    },
    {
      "cell_type": "markdown",
      "source": [
        "Searched on Web of Science using various filters starting from 1987 to 2014 (1987 is the year in which Rosenbaum's original article on inverse probability of treatment weighting was published)"
      ],
      "metadata": {
        "id": "KcNqyQZfEpYn"
      }
    },
    {
      "cell_type": "markdown",
      "source": [
        "### 3.2 Results"
      ],
      "metadata": {
        "id": "8sY_SP8IlP4B"
      }
    },
    {
      "cell_type": "markdown",
      "source": [
        "About 10% presented some assessment of the distribution of weights, while 48% assessed the distribution of baseline covariates after implementing IPTW. Only two studies (out of 29) conducted an assessment of baseline covariate balance and examined the distribution of the weights.\n",
        "\n",
        "Out of 3 that assessed distribution of weights, one computed the mean and standard deviation of the weights, as well as reported the range of weights. Some conducted separate analyses using conventional, standardized, and trimmed weights.\n",
        "\n",
        "Many uses standardized differences in the weighted sample, the Kolmogorov-Smirnov statistic, a crude comparison of baseline characteristics, and statistical testing in the weighted sample.\n",
        "\n",
        "Note that several authors incorrectly defined the weights as the reciprocal of the propensity score, rather than the reciprocal of the probability of receiving the treatment that was actually received."
      ],
      "metadata": {
        "id": "HchwrE8VJvd3"
      }
    },
    {
      "cell_type": "markdown",
      "source": [
        "## 4. IPTW diagnostics"
      ],
      "metadata": {
        "id": "99bPpLojJvgO"
      }
    },
    {
      "cell_type": "markdown",
      "source": [
        "### 4.1 Balance diagnostics"
      ],
      "metadata": {
        "id": "MnuhoLNPaTbC"
      }
    },
    {
      "cell_type": "markdown",
      "source": [
        "The objective of IPTW analyses is to create a weighted sample in which the distribution of either the confounding variables or the prognostically important covariates is the same between treated and control subjects.\n",
        "\n",
        "**4.1.1 Comparison of means and proportions of baseline variables**\n",
        "\n",
        "compares means of observed baseline covariates between treated and control subjects in the weighted sample.\n",
        "\n",
        "For a continuous variable, let $\\bar x_{\\text{treat}}$ and $\\bar x_{\\text{control}}$ denote the sample mean of $X$ in treated and control subjects, while $s_{\\text{treat}}^2$ and $s_{\\text{control}}^2$ denote the sample variance of $X$ in treated and control subjects, respectively.\n",
        "\n",
        "Similarly, for a dichotomous variable, $\\hat p_{\\text{treat}}$ and $\\hat p_{\\text{control}}$ denote the sample prevalence of the variable in treated and control subjects, respectively. In an unweighted sample, the standardized difference is defined as\n",
        "\n",
        "$$d=100\\times\\frac{(\\bar x_{\\text{treat}}-\\bar x_{\\text{control}})}{\\sqrt{\\frac{s_{\\text{treat}}^2+s_{\\text{control}}^2}{2}}}$$\n",
        "\n",
        "for continuous variables.\n",
        "\n",
        "For dichotomous variables the standardized difference is defined as\n",
        "\n",
        "$$d=100\\times\\frac{(\\hat p_{\\text{treat}}-\\hat p_{\\text{control}})}{\\sqrt{\\frac{\\hat p_{\\text{treat}}(1-\\hat p_{\\text{treat}})+\\hat p_{\\text{control}}(1-\\hat p_{\\text{control}})}{2}}}$$\n",
        "\n",
        "The standardized difference compares the difference in means in units of the pooled standard deviation.\n",
        "\n",
        "Unlike $t$-tests and other statistical tests of hypothesis, the standard difference is not influenced by sample size.\n",
        "\n",
        "Of-course, the above formula should use weighted versions of their estimates, such as the *weighted* sample means, for example,\n",
        "$$\\bar x_{\\text{weight}}=\\frac{\\sum w_ix_i}{\\sum w_i}$$\n",
        "\n",
        "**4.1.2 Comparison of interactions and higher-order moments of continuous variables**\n",
        "\n",
        "We also want balance in higher-order moments and interactions between variables.\n",
        "\n",
        "standardized differences of higher-order momments should be checked. Copmaring the mean of squares of continuous variables is equivalent to comparing the variance of that variable between treatment groups.\n",
        "\n",
        "**4.1.3 Graphical comparisons of the distribution of continuous variables**\n",
        "\n",
        "As the moments of a distribution may not tell the whole story, we can also rely on graphical methods that permit a broader, qualitative comparison of the distribution of a continuous variable between two groups in a sample that has been weighted by the inverse probability of treatment.\n",
        "\n",
        "side-by-side boxplots and empirical cumulative distribution functions (eCDFs) can be used to compare the distribution of continuous baseline covariates between treated and control subjects in the weighted sample.\n",
        "\n",
        "**4.1.4 Numerical comparisons of the distribution of continuous variables**\n",
        "\n",
        "The limitation is that it relies on a subjective comparison of graphs. This section proposes a numerical method for comparing the distribution.The Kolmogorov-Smirnov test permits a formal comparison of the distribution of a continuous variable between two independent groups. The test statistic is defined to be the maximal vertical distance between the two empirical CDFs of the variable in the two groups. The use of the Kolmogorov-Smirnov test statistic permits a quantification of the difference in the distribution of a continuous baseline covariate between treated and control subjects.\n",
        "\n",
        "However, analysts should restrict their use of this method to estimation of the test statistic rather than use it for formal hypothesis testing to detect statistically significant differences in the distribution of the covariate between treatment groups. This is because authors have suggested that the balance-test fallacy precludes the use of hypothesis testing when conducting balance assessment. This is because one is interested in assessing the balance in a particular samle rather than in the super-population that the sample was drawn. Furthermore, while the KS test statistic can be computed when using weighted data, it is unclear if there is a statistical test that permits one to formally use the weighted test statistic to test whether the distribution is different between two groups.\n",
        "\n"
      ],
      "metadata": {
        "id": "lxgPPILvaTdF"
      }
    },
    {
      "cell_type": "markdown",
      "source": [
        "### 4.2 Diagnostics for assessing the positivity assumption"
      ],
      "metadata": {
        "id": "fctJd53fJvix"
      }
    },
    {
      "cell_type": "markdown",
      "source": [
        "Cole and Hernan suggest that if the mean of the stabilized weights is far from one or if there are very extreme values, then this can be indicative of non-positivity or that the propensity score model has been misspecified."
      ],
      "metadata": {
        "id": "oAW0qfFkqePh"
      }
    },
    {
      "cell_type": "markdown",
      "source": [
        "## 5 Case Study"
      ],
      "metadata": {
        "id": "D9Tiz3YvqeRr"
      }
    },
    {
      "cell_type": "markdown",
      "source": [
        "### 5.1 Data sources"
      ],
      "metadata": {
        "id": "HN1ngwpfriy6"
      }
    },
    {
      "cell_type": "markdown",
      "source": [
        "Data on 9107 patients discharged alive with an acute myocardial infarction from 102 hospitals in Ontario, Canada."
      ],
      "metadata": {
        "id": "XLFgey_xri5s"
      }
    },
    {
      "cell_type": "markdown",
      "source": [
        "### 5.2 IPTW diagnostics"
      ],
      "metadata": {
        "id": "bW780CK6s_zN"
      }
    },
    {
      "cell_type": "markdown",
      "source": [
        "Estimated using a logistic regression model in which treatment assignment was regressed on 24 covariates. Considered two diff. specifications of the PS model:\n",
        "\n",
        "1. each covariate entered the PS model as a main effect only. For the 11 continous covariates, it was assumed that each covariate was lihnearly related to the log-odds of receiving a prescription for a beta-blocker at a hospital discharge.\n",
        "2. Restricted cubic smoothing splines with five knots were used to model the relationship between each of the continuous variables and the log-odds of treatment.\n",
        "\n",
        "Refer to the two specifications as simple and complex specifications, respectively.\n",
        "\n",
        "Stabilized weights were then computed.\n",
        "\n",
        "**5.2.1 Diagnostics based on stabilized weights**\n",
        "\n",
        "large weights bad\n",
        "\n",
        "**5.2.2 Comparison of means and prevalences in the weighted sample**\n",
        "\n",
        "showed using standaredized mean differences that balance was achieved\n",
        "\n",
        "**5.2.3 Comparison of higher-order moments and interactions**\n",
        "\n",
        "checked higher order moments and interactions between pairs of continuous variables\n",
        "\n",
        "**5.2.4 Graphical comparisons of the distribution of continuous covariates**\n",
        "\n",
        "boxplots of continuous variables and empirical cdfs\n",
        "\n",
        "Note that when the interquartile range is very small compared with the range of the data, the box portion of the plot can be very compressed and make it difficult to qualitatively compare the similarity of the two boxplots. However, the cumulative distributrion plots do not suffer from this limitation.\n",
        "\n",
        "In order to address the difficulty of interpreting the boxplots of creatinine, we can also compare the distribution of the natural logarithm (thereby reducing the influence of extreme observations on the interpretability of the boxplots).\n",
        "\n",
        "**5.2.5 Kolmogorov-Smirnov test statistic for comparing distribution of baseline covariates between treatment groups**"
      ],
      "metadata": {
        "id": "cgmQZSL2s_23"
      }
    },
    {
      "cell_type": "markdown",
      "source": [
        "## 6. Discussion"
      ],
      "metadata": {
        "id": "11xKbTxczQVR"
      }
    },
    {
      "cell_type": "markdown",
      "source": [
        "Applied researchers commonly do not use appropriate diagnostics.\n",
        "\n",
        "However, at the same time, the interpretation of balance diagnostics is, to a certain extent, inehrently subjective. The degree of imbalance that is acceptable likely depends on the magnitude of the effect of the covariate on the outcome. Thus, greater imbalance may be acceptable for covariates that are weakly prognostic than for covariates that are strongly prognostic."
      ],
      "metadata": {
        "id": "458Upi3uuxaN"
      }
    }
  ]
}