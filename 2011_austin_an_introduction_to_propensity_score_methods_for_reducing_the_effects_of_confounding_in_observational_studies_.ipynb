{
  "nbformat": 4,
  "nbformat_minor": 0,
  "metadata": {
    "colab": {
      "provenance": [],
      "authorship_tag": "ABX9TyPUPYg/dLxw3cted5I8oyYH"
    },
    "kernelspec": {
      "name": "python3",
      "display_name": "Python 3"
    },
    "language_info": {
      "name": "python"
    }
  },
  "cells": [
    {
      "cell_type": "markdown",
      "source": [
        "# (Austin, 2011) An Introduction to Propensity Score Methods for Reducing the Effects of Confounding in Observational Studies"
      ],
      "metadata": {
        "id": "Cy22UuAXTY_p"
      }
    },
    {
      "cell_type": "markdown",
      "source": [
        "As always - some notes I took from the paper that I found to be most important or notable. I always try to keep these notes short, otherwise it's easier to just reference the paper directly. Of course, *how* short is difficult to say as papers can vary drastically in length.\n",
        "\n",
        "In addition, I like to add my own notes here and there when I deem it as necessary to help with understanding the text.\n",
        "\n",
        "https://www.ncbi.nlm.nih.gov/pmc/articles/PMC3144483/"
      ],
      "metadata": {
        "id": "TuTO6tBlcz61"
      }
    },
    {
      "cell_type": "markdown",
      "source": [
        "## Abstract"
      ],
      "metadata": {
        "id": "UrKesb2ZTZCF"
      }
    },
    {
      "cell_type": "markdown",
      "source": [
        "## Randomized Controlled Trials Versus Observational Studies"
      ],
      "metadata": {
        "id": "u1g3uEHIUMqV"
      }
    },
    {
      "cell_type": "markdown",
      "source": [
        "## The Propensity Score and Propensity Score Methods"
      ],
      "metadata": {
        "id": "1w6vosLtUMsp"
      }
    },
    {
      "cell_type": "markdown",
      "source": [
        "Defined by Rosenbaum and Rubin (1983a) as the probability of treatment assignment conditional on observed baseline covariates:\n",
        "$$e_i=Pr(Z_i=1|X_i)$$\n",
        "\n",
        "This is a balancing score: conditional on the propensity score, the distribution of measured baseline covariates is similar between treated and untreated subjects.\n",
        "\n",
        "In a randomized experiment, the true propensity score is known and defined by the study design.\n",
        "\n",
        "In observational studies, the true score is not known (generally), and is estimated using the study data, often using logistic regression, although the following methods have been examined too:\n",
        "- bagging/boosting (2010; 2004)\n",
        "- recursive partitioning or tree-based methods (2010; 2008)\n",
        "- random forests (2010)\n",
        "- neural networks (2008)\n",
        "\n",
        "There are 4 different methods that use propensity score:\n",
        "- Propensity score matching\n",
        "- Stratification (on the propensity score)\n",
        "- Inverse probability of treatment weighting (IPTW)\n",
        "- covariate adjustment w/ propensity score\n",
        "\n",
        "It was shown by Rosenbaum and Rubin (1983a) define treatment assignment to be strongly \"ignorable\" if the following 2 conditions hold:\n",
        "- $(Y(1),Y(0))\\perp Z|X$\n",
        "- $0< P(Z=1|X)< 1$\n",
        "\n",
        ">My note: You'll notice that they combine the conditions conditional exchangeability and positivity here to create the definition \"ignorability\"\n",
        "\n",
        "In other words, they showed that you can achieve causal identification with the propensity score that is built on the covariates instead of just the covariates directly. Of course, it's important to note that they mean the true propensity score here, not the estimated.\n",
        "\n",
        "### Propensity Score Matching\n",
        "\n",
        ">My note: they describe 1:1 PSM here - I won't go into detail since you can get a better read from ([King and Nielsen, 2019](https://gking.harvard.edu/sites/scholar.harvard.edu/files/gking/files/pan1900011_rev.pdf)). I will note though - the methods described in this section isn't unique to propensity scores so they are concepts that can be applied to other distance measures such as mahalanobis distance.\n",
        "\n",
        "### Stratification on the Propensity Score\n",
        "\n",
        "Involves stratifying subjects into mutually exclusive subsets based on their estimated propensity score. Increasing the # of strata used should result in improved bias reduction, although the marginal reduction in bias decreases as the number of strata increases.\n",
        "\n",
        "### IPTW\n",
        "\n",
        "Uses weights based on the propensity score to create a synthetic sample in which the distribution of measured baseline covariates is independent of treatment assignment.\n",
        "\n",
        "Weights can be defined as:\n",
        "$$w_i=\\frac{Z_i}{e_i}+\\frac{(1-Z_i)}{1-e_i}$$\n",
        "\n",
        "where $Z_i$ be an indicator variable denoting whether or not the $i$th subject was treated.\n",
        "\n",
        "So, if $Z_i=1$, then $w_i=\\frac{1}{e_i}$.\n",
        "\n",
        "One estimate of the ATE is:\n",
        "$$\\frac{1}{n}\\sum_{i=1}^{n}\\frac{Z_iY_i}{e_i}-\\frac{1}{n}\\sum_{i=1}^{n}\\frac{(1-Z_i)Y_i}{1-e_i}$$\n",
        "\n",
        "Thus, one can think of weighting as changing the importance of each user's value based on the inverse of the propensity score to even out the propensity scores across the treatment and control.\n",
        "\n",
        "Interestingly, regression models can be weighted by the inverse probability of treatment to estimate causal effects. When used in this context, IPTW is part of a larger family of causal methods known as marginal structural model.\n",
        "\n",
        "Also, since the weights may be inaccurate or unstable for subjects with low probability of receiving the treatment, the use of stabilizing weights have been proposed (2000).\n",
        "\n",
        "### Covariate Adjustment Using the Propensity Score\n",
        "\n",
        "Outcome regression: `lm(Y~Z+e)`\n",
        "\n",
        "This method assumes that the relationship between the propensity score and the outcome has been correctly modeled (e.g., linear)\n",
        "\n",
        "### Comparison of the Different Propensity Score Methods\n",
        "\n",
        "While performances may differ based on the analysis, IPTW and PSM seem the most promising out of the 4.\n",
        "\n",
        "\n",
        "\n",
        "\n"
      ],
      "metadata": {
        "id": "jCcN1a5mUMvF"
      }
    },
    {
      "cell_type": "markdown",
      "source": [
        "## Balance Diagnostics"
      ],
      "metadata": {
        "id": "07RjOZI6diSD"
      }
    },
    {
      "cell_type": "markdown",
      "source": [
        "Comparing the similarity of treated and untreated subjects in the matched sample should begin with a comparison of the means or medians of continuous covariates and the distributions of their categorical counterparts between treated and untreated subjects.\n",
        "\n",
        "The *standardized* difference can be used to compare the mean of continuous and binary variables between treatment groups (multilevel categorical variables can be represented using a set of binary indicator variables)\n",
        "\n",
        "For a continuous covariate, the standardized difference is defined as:\n",
        "\n",
        "$$d=\\frac{\\bar{x}_{\\text{treat}}-\\bar{x}_{\\text{control}}}{\\sqrt{\\frac{s_{\\text{treat}}^2-s_{\\text{control}}^2}{2}}}$$\n",
        "\n",
        "For dichotomous variables, the standardized difference is:\n",
        "\n",
        "$$d=\\frac{\\hat{p}_{\\text{treat}}-\\hat{p}_{\\text{control}}}{\\sqrt{\\frac{\\hat{p}_{\\text{treat}}(1-\\hat{p}_{\\text{treat}})-\\hat{p}_{\\text{control}}(1-\\hat{p}_{\\text{control}})}{2}}}$$\n",
        "\n",
        "While there is no universally accepted threshold for what constitutes good balance, a standardized difference less than 0.1 has been taken to indicate a negligible difference (2001).\n",
        "\n",
        "Note that using statistical significance to compare the balance has been heavily criticized because significance levels are confounded with sample size."
      ],
      "metadata": {
        "id": "s925l5uEdiUY"
      }
    },
    {
      "cell_type": "markdown",
      "source": [
        "## Variable Selection for the Propensity Score Model"
      ],
      "metadata": {
        "id": "ZkrkdbDYdiWx"
      }
    },
    {
      "cell_type": "markdown",
      "source": [
        "## Propensity Score Methods Versus Regression Adjustment"
      ],
      "metadata": {
        "id": "4zdVNDBvtLdx"
      }
    },
    {
      "cell_type": "markdown",
      "source": [
        "Note that a measure of treatment effect is said to be *collapsible* if the conditional and marginal effects coincide.\n",
        "\n",
        ">My note: Overall, this paper suggests that generally speaking regression adjustment is inferior, due to the issue of model specification in regression as well as higher risk of human-induced \"cheating\" in regression adjustment. However, as this paper is from 2011, it does not discuss a more recent suggestion that we should use both at the same time to be doubly robust.\n",
        "\n"
      ],
      "metadata": {
        "id": "9KpmqUudtLgH"
      }
    },
    {
      "cell_type": "markdown",
      "source": [
        "## Discussion"
      ],
      "metadata": {
        "id": "x2Cc0BHjtLil"
      }
    }
  ]
}